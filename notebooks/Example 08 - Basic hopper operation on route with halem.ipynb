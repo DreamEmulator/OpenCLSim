{
 "cells": [
  {
   "cell_type": "markdown",
   "metadata": {},
   "source": [
    "## Example 05 - Basic Hopper Operation on Route"
   ]
  },
  {
   "cell_type": "markdown",
   "metadata": {},
   "source": [
    "**Example description:** Example of a trailing suction hopper dredge shipping sediment from origin to destination site while following a graph for sailing full and sailing empty."
   ]
  },
  {
   "cell_type": "markdown",
   "metadata": {},
   "source": [
    "* [**0. Import required libraries:**](#0.-Import-required-libraries)<br>\n",
    "* [**1. Define work method:**](#1.-Define-work-method)<br>\n",
    "   * [**1.1 Sites:**](#1.1-Define-the-project-sites)<br>\n",
    "   * [**1.2 Equipment:**](#1.2-Define-the-project-equipment)<br>\n",
    "   * [**1.3 Activities:**](#1.3-Define-the-activity)<br>\n",
    "* [**2. Run the simulation:**](#2.-Run-the-simulation)<br>\n",
    "* [**3. Post processing:**](#3.-Postprocessing)<br>"
   ]
  },
  {
   "cell_type": "markdown",
   "metadata": {},
   "source": [
    "## 0. Import required libraries"
   ]
  },
  {
   "cell_type": "code",
   "execution_count": 1,
   "metadata": {},
   "outputs": [],
   "source": [
    "# package(s) related to time, space and id\n",
    "import datetime, time\n",
    "import platform\n",
    "\n",
    "# you need these dependencies (you can get these from anaconda)\n",
    "# package(s) related to the simulation\n",
    "import simpy\n",
    "\n",
    "# spatial libraries \n",
    "import shapely.geometry\n",
    "from simplekml import Kml, Style\n",
    "\n",
    "# package(s) for data handling\n",
    "import numpy as np\n",
    "\n",
    "# digital twin package\n",
    "import digital_twin.core as core\n",
    "import digital_twin.model as model\n",
    "import digital_twin.plot as plot\n",
    "\n",
    "# Used for making the graph to visualize our problem\n",
    "import networkx as nx\n",
    "\n",
    "import halem\n",
    "import pickle"
   ]
  },
  {
   "cell_type": "code",
   "execution_count": 2,
   "metadata": {},
   "outputs": [],
   "source": [
    "# Create simulation environment\n",
    "\n",
    "t0 = '17/04/2019 01:00:00'\n",
    "d = datetime.datetime.strptime(t0, \"%d/%m/%Y %H:%M:%S\")\n",
    "t0 = d.timestamp()\n",
    "\n",
    "simulation_start = datetime.datetime.fromtimestamp(t0)\n",
    "\n",
    "my_env = simpy.Environment(initial_time = time.mktime(simulation_start.timetuple()))\n",
    "my_env.epoch = time.mktime(simulation_start.timetuple())"
   ]
  },
  {
   "cell_type": "markdown",
   "metadata": {},
   "source": [
    "## 1. Define work method"
   ]
  },
  {
   "cell_type": "markdown",
   "metadata": {},
   "source": [
    "### 1.1 Define the project sites\n",
    "You can specify a project site object by entering mix-ins:\n",
    "\n",
    "    core.Identifiable - enables you to give the object a name\n",
    "    core.Log - enables you to log all discrete events in which the object is involved\n",
    "    core.Locatable - enables you to add coordinates to extract distance information and visualize\n",
    "    core.HasContainer - enables you to add information on the material available at the site\n",
    "    core.HasResource - enables you to add information on serving equipment\n",
    "    core.HasWeather - enables you to add weather conditions"
   ]
  },
  {
   "cell_type": "markdown",
   "metadata": {},
   "source": [
    "#### Create objects and specify the properties for sites you wish to create"
   ]
  },
  {
   "cell_type": "code",
   "execution_count": 3,
   "metadata": {},
   "outputs": [],
   "source": [
    "def connect_sites_with_path(data_from_site, data_to_site, data_node, path):\n",
    "    Nodes = []\n",
    "    Edges = []\n",
    "    Site = type('Site', (core.Identifiable, # Give it a name\n",
    "             core.Log,          # Allow logging of all discrete events\n",
    "             core.Locatable,    # Add coordinates to extract distance information and visualize\n",
    "             core.HasContainer, # Add information on the material available at the site\n",
    "             core.HasResource), # Add information on serving equipment\n",
    "    {})                         # The dictionary is empty because the site type is generic\n",
    "\n",
    "    Node = type('Node', (core.Identifiable, # Give it a name\n",
    "             core.Log,          # Allow logging of all discrete events\n",
    "             core.Locatable),   # Add coordinates to extract distance information and visualize\n",
    "    {})                         # The dictionary is empty because the site type is generic\n",
    "\n",
    "    for i, j in enumerate(path):\n",
    "        if i == 0:\n",
    "            data_from_site[\"geometry\"]=shapely.geometry.Point(path[i][0], path[i][1])\n",
    "            Nodes.append(Site(**data_from_site))\n",
    "\n",
    "        elif i == len(path) - 1:\n",
    "            data_to_site[\"geometry\"]=shapely.geometry.Point(path[i][0], path[i][1])\n",
    "            Nodes.append(Site(**data_to_site))\n",
    "            Edges.append([Nodes[i-1], Nodes[i]])\n",
    "            \n",
    "        else:\n",
    "            data_node[\"geometry\"]=shapely.geometry.Point(path[i][0], path[i][1])\n",
    "            data_node[\"name\"]='node-' + str(i)\n",
    "            Nodes.append(Node(**data_node))\n",
    "            Edges.append([Nodes[i-1], Nodes[i]])\n",
    "            \n",
    "    return Nodes, Edges"
   ]
  },
  {
   "cell_type": "code",
   "execution_count": 4,
   "metadata": {},
   "outputs": [],
   "source": [
    "data_from_site = {\"env\": my_env,                  # The simpy environment defined in the first cel\n",
    "                  \"name\": \"Winlocatie\",           # The name of the site\n",
    "                  \"geometry\": [],                 # The coordinates of the project site\n",
    "                  \"capacity\": 20_000,            # The capacity of the site\n",
    "                  \"level\": 20_000}               # The actual volume of the site\n",
    "\n",
    "data_node = {\"env\": my_env,                      # The simpy environment defined in the first cel\n",
    "                 \"name\": \"Intermediate site\",     # The name of the site\n",
    "                 \"geometry\": []}                  # The coordinates of the project site\n",
    "\n",
    "data_to_site = {\"env\": my_env,                    # The simpy environment defined in the first cel\n",
    "                \"name\": \"Dumplocatie\",            # The name of the site\n",
    "                \"geometry\": [],                   # The coordinates of the project site\n",
    "                \"capacity\": 20_000,              # The capacity of the site\n",
    "                \"level\": 0}                       # The actual volume of the site (empty of course)"
   ]
  },
  {
   "cell_type": "code",
   "execution_count": 5,
   "metadata": {},
   "outputs": [],
   "source": [
    "path = [[4.788699, 52.970919],\n",
    "        [4.568443, 52.922208],\n",
    "        [4.541166, 53.093619],\n",
    "       ]"
   ]
  },
  {
   "cell_type": "markdown",
   "metadata": {},
   "source": [
    "#### Finally create specific instances of the predefined objects with the specified properties"
   ]
  },
  {
   "cell_type": "code",
   "execution_count": 6,
   "metadata": {},
   "outputs": [],
   "source": [
    "Nodes, Edges = connect_sites_with_path(data_from_site, data_to_site, data_node, path)"
   ]
  },
  {
   "cell_type": "markdown",
   "metadata": {},
   "source": [
    "#### Create graph"
   ]
  },
  {
   "cell_type": "code",
   "execution_count": 7,
   "metadata": {},
   "outputs": [
    {
     "name": "stdout",
     "output_type": "stream",
     "text": [
      "Winlocatie\n",
      "node-1\n",
      "Dumplocatie\n",
      "Winlocatie - node-1\n",
      "node-1 - Dumplocatie\n"
     ]
    },
    {
     "name": "stderr",
     "output_type": "stream",
     "text": [
      "C:\\ProgramData\\Anaconda3\\lib\\site-packages\\networkx\\drawing\\nx_pylab.py:611: MatplotlibDeprecationWarning:\n",
      "\n",
      "isinstance(..., numbers.Number)\n",
      "\n"
     ]
    },
    {
     "data": {
      "image/png": "[encoded data removed]",
      "text/plain": [
       "<Figure size 432x288 with 1 Axes>"
      ]
     },
     "metadata": {},
     "output_type": "display_data"
    }
   ],
   "source": [
    "FG = nx.Graph()\n",
    "\n",
    "positions = {}\n",
    "for node in Nodes:\n",
    "    print(node.name)\n",
    "    positions[node.name] = (node.geometry.x, node.geometry.y)\n",
    "    FG.add_node(node.name, geometry = node.geometry)\n",
    "\n",
    "\n",
    "for edge in Edges:\n",
    "    print(edge[0].name + ' - ' + edge[1].name)\n",
    "    FG.add_edge(edge[0].name, edge[1].name, weight = 1)\n",
    "\n",
    "nx.draw(FG, positions)"
   ]
  },
  {
   "cell_type": "markdown",
   "metadata": {},
   "source": [
    "### 1.2 Define the project equipment\n",
    "You can specify a vessel object by entering mix-ins:\n",
    "\n",
    "    core.Identifiable - enables you to give the object a name\n",
    "    core.Log - enables you to log all discrete events in which the object is involved\n",
    "    core.ContainerDependentMovable - A moving container, so capacity and location\n",
    "    core.Processor - Allow for loading and unloading\n",
    "    core.HasResource - Add information on serving equipment\n",
    "    core.HasDepthRestriction - Add information on depth restriction "
   ]
  },
  {
   "cell_type": "markdown",
   "metadata": {},
   "source": [
    "#### First create objects with the desired properties"
   ]
  },
  {
   "cell_type": "code",
   "execution_count": 8,
   "metadata": {},
   "outputs": [],
   "source": [
    "# The generic class for an object that can move and transport (a TSHD for example)\n",
    "TransportProcessingResource = type('TransportProcessingResource', \n",
    "                                   (core.Identifiable,              # Give it a name\n",
    "                                    core.Log,                       # Allow logging of all discrete events\n",
    "                                    core.ContainerDependentMovable, # A moving container, so capacity and location\n",
    "                                    core.Processor,                 # Allow for loading and unloading\n",
    "                                    core.HasResource,               # Add information on serving equipment\n",
    "                                    core.Routeable),                 # Initialize spill terms\n",
    "                                   {})"
   ]
  },
  {
   "cell_type": "markdown",
   "metadata": {},
   "source": [
    "#### Next specify the properties for vessel(s) you wish to create"
   ]
  },
  {
   "cell_type": "code",
   "execution_count": 9,
   "metadata": {},
   "outputs": [],
   "source": [
    "# For more realistic simulation you might want to have speed dependent on the volume carried by the vessel\n",
    "def compute_v_provider(v_empty, v_full):\n",
    "    return lambda x: x * (v_full - v_empty) + v_empty\n",
    "\n",
    "def compute_loading(rate):\n",
    "    return lambda current_level, desired_level: (desired_level - current_level) / rate\n",
    "\n",
    "def compute_unloading(rate):\n",
    "    return lambda current_level, desired_level: (current_level - desired_level) / rate"
   ]
  },
  {
   "cell_type": "code",
   "execution_count": 10,
   "metadata": {},
   "outputs": [],
   "source": [
    "route = []\n",
    "\n",
    "# TSHD variables\n",
    "data_hopper = {\"env\": my_env,                                       # The simpy environment \n",
    "               \"name\": \"Hopper 01\",                                 # Name\n",
    "               \"geometry\": Nodes[0].geometry,                       # It starts at the \"from site\"\n",
    "               \"loading_func\": compute_loading(1.5),                # Loading rate\n",
    "               \"unloading_func\": compute_unloading(1.5),            # Unloading rate\n",
    "               \"capacity\": 5_000,                                   # Capacity of the hopper - \"Beunvolume\"\n",
    "               \"compute_v\": compute_v_provider(7, 5),               # Variable speed\n",
    "               \"route\": route,\n",
    "               \"Optimize_Route\": True,                              # Optimize the Route\n",
    "               \"Optimization_type\": 'time'                          # Optimize for the fastest path\n",
    "              }"
   ]
  },
  {
   "cell_type": "markdown",
   "metadata": {},
   "source": [
    "#### Finally create specific instances of the predefined objects with the specified properties"
   ]
  },
  {
   "cell_type": "code",
   "execution_count": 11,
   "metadata": {},
   "outputs": [],
   "source": [
    "# The simulation object\n",
    "hopper = TransportProcessingResource(**data_hopper)"
   ]
  },
  {
   "cell_type": "markdown",
   "metadata": {},
   "source": [
    "### 1.3 Define the activity"
   ]
  },
  {
   "cell_type": "code",
   "execution_count": 12,
   "metadata": {},
   "outputs": [],
   "source": [
    "# Create activity\n",
    "activity = model.Activity(env = my_env,             # The simpy environment defined in the first cel\n",
    "                          name = \"Soil movement\",   # We are moving soil\n",
    "                          origin = Nodes[0],        # We originate from the from_site\n",
    "                          destination = Nodes[-1],  # And therefore travel to the to_site\n",
    "                          loader = hopper,          # The benefit of a TSHD, all steps can be done\n",
    "                          mover = hopper,           # The benefit of a TSHD, all steps can be done\n",
    "                          unloader = hopper,        # The benefit of a TSHD, all steps can be done\n",
    "                          start_event = None,       # We can start right away\n",
    "                          stop_event = None)        # We stop once there is nothing more to move"
   ]
  },
  {
   "cell_type": "code",
   "execution_count": 13,
   "metadata": {},
   "outputs": [
    {
     "name": "stdout",
     "output_type": "stream",
     "text": [
      "One specific example of a roadmap is displayed in../Hydraulic-Infrastructure-Realisation/Roadmap/02_Road_map_generator(Noos_Matroos_Data).ipynb Different use cases need different Roadmaps need to be made.This Roadmap is valid for t∈[2019-04-17 00:00:00,2019-04-18 00:00:00], with a timestep of 1 hour and a minimal waterdepth of 6m and a ship velocity of 5 or 7 m/s\n"
     ]
    }
   ],
   "source": [
    "name_textfile_load = '../tests/Roadmap/General_waddensea_dt=3h'\n",
    "\n",
    "with open(name_textfile_load, 'rb') as input:\n",
    "    Roadmap = pickle.load(input)\\\n",
    "    \n",
    "print('One specific example of a roadmap is displayed in\\\n",
    "../Hydraulic-Infrastructure-Realisation/Roadmap/02_Road_map_generator(Noos_Matroos_Data).ipynb \\\n",
    "Different use cases need different Roadmaps need to be made.\\\n",
    "This Roadmap is valid for t∈[{},{}], with a timestep of 1 hour and a minimal waterdepth of 6m and a ship velocity of 5 or 7 m/s'\n",
    "      .format(datetime.datetime.fromtimestamp(Roadmap.t[0]),datetime.datetime.fromtimestamp(Roadmap.t[-1])))"
   ]
  },
  {
   "cell_type": "markdown",
   "metadata": {},
   "source": [
    "### 2. Run the simulation"
   ]
  },
  {
   "cell_type": "code",
   "execution_count": 14,
   "metadata": {
    "scrolled": false
   },
   "outputs": [
    {
     "name": "stdout",
     "output_type": "stream",
     "text": [
      "\n",
      "*** Installation of dike finished in 19:46:12 ***\n"
     ]
    }
   ],
   "source": [
    "my_env.FG = FG\n",
    "my_env.Roadmap = Roadmap\n",
    "my_env.run()\n",
    "\n",
    "print(\"\\n*** Installation of dike finished in {} ***\".format(datetime.timedelta(seconds=int(my_env.now - my_env.epoch))))"
   ]
  },
  {
   "cell_type": "markdown",
   "metadata": {},
   "source": [
    "### 3. Postprocessing"
   ]
  },
  {
   "cell_type": "markdown",
   "metadata": {},
   "source": [
    "#### Vessel planning"
   ]
  },
  {
   "cell_type": "code",
   "execution_count": 15,
   "metadata": {},
   "outputs": [
    {
     "data": {
      "text/html": [
       "<script type=\"text/javascript\">window.PlotlyConfig = {MathJaxConfig: 'local'};</script><script type=\"text/javascript\">if (window.MathJax) {MathJax.Hub.Config({SVG: {font: \"STIX-Web\"}});}</script><script>requirejs.config({paths: { 'plotly': ['https://cdn.plot.ly/plotly-latest.min']},});if(!window._Plotly) {require(['plotly'],function(plotly) {window._Plotly=plotly;});}</script>"
      ],
      "text/vnd.plotly.v1+html": [
       "<script type=\"text/javascript\">window.PlotlyConfig = {MathJaxConfig: 'local'};</script><script type=\"text/javascript\">if (window.MathJax) {MathJax.Hub.Config({SVG: {font: \"STIX-Web\"}});}</script><script>requirejs.config({paths: { 'plotly': ['https://cdn.plot.ly/plotly-latest.min']},});if(!window._Plotly) {require(['plotly'],function(plotly) {window._Plotly=plotly;});}</script>"
      ]
     },
     "metadata": {},
     "output_type": "display_data"
    },
    {
     "data": {
      "application/vnd.plotly.v1+json": {
       "config": {
        "linkText": "Export to plot.ly",
        "plotlyServerURL": "https://plot.ly",
        "showLink": false
       },
       "data": [
        {
         "connectgaps": false,
         "hoverinfo": "y+name",
         "line": {
          "color": "rgb(55,126,184)",
          "width": 10
         },
         "mode": "lines",
         "name": "loading",
         "type": "scatter",
         "uid": "0551480e-15d8-4cb3-8b51-db7612928be4",
         "x": [
          "2019-04-17 01:00:00",
          "2019-04-17 01:00:00",
          "2019-04-17 01:55:33.333333",
          "2019-04-17 01:55:33.333333",
          "2019-04-17 01:55:33.333333",
          "2019-04-17 01:00:00",
          "2019-04-17 01:00:00",
          "2019-04-17 01:55:33.333333",
          "2019-04-17 01:55:33.333333",
          "2019-04-17 01:55:33.333333",
          "2019-04-17 06:16:32.565106",
          "2019-04-17 06:16:32.565106",
          "2019-04-17 07:12:05.898439",
          "2019-04-17 07:12:05.898439",
          "2019-04-17 07:12:05.898439",
          "2019-04-17 06:16:32.565106",
          "2019-04-17 06:16:32.565106",
          "2019-04-17 07:12:05.898439",
          "2019-04-17 07:12:05.898439",
          "2019-04-17 07:12:05.898439",
          "2019-04-17 11:37:02.036128",
          "2019-04-17 11:37:02.036128",
          "2019-04-17 12:32:35.369461",
          "2019-04-17 12:32:35.369461",
          "2019-04-17 12:32:35.369461",
          "2019-04-17 11:37:02.036128",
          "2019-04-17 11:37:02.036128",
          "2019-04-17 12:32:35.369461",
          "2019-04-17 12:32:35.369461",
          "2019-04-17 12:32:35.369461",
          "2019-04-17 16:53:26.321827",
          "2019-04-17 16:53:26.321827",
          "2019-04-17 17:48:59.655161",
          "2019-04-17 17:48:59.655161",
          "2019-04-17 17:48:59.655161",
          "2019-04-17 16:53:26.321827",
          "2019-04-17 16:53:26.321827",
          "2019-04-17 17:48:59.655161",
          "2019-04-17 17:48:59.655161",
          "2019-04-17 17:48:59.655161"
         ],
         "y": [
          "Hopper 01",
          "Hopper 01",
          "Hopper 01",
          "Hopper 01",
          null,
          "Hopper 01",
          "Hopper 01",
          "Hopper 01",
          "Hopper 01",
          null,
          "Hopper 01",
          "Hopper 01",
          "Hopper 01",
          "Hopper 01",
          null,
          "Hopper 01",
          "Hopper 01",
          "Hopper 01",
          "Hopper 01",
          null,
          "Hopper 01",
          "Hopper 01",
          "Hopper 01",
          "Hopper 01",
          null,
          "Hopper 01",
          "Hopper 01",
          "Hopper 01",
          "Hopper 01",
          null,
          "Hopper 01",
          "Hopper 01",
          "Hopper 01",
          "Hopper 01",
          null,
          "Hopper 01",
          "Hopper 01",
          "Hopper 01",
          "Hopper 01",
          null
         ]
        },
        {
         "connectgaps": false,
         "hoverinfo": "y+name",
         "line": {
          "color": "rgb(255,150,0)",
          "width": 10
         },
         "mode": "lines",
         "name": "unloading",
         "type": "scatter",
         "uid": "944148e4-3795-4ca3-a56b-d16a5861026b",
         "x": [
          "2019-04-17 03:56:13.351398",
          "2019-04-17 03:56:13.351398",
          "2019-04-17 04:51:46.684731",
          "2019-04-17 04:51:46.684731",
          "2019-04-17 04:51:46.684731",
          "2019-04-17 03:56:13.351398",
          "2019-04-17 03:56:13.351398",
          "2019-04-17 04:51:46.684731",
          "2019-04-17 04:51:46.684731",
          "2019-04-17 04:51:46.684731",
          "2019-04-17 09:14:13.989071",
          "2019-04-17 09:14:13.989071",
          "2019-04-17 10:09:47.322405",
          "2019-04-17 10:09:47.322405",
          "2019-04-17 10:09:47.322405",
          "2019-04-17 09:14:13.989071",
          "2019-04-17 09:14:13.989071",
          "2019-04-17 10:09:47.322405",
          "2019-04-17 10:09:47.322405",
          "2019-04-17 10:09:47.322405",
          "2019-04-17 14:30:35.815380",
          "2019-04-17 14:30:35.815380",
          "2019-04-17 15:26:09.148713",
          "2019-04-17 15:26:09.148713",
          "2019-04-17 15:26:09.148713",
          "2019-04-17 14:30:35.815380",
          "2019-04-17 14:30:35.815380",
          "2019-04-17 15:26:09.148713",
          "2019-04-17 15:26:09.148713",
          "2019-04-17 15:26:09.148713",
          "2019-04-17 19:50:39.102072",
          "2019-04-17 19:50:39.102072",
          "2019-04-17 20:46:12.435405",
          "2019-04-17 20:46:12.435405",
          "2019-04-17 20:46:12.435405",
          "2019-04-17 19:50:39.102072",
          "2019-04-17 19:50:39.102072",
          "2019-04-17 20:46:12.435405",
          "2019-04-17 20:46:12.435405",
          "2019-04-17 20:46:12.435405"
         ],
         "y": [
          "Hopper 01",
          "Hopper 01",
          "Hopper 01",
          "Hopper 01",
          null,
          "Hopper 01",
          "Hopper 01",
          "Hopper 01",
          "Hopper 01",
          null,
          "Hopper 01",
          "Hopper 01",
          "Hopper 01",
          "Hopper 01",
          null,
          "Hopper 01",
          "Hopper 01",
          "Hopper 01",
          "Hopper 01",
          null,
          "Hopper 01",
          "Hopper 01",
          "Hopper 01",
          "Hopper 01",
          null,
          "Hopper 01",
          "Hopper 01",
          "Hopper 01",
          "Hopper 01",
          null,
          "Hopper 01",
          "Hopper 01",
          "Hopper 01",
          "Hopper 01",
          null,
          "Hopper 01",
          "Hopper 01",
          "Hopper 01",
          "Hopper 01",
          null
         ]
        },
        {
         "connectgaps": false,
         "hoverinfo": "y+name",
         "line": {
          "color": "rgb(98, 192, 122)",
          "width": 10
         },
         "mode": "lines",
         "name": "sailing filled",
         "type": "scatter",
         "uid": "04624cd3-a110-412b-9274-7af28dc033f9",
         "x": [
          "2019-04-17 01:55:33.333333",
          "2019-04-17 01:55:33.333333",
          "2019-04-17 03:56:13.351398",
          "2019-04-17 03:56:13.351398",
          "2019-04-17 03:56:13.351398",
          "2019-04-17 07:12:05.898439",
          "2019-04-17 07:12:05.898439",
          "2019-04-17 09:14:13.989071",
          "2019-04-17 09:14:13.989071",
          "2019-04-17 09:14:13.989071",
          "2019-04-17 12:32:35.369461",
          "2019-04-17 12:32:35.369461",
          "2019-04-17 14:30:35.815380",
          "2019-04-17 14:30:35.815380",
          "2019-04-17 14:30:35.815380",
          "2019-04-17 17:48:59.655161",
          "2019-04-17 17:48:59.655161",
          "2019-04-17 19:50:39.102072",
          "2019-04-17 19:50:39.102072",
          "2019-04-17 19:50:39.102072"
         ],
         "y": [
          "Hopper 01",
          "Hopper 01",
          "Hopper 01",
          "Hopper 01",
          null,
          "Hopper 01",
          "Hopper 01",
          "Hopper 01",
          "Hopper 01",
          null,
          "Hopper 01",
          "Hopper 01",
          "Hopper 01",
          "Hopper 01",
          null,
          "Hopper 01",
          "Hopper 01",
          "Hopper 01",
          "Hopper 01",
          null
         ]
        },
        {
         "connectgaps": false,
         "hoverinfo": "y+name",
         "line": {
          "color": "rgb(98, 141, 122)",
          "width": 10
         },
         "mode": "lines",
         "name": "sailing empty",
         "type": "scatter",
         "uid": "929050cd-a8d5-4907-8a6a-32c70f64624b",
         "x": [
          "2019-04-17 04:51:46.684731",
          "2019-04-17 04:51:46.684731",
          "2019-04-17 06:16:32.565106",
          "2019-04-17 06:16:32.565106",
          "2019-04-17 06:16:32.565106",
          "2019-04-17 10:09:47.322405",
          "2019-04-17 10:09:47.322405",
          "2019-04-17 11:37:02.036128",
          "2019-04-17 11:37:02.036128",
          "2019-04-17 11:37:02.036128",
          "2019-04-17 15:26:09.148713",
          "2019-04-17 15:26:09.148713",
          "2019-04-17 16:53:26.321827",
          "2019-04-17 16:53:26.321827",
          "2019-04-17 16:53:26.321827"
         ],
         "y": [
          "Hopper 01",
          "Hopper 01",
          "Hopper 01",
          "Hopper 01",
          null,
          "Hopper 01",
          "Hopper 01",
          "Hopper 01",
          "Hopper 01",
          null,
          "Hopper 01",
          "Hopper 01",
          "Hopper 01",
          "Hopper 01",
          null
         ]
        }
       ],
       "layout": {
        "hovermode": "closest",
        "legend": {
         "orientation": "h",
         "x": 0,
         "y": -0.2
        },
        "title": {
         "text": "Vessel planning"
        },
        "xaxis": {
         "range": [
          "2019-04-17 01:00:00",
          "2019-04-17 20:46:12.435405"
         ],
         "title": {
          "font": {
           "color": "#7f7f7f",
           "family": "Courier New, monospace",
           "size": 18
          },
          "text": "Time"
         }
        },
        "yaxis": {
         "title": {
          "font": {
           "color": "#7f7f7f",
           "family": "Courier New, monospace",
           "size": 18
          },
          "text": "Vessels"
         }
        }
       }
      },
      "text/html": [
       "<div id=\"6f8333c8-bb07-4839-865e-fb7d5fb7891f\" style=\"height: 525px; width: 100%;\" class=\"plotly-graph-div\"></div><script type=\"text/javascript\">require([\"plotly\"], function(Plotly) { window.PLOTLYENV=window.PLOTLYENV || {};window.PLOTLYENV.BASE_URL=\"https://plot.ly\";Plotly.newPlot(\"6f8333c8-bb07-4839-865e-fb7d5fb7891f\", [{\"connectgaps\": false, \"hoverinfo\": \"y+name\", \"line\": {\"color\": \"rgb(55,126,184)\", \"width\": 10}, \"mode\": \"lines\", \"name\": \"loading\", \"x\": [\"2019-04-17 01:00:00\", \"2019-04-17 01:00:00\", \"2019-04-17 01:55:33.333333\", \"2019-04-17 01:55:33.333333\", \"2019-04-17 01:55:33.333333\", \"2019-04-17 01:00:00\", \"2019-04-17 01:00:00\", \"2019-04-17 01:55:33.333333\", \"2019-04-17 01:55:33.333333\", \"2019-04-17 01:55:33.333333\", \"2019-04-17 06:16:32.565106\", \"2019-04-17 06:16:32.565106\", \"2019-04-17 07:12:05.898439\", \"2019-04-17 07:12:05.898439\", \"2019-04-17 07:12:05.898439\", \"2019-04-17 06:16:32.565106\", \"2019-04-17 06:16:32.565106\", \"2019-04-17 07:12:05.898439\", \"2019-04-17 07:12:05.898439\", \"2019-04-17 07:12:05.898439\", \"2019-04-17 11:37:02.036128\", \"2019-04-17 11:37:02.036128\", \"2019-04-17 12:32:35.369461\", \"2019-04-17 12:32:35.369461\", \"2019-04-17 12:32:35.369461\", \"2019-04-17 11:37:02.036128\", \"2019-04-17 11:37:02.036128\", \"2019-04-17 12:32:35.369461\", \"2019-04-17 12:32:35.369461\", \"2019-04-17 12:32:35.369461\", \"2019-04-17 16:53:26.321827\", \"2019-04-17 16:53:26.321827\", \"2019-04-17 17:48:59.655161\", \"2019-04-17 17:48:59.655161\", \"2019-04-17 17:48:59.655161\", \"2019-04-17 16:53:26.321827\", \"2019-04-17 16:53:26.321827\", \"2019-04-17 17:48:59.655161\", \"2019-04-17 17:48:59.655161\", \"2019-04-17 17:48:59.655161\"], \"y\": [\"Hopper 01\", \"Hopper 01\", \"Hopper 01\", \"Hopper 01\", null, \"Hopper 01\", \"Hopper 01\", \"Hopper 01\", \"Hopper 01\", null, \"Hopper 01\", \"Hopper 01\", \"Hopper 01\", \"Hopper 01\", null, \"Hopper 01\", \"Hopper 01\", \"Hopper 01\", \"Hopper 01\", null, \"Hopper 01\", \"Hopper 01\", \"Hopper 01\", \"Hopper 01\", null, \"Hopper 01\", \"Hopper 01\", \"Hopper 01\", \"Hopper 01\", null, \"Hopper 01\", \"Hopper 01\", \"Hopper 01\", \"Hopper 01\", null, \"Hopper 01\", \"Hopper 01\", \"Hopper 01\", \"Hopper 01\", null], \"type\": \"scatter\", \"uid\": \"0551480e-15d8-4cb3-8b51-db7612928be4\"}, {\"connectgaps\": false, \"hoverinfo\": \"y+name\", \"line\": {\"color\": \"rgb(255,150,0)\", \"width\": 10}, \"mode\": \"lines\", \"name\": \"unloading\", \"x\": [\"2019-04-17 03:56:13.351398\", \"2019-04-17 03:56:13.351398\", \"2019-04-17 04:51:46.684731\", \"2019-04-17 04:51:46.684731\", \"2019-04-17 04:51:46.684731\", \"2019-04-17 03:56:13.351398\", \"2019-04-17 03:56:13.351398\", \"2019-04-17 04:51:46.684731\", \"2019-04-17 04:51:46.684731\", \"2019-04-17 04:51:46.684731\", \"2019-04-17 09:14:13.989071\", \"2019-04-17 09:14:13.989071\", \"2019-04-17 10:09:47.322405\", \"2019-04-17 10:09:47.322405\", \"2019-04-17 10:09:47.322405\", \"2019-04-17 09:14:13.989071\", \"2019-04-17 09:14:13.989071\", \"2019-04-17 10:09:47.322405\", \"2019-04-17 10:09:47.322405\", \"2019-04-17 10:09:47.322405\", \"2019-04-17 14:30:35.815380\", \"2019-04-17 14:30:35.815380\", \"2019-04-17 15:26:09.148713\", \"2019-04-17 15:26:09.148713\", \"2019-04-17 15:26:09.148713\", \"2019-04-17 14:30:35.815380\", \"2019-04-17 14:30:35.815380\", \"2019-04-17 15:26:09.148713\", \"2019-04-17 15:26:09.148713\", \"2019-04-17 15:26:09.148713\", \"2019-04-17 19:50:39.102072\", \"2019-04-17 19:50:39.102072\", \"2019-04-17 20:46:12.435405\", \"2019-04-17 20:46:12.435405\", \"2019-04-17 20:46:12.435405\", \"2019-04-17 19:50:39.102072\", \"2019-04-17 19:50:39.102072\", \"2019-04-17 20:46:12.435405\", \"2019-04-17 20:46:12.435405\", \"2019-04-17 20:46:12.435405\"], \"y\": [\"Hopper 01\", \"Hopper 01\", \"Hopper 01\", \"Hopper 01\", null, \"Hopper 01\", \"Hopper 01\", \"Hopper 01\", \"Hopper 01\", null, \"Hopper 01\", \"Hopper 01\", \"Hopper 01\", \"Hopper 01\", null, \"Hopper 01\", \"Hopper 01\", \"Hopper 01\", \"Hopper 01\", null, \"Hopper 01\", \"Hopper 01\", \"Hopper 01\", \"Hopper 01\", null, \"Hopper 01\", \"Hopper 01\", \"Hopper 01\", \"Hopper 01\", null, \"Hopper 01\", \"Hopper 01\", \"Hopper 01\", \"Hopper 01\", null, \"Hopper 01\", \"Hopper 01\", \"Hopper 01\", \"Hopper 01\", null], \"type\": \"scatter\", \"uid\": \"944148e4-3795-4ca3-a56b-d16a5861026b\"}, {\"connectgaps\": false, \"hoverinfo\": \"y+name\", \"line\": {\"color\": \"rgb(98, 192, 122)\", \"width\": 10}, \"mode\": \"lines\", \"name\": \"sailing filled\", \"x\": [\"2019-04-17 01:55:33.333333\", \"2019-04-17 01:55:33.333333\", \"2019-04-17 03:56:13.351398\", \"2019-04-17 03:56:13.351398\", \"2019-04-17 03:56:13.351398\", \"2019-04-17 07:12:05.898439\", \"2019-04-17 07:12:05.898439\", \"2019-04-17 09:14:13.989071\", \"2019-04-17 09:14:13.989071\", \"2019-04-17 09:14:13.989071\", \"2019-04-17 12:32:35.369461\", \"2019-04-17 12:32:35.369461\", \"2019-04-17 14:30:35.815380\", \"2019-04-17 14:30:35.815380\", \"2019-04-17 14:30:35.815380\", \"2019-04-17 17:48:59.655161\", \"2019-04-17 17:48:59.655161\", \"2019-04-17 19:50:39.102072\", \"2019-04-17 19:50:39.102072\", \"2019-04-17 19:50:39.102072\"], \"y\": [\"Hopper 01\", \"Hopper 01\", \"Hopper 01\", \"Hopper 01\", null, \"Hopper 01\", \"Hopper 01\", \"Hopper 01\", \"Hopper 01\", null, \"Hopper 01\", \"Hopper 01\", \"Hopper 01\", \"Hopper 01\", null, \"Hopper 01\", \"Hopper 01\", \"Hopper 01\", \"Hopper 01\", null], \"type\": \"scatter\", \"uid\": \"04624cd3-a110-412b-9274-7af28dc033f9\"}, {\"connectgaps\": false, \"hoverinfo\": \"y+name\", \"line\": {\"color\": \"rgb(98, 141, 122)\", \"width\": 10}, \"mode\": \"lines\", \"name\": \"sailing empty\", \"x\": [\"2019-04-17 04:51:46.684731\", \"2019-04-17 04:51:46.684731\", \"2019-04-17 06:16:32.565106\", \"2019-04-17 06:16:32.565106\", \"2019-04-17 06:16:32.565106\", \"2019-04-17 10:09:47.322405\", \"2019-04-17 10:09:47.322405\", \"2019-04-17 11:37:02.036128\", \"2019-04-17 11:37:02.036128\", \"2019-04-17 11:37:02.036128\", \"2019-04-17 15:26:09.148713\", \"2019-04-17 15:26:09.148713\", \"2019-04-17 16:53:26.321827\", \"2019-04-17 16:53:26.321827\", \"2019-04-17 16:53:26.321827\"], \"y\": [\"Hopper 01\", \"Hopper 01\", \"Hopper 01\", \"Hopper 01\", null, \"Hopper 01\", \"Hopper 01\", \"Hopper 01\", \"Hopper 01\", null, \"Hopper 01\", \"Hopper 01\", \"Hopper 01\", \"Hopper 01\", null], \"type\": \"scatter\", \"uid\": \"929050cd-a8d5-4907-8a6a-32c70f64624b\"}], {\"hovermode\": \"closest\", \"legend\": {\"orientation\": \"h\", \"x\": 0, \"y\": -0.2}, \"title\": {\"text\": \"Vessel planning\"}, \"xaxis\": {\"range\": [\"2019-04-17 01:00:00\", \"2019-04-17 20:46:12.435405\"], \"title\": {\"font\": {\"color\": \"#7f7f7f\", \"family\": \"Courier New, monospace\", \"size\": 18}, \"text\": \"Time\"}}, \"yaxis\": {\"title\": {\"font\": {\"color\": \"#7f7f7f\", \"family\": \"Courier New, monospace\", \"size\": 18}, \"text\": \"Vessels\"}}}, {\"showLink\": false, \"linkText\": \"Export to plot.ly\", \"plotlyServerURL\": \"https://plot.ly\"})});</script><script type=\"text/javascript\">window.addEventListener(\"resize\", function(){window._Plotly.Plots.resize(document.getElementById(\"6f8333c8-bb07-4839-865e-fb7d5fb7891f\"));});</script>"
      ],
      "text/vnd.plotly.v1+html": [
       "<div id=\"6f8333c8-bb07-4839-865e-fb7d5fb7891f\" style=\"height: 525px; width: 100%;\" class=\"plotly-graph-div\"></div><script type=\"text/javascript\">require([\"plotly\"], function(Plotly) { window.PLOTLYENV=window.PLOTLYENV || {};window.PLOTLYENV.BASE_URL=\"https://plot.ly\";Plotly.newPlot(\"6f8333c8-bb07-4839-865e-fb7d5fb7891f\", [{\"connectgaps\": false, \"hoverinfo\": \"y+name\", \"line\": {\"color\": \"rgb(55,126,184)\", \"width\": 10}, \"mode\": \"lines\", \"name\": \"loading\", \"x\": [\"2019-04-17 01:00:00\", \"2019-04-17 01:00:00\", \"2019-04-17 01:55:33.333333\", \"2019-04-17 01:55:33.333333\", \"2019-04-17 01:55:33.333333\", \"2019-04-17 01:00:00\", \"2019-04-17 01:00:00\", \"2019-04-17 01:55:33.333333\", \"2019-04-17 01:55:33.333333\", \"2019-04-17 01:55:33.333333\", \"2019-04-17 06:16:32.565106\", \"2019-04-17 06:16:32.565106\", \"2019-04-17 07:12:05.898439\", \"2019-04-17 07:12:05.898439\", \"2019-04-17 07:12:05.898439\", \"2019-04-17 06:16:32.565106\", \"2019-04-17 06:16:32.565106\", \"2019-04-17 07:12:05.898439\", \"2019-04-17 07:12:05.898439\", \"2019-04-17 07:12:05.898439\", \"2019-04-17 11:37:02.036128\", \"2019-04-17 11:37:02.036128\", \"2019-04-17 12:32:35.369461\", \"2019-04-17 12:32:35.369461\", \"2019-04-17 12:32:35.369461\", \"2019-04-17 11:37:02.036128\", \"2019-04-17 11:37:02.036128\", \"2019-04-17 12:32:35.369461\", \"2019-04-17 12:32:35.369461\", \"2019-04-17 12:32:35.369461\", \"2019-04-17 16:53:26.321827\", \"2019-04-17 16:53:26.321827\", \"2019-04-17 17:48:59.655161\", \"2019-04-17 17:48:59.655161\", \"2019-04-17 17:48:59.655161\", \"2019-04-17 16:53:26.321827\", \"2019-04-17 16:53:26.321827\", \"2019-04-17 17:48:59.655161\", \"2019-04-17 17:48:59.655161\", \"2019-04-17 17:48:59.655161\"], \"y\": [\"Hopper 01\", \"Hopper 01\", \"Hopper 01\", \"Hopper 01\", null, \"Hopper 01\", \"Hopper 01\", \"Hopper 01\", \"Hopper 01\", null, \"Hopper 01\", \"Hopper 01\", \"Hopper 01\", \"Hopper 01\", null, \"Hopper 01\", \"Hopper 01\", \"Hopper 01\", \"Hopper 01\", null, \"Hopper 01\", \"Hopper 01\", \"Hopper 01\", \"Hopper 01\", null, \"Hopper 01\", \"Hopper 01\", \"Hopper 01\", \"Hopper 01\", null, \"Hopper 01\", \"Hopper 01\", \"Hopper 01\", \"Hopper 01\", null, \"Hopper 01\", \"Hopper 01\", \"Hopper 01\", \"Hopper 01\", null], \"type\": \"scatter\", \"uid\": \"0551480e-15d8-4cb3-8b51-db7612928be4\"}, {\"connectgaps\": false, \"hoverinfo\": \"y+name\", \"line\": {\"color\": \"rgb(255,150,0)\", \"width\": 10}, \"mode\": \"lines\", \"name\": \"unloading\", \"x\": [\"2019-04-17 03:56:13.351398\", \"2019-04-17 03:56:13.351398\", \"2019-04-17 04:51:46.684731\", \"2019-04-17 04:51:46.684731\", \"2019-04-17 04:51:46.684731\", \"2019-04-17 03:56:13.351398\", \"2019-04-17 03:56:13.351398\", \"2019-04-17 04:51:46.684731\", \"2019-04-17 04:51:46.684731\", \"2019-04-17 04:51:46.684731\", \"2019-04-17 09:14:13.989071\", \"2019-04-17 09:14:13.989071\", \"2019-04-17 10:09:47.322405\", \"2019-04-17 10:09:47.322405\", \"2019-04-17 10:09:47.322405\", \"2019-04-17 09:14:13.989071\", \"2019-04-17 09:14:13.989071\", \"2019-04-17 10:09:47.322405\", \"2019-04-17 10:09:47.322405\", \"2019-04-17 10:09:47.322405\", \"2019-04-17 14:30:35.815380\", \"2019-04-17 14:30:35.815380\", \"2019-04-17 15:26:09.148713\", \"2019-04-17 15:26:09.148713\", \"2019-04-17 15:26:09.148713\", \"2019-04-17 14:30:35.815380\", \"2019-04-17 14:30:35.815380\", \"2019-04-17 15:26:09.148713\", \"2019-04-17 15:26:09.148713\", \"2019-04-17 15:26:09.148713\", \"2019-04-17 19:50:39.102072\", \"2019-04-17 19:50:39.102072\", \"2019-04-17 20:46:12.435405\", \"2019-04-17 20:46:12.435405\", \"2019-04-17 20:46:12.435405\", \"2019-04-17 19:50:39.102072\", \"2019-04-17 19:50:39.102072\", \"2019-04-17 20:46:12.435405\", \"2019-04-17 20:46:12.435405\", \"2019-04-17 20:46:12.435405\"], \"y\": [\"Hopper 01\", \"Hopper 01\", \"Hopper 01\", \"Hopper 01\", null, \"Hopper 01\", \"Hopper 01\", \"Hopper 01\", \"Hopper 01\", null, \"Hopper 01\", \"Hopper 01\", \"Hopper 01\", \"Hopper 01\", null, \"Hopper 01\", \"Hopper 01\", \"Hopper 01\", \"Hopper 01\", null, \"Hopper 01\", \"Hopper 01\", \"Hopper 01\", \"Hopper 01\", null, \"Hopper 01\", \"Hopper 01\", \"Hopper 01\", \"Hopper 01\", null, \"Hopper 01\", \"Hopper 01\", \"Hopper 01\", \"Hopper 01\", null, \"Hopper 01\", \"Hopper 01\", \"Hopper 01\", \"Hopper 01\", null], \"type\": \"scatter\", \"uid\": \"944148e4-3795-4ca3-a56b-d16a5861026b\"}, {\"connectgaps\": false, \"hoverinfo\": \"y+name\", \"line\": {\"color\": \"rgb(98, 192, 122)\", \"width\": 10}, \"mode\": \"lines\", \"name\": \"sailing filled\", \"x\": [\"2019-04-17 01:55:33.333333\", \"2019-04-17 01:55:33.333333\", \"2019-04-17 03:56:13.351398\", \"2019-04-17 03:56:13.351398\", \"2019-04-17 03:56:13.351398\", \"2019-04-17 07:12:05.898439\", \"2019-04-17 07:12:05.898439\", \"2019-04-17 09:14:13.989071\", \"2019-04-17 09:14:13.989071\", \"2019-04-17 09:14:13.989071\", \"2019-04-17 12:32:35.369461\", \"2019-04-17 12:32:35.369461\", \"2019-04-17 14:30:35.815380\", \"2019-04-17 14:30:35.815380\", \"2019-04-17 14:30:35.815380\", \"2019-04-17 17:48:59.655161\", \"2019-04-17 17:48:59.655161\", \"2019-04-17 19:50:39.102072\", \"2019-04-17 19:50:39.102072\", \"2019-04-17 19:50:39.102072\"], \"y\": [\"Hopper 01\", \"Hopper 01\", \"Hopper 01\", \"Hopper 01\", null, \"Hopper 01\", \"Hopper 01\", \"Hopper 01\", \"Hopper 01\", null, \"Hopper 01\", \"Hopper 01\", \"Hopper 01\", \"Hopper 01\", null, \"Hopper 01\", \"Hopper 01\", \"Hopper 01\", \"Hopper 01\", null], \"type\": \"scatter\", \"uid\": \"04624cd3-a110-412b-9274-7af28dc033f9\"}, {\"connectgaps\": false, \"hoverinfo\": \"y+name\", \"line\": {\"color\": \"rgb(98, 141, 122)\", \"width\": 10}, \"mode\": \"lines\", \"name\": \"sailing empty\", \"x\": [\"2019-04-17 04:51:46.684731\", \"2019-04-17 04:51:46.684731\", \"2019-04-17 06:16:32.565106\", \"2019-04-17 06:16:32.565106\", \"2019-04-17 06:16:32.565106\", \"2019-04-17 10:09:47.322405\", \"2019-04-17 10:09:47.322405\", \"2019-04-17 11:37:02.036128\", \"2019-04-17 11:37:02.036128\", \"2019-04-17 11:37:02.036128\", \"2019-04-17 15:26:09.148713\", \"2019-04-17 15:26:09.148713\", \"2019-04-17 16:53:26.321827\", \"2019-04-17 16:53:26.321827\", \"2019-04-17 16:53:26.321827\"], \"y\": [\"Hopper 01\", \"Hopper 01\", \"Hopper 01\", \"Hopper 01\", null, \"Hopper 01\", \"Hopper 01\", \"Hopper 01\", \"Hopper 01\", null, \"Hopper 01\", \"Hopper 01\", \"Hopper 01\", \"Hopper 01\", null], \"type\": \"scatter\", \"uid\": \"929050cd-a8d5-4907-8a6a-32c70f64624b\"}], {\"hovermode\": \"closest\", \"legend\": {\"orientation\": \"h\", \"x\": 0, \"y\": -0.2}, \"title\": {\"text\": \"Vessel planning\"}, \"xaxis\": {\"range\": [\"2019-04-17 01:00:00\", \"2019-04-17 20:46:12.435405\"], \"title\": {\"font\": {\"color\": \"#7f7f7f\", \"family\": \"Courier New, monospace\", \"size\": 18}, \"text\": \"Time\"}}, \"yaxis\": {\"title\": {\"font\": {\"color\": \"#7f7f7f\", \"family\": \"Courier New, monospace\", \"size\": 18}, \"text\": \"Vessels\"}}}, {\"showLink\": false, \"linkText\": \"Export to plot.ly\", \"plotlyServerURL\": \"https://plot.ly\"})});</script><script type=\"text/javascript\">window.addEventListener(\"resize\", function(){window._Plotly.Plots.resize(document.getElementById(\"6f8333c8-bb07-4839-865e-fb7d5fb7891f\"));});</script>"
      ]
     },
     "metadata": {},
     "output_type": "display_data"
    }
   ],
   "source": [
    "vessels = [hopper]\n",
    "\n",
    "activities = ['loading', 'unloading', 'sailing filled', 'sailing empty']\n",
    "colors = {0:'rgb(55,126,184)', 1:'rgb(255,150,0)', 2:'rgb(98, 192, 122)', 3:'rgb(98, 141, 122)'}\n",
    "\n",
    "plot.vessel_planning(vessels, activities, colors)"
   ]
  },
  {
   "cell_type": "markdown",
   "metadata": {},
   "source": [
    "#### KML Visualisation"
   ]
  },
  {
   "cell_type": "code",
   "execution_count": 16,
   "metadata": {},
   "outputs": [],
   "source": [
    "plot.vessel_kml(my_env, vessels, stepsize = 80)\n",
    "plot.site_kml(my_env, [Nodes[0], Nodes[-1]], stepsize = 600)\n",
    "# plot.graph_kml(my_env)"
   ]
  },
  {
   "cell_type": "code",
   "execution_count": 17,
   "metadata": {},
   "outputs": [],
   "source": [
    "# open the file\n",
    "if platform.system():\n",
    "    !start ./vessel_movements.kml\n",
    "    !start ./site_development.kml\n",
    "else:\n",
    "    !start explorer ./vessel_movements.kml\n",
    "    !start explorer ./site_development.kml"
   ]
  },
  {
   "cell_type": "code",
   "execution_count": null,
   "metadata": {},
   "outputs": [],
   "source": []
  }
 ],
 "metadata": {
  "kernelspec": {
   "display_name": "Python 3",
   "language": "python",
   "name": "python3"
  },
  "language_info": {
   "codemirror_mode": {
    "name": "ipython",
    "version": 3
   },
   "file_extension": ".py",
   "mimetype": "text/x-python",
   "name": "python",
   "nbconvert_exporter": "python",
   "pygments_lexer": "ipython3",
   "version": "3.6.5"
  }
 },
 "nbformat": 4,
 "nbformat_minor": 2
}
