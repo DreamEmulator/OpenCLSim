{
 "cells": [
  {
   "cell_type": "markdown",
   "metadata": {
    "collapsed": true
   },
   "source": [
    "# Example 1 - Building a Layered Dike\n",
    "\n",
    "This example defines a digital twin simulation in which several layers (from different materials) of a dike are constructed.\n",
    "\n",
    "## Necessary Dependencies"
   ]
  },
  {
   "cell_type": "code",
   "execution_count": 1,
   "metadata": {
    "collapsed": true
   },
   "outputs": [],
   "source": [
    "# package(s) related to time, space and id\n",
    "import datetime\n",
    "import platform\n",
    "\n",
    "# you need these dependencies (you can get these from anaconda)\n",
    "# package(s) related to the simulation\n",
    "import simpy\n",
    "\n",
    "# spatial libraries \n",
    "import shapely.geometry\n",
    "from simplekml import Kml, Style\n",
    "\n",
    "# package(s) for data handling\n",
    "import numpy as np\n",
    "\n",
    "# digital twin package\n",
    "import digital_twin.core as core\n",
    "import digital_twin.model as model"
   ]
  },
  {
   "cell_type": "markdown",
   "metadata": {},
   "source": [
    "## Create the necessary classes\n",
    "\n",
    "The Digital Twin core defines several classes which can be combined in mixin classes you can define yourself. For example, in this simulation we define a Site as:\n",
    "* Identifiable: an object that can be identified with a name \n",
    "* Log: an object which will contain a log of events that took place concerning this object after the simulation is complete\n",
    "* Locatable: an object that has a geographical location\n",
    "* HasContainer: an object which contains a storage for materials\n",
    "* HasResource: an object only a limited number of activities can interact with at the same time"
   ]
  },
  {
   "cell_type": "code",
   "execution_count": 2,
   "metadata": {},
   "outputs": [],
   "source": [
    "Site = type('Site', (core.Identifiable, core.Log, core.Locatable, core.HasContainer, core.HasResource), {})"
   ]
  },
  {
   "cell_type": "markdown",
   "metadata": {},
   "source": [
    "Defining mixin classes for our ships and cranes is done similarly. A ship can either be a simple transport barge we will call a TransportResource, or can be a hopper capable of loading and unloading the materials itself (TransportProcessingResource). Finally we define a class for \"crane\" objects which can be used to load or unload material for a transport barge (ProcessingResource)."
   ]
  },
  {
   "cell_type": "code",
   "execution_count": 3,
   "metadata": {},
   "outputs": [],
   "source": [
    "TransportResource = type('TransportResource', \n",
    "                         (core.Identifiable, core.Log, core.ContainerDependentMovable, \n",
    "                          core.HasResource), {})\n",
    "\n",
    "TransportProcessingResource = type('TransportProcessingResource', \n",
    "                                   (core.Identifiable, core.Log, core.ContainerDependentMovable, \n",
    "                                    core.Processor, core.HasResource), {})\n",
    "ProcessingResource = type('ProcessingResource', \n",
    "                          (core.Identifiable, core.Log, core.Processor, core.HasResource), {})"
   ]
  },
  {
   "cell_type": "markdown",
   "metadata": {},
   "source": [
    "These mixin classes use a couple of core classes not yet introduced:\n",
    "* Processor: an object which can move materials from one container to another container\n",
    "* ContainerDependentMovable: this is in fact a combination (extension) of two other core classes:\n",
    "    * HasContainer: an object which contains a storage for materials\n",
    "    * Movable: an object which can move from one geographical location to another (extends Locatable, clearly a moving object must keep track of its current location)\n",
    "  \n",
    "Defining a mixin class as a ContainerDependentMovable allows for specifying a speed function which depends on the fullness of the storage container. The more basic Movable class uses a fixed speed instead.\n",
    "\n",
    "\n"
   ]
  },
  {
   "cell_type": "markdown",
   "metadata": {},
   "source": [
    "## Defining a Simpy Environment\n",
    "\n",
    "Since the digital twin package uses the Simpy package for its backend, each object we create will need to be passed the same Simpy environment object. This Simpy environment is used during the simulation. In fact, it can be used to start the simulation later on. For now, we need to create the environment object, so we can pass it to each of our mixin objects when we create them. \n"
   ]
  },
  {
   "cell_type": "code",
   "execution_count": 4,
   "metadata": {},
   "outputs": [],
   "source": [
    "my_env = simpy.Environment()"
   ]
  },
  {
   "cell_type": "markdown",
   "metadata": {},
   "source": [
    "\n",
    "\n",
    "## Defining the Sites\n",
    "\n",
    "For our simulation we need to define Sites for the different material stockpiles, and sites along the length of the dike in which the material needs to be installed. This example includes four material layers: clay, sand, armour and levvel. We need to define a stockpile site for each of these materials. We will store each of the sites defined in this section in a \"stocks\" list to be used later.\n"
   ]
  },
  {
   "cell_type": "code",
   "execution_count": 5,
   "metadata": {},
   "outputs": [],
   "source": [
    "# sites data in database\n",
    "data_stock_clay = {\"env\": my_env,\n",
    "                   \"name\": \"Clay_Stock\",\n",
    "                   \"geometry\": shapely.geometry.Point(5.019298185633251, 52.94239823421129),  # lon, lat\n",
    "                   \"capacity\": 150000,\n",
    "                   \"level\": 150000}\n",
    "data_stock_sand = {\"env\": my_env,\n",
    "                   \"name\": \"Sand_Stock\",\n",
    "                   \"geometry\": shapely.geometry.Point(5.271417603333632, 52.9638452897506),  # lon, lat\n",
    "                   \"capacity\": 150_000,\n",
    "                   \"level\": 150_000}\n",
    "data_stock_armour = {\"env\": my_env,\n",
    "                   \"name\": \"Armour_Stock\",\n",
    "                   \"geometry\": shapely.geometry.Point(5.919298185633251, 52.94239823421129),  # lon, lat\n",
    "                   \"capacity\": 150_000,\n",
    "                   \"level\": 150_000}\n",
    "data_stock_levvel = {\"env\": my_env,\n",
    "                   \"name\": \"Levvel_Stock\",\n",
    "                   \"geometry\": shapely.geometry.Point(5.919298185633251, 52.94239823421129),  # lon, lat\n",
    "                   \"capacity\": 150_000,\n",
    "                   \"level\": 150_000}\n",
    "\n",
    "# create the site objects\n",
    "stocks = []\n",
    "for data in [data_stock_clay, data_stock_sand, data_stock_armour, data_stock_levvel]:\n",
    "    stock = Site(**data)\n",
    "    stocks.append(stock)"
   ]
  },
  {
   "cell_type": "markdown",
   "metadata": {},
   "source": [
    "The constructor parameters needed will differ depending on the core digital twin classes used in the mixin class you've defined. We can best explain each of the parameters we pass in turn:\n",
    "* __env__: Most core digital twin classes extend a class called SimpyObject and need an \"env\" construction parameter. These classes, such as HasContainer and HasResource, need you to pass the Simpy environment so they can create Simpy objects within the simulation environment. \n",
    "* __name__: An Identifiable object needs a name, which will be used to identify the object.\n",
    "* __geometry__: A Locatable object needs a geographical location. The object will initially be located at this location. In the case of a Movable object, the geographical location will be updated as it moves. If the object is not movable, the geometry should remain the same throughout the simulation.\n",
    "* __capacity__: A HasContainer object needs to know the maximum amount of materials it can store.\n",
    "* __level__: A HasContainer object can optionally be passed the initial level of the container. If no level is passed, the container is initially empty. In the case of our material stockpiles, we want them to be filled instead. \n",
    "\n",
    "We could also have passed a __nr_resources__ argument to the constructors to define the number of activities which can use one of these stockpiles at the same time. By default this is set to one, which means only one ship can be loaded at each stockpile at the same time during the simulation.\n",
    "\n",
    "In addition to the stockpiles, we also need to define the destination sites in which the material will be placed. To do so we will define several sites spaced evenly along the length of the dike for each of the layers. "
   ]
  },
  {
   "cell_type": "code",
   "execution_count": 6,
   "metadata": {},
   "outputs": [],
   "source": [
    "site_count = 20\n",
    "\n",
    "# layer data from database\n",
    "data_clay = {\"start\": [5.054676856441372, 52.94042293840172], # Den Oever (lon, lat)\n",
    "             \"stop\": [5.294877712236641, 53.06686424241725], # Kornwerderzand (lon, lat)\n",
    "             \"capacity\": 5_000,\n",
    "             \"name\": \"Clay_Layer\"}\n",
    "data_sand = {\"start\": [5.052051052879287,52.9421894472733], # Den Oever (lon, lat)\n",
    "             \"stop\": [5.292216781509101,53.06886359869087], # Kornwerderzand (lon, lat)\n",
    "             \"capacity\": 5_000,\n",
    "             \"name\": \"Sand_Layer\"}\n",
    "data_armour = {\"start\": [5.049510554598302,52.94393628899332], # Den Oever (lon, lat)\n",
    "             \"stop\": [5.289636346490858,53.07053144816584], # Kornwerderzand (lon, lat)\n",
    "             \"capacity\": 5_000,\n",
    "             \"name\": \"Armour_Layer\"}\n",
    "data_levvel = {\"start\": [5.046556507026805,52.94579445406793], # Den Oever (lon, lat)\n",
    "             \"stop\": [5.286775240694118,53.07264015015531], # Kornwerderzand (lon, lat)\n",
    "             \"capacity\": 5_000,\n",
    "             \"name\": \"Levvel_Layer\"}\n",
    "\n",
    "sites = []\n",
    "for data_layer in [data_clay, data_sand, data_armour, data_levvel]:\n",
    "    start = data_layer['start']\n",
    "    stop = data_layer['stop']\n",
    "\n",
    "    # generate the evenly spaced locations between the selected start and stop points\n",
    "    lons = np.linspace(start[0], stop[0], num=site_count)\n",
    "    lats = np.linspace(start[1], stop[1], num=site_count)\n",
    "\n",
    "    # create a Site object for each location\n",
    "    layer_sites = []\n",
    "    for i in range(site_count):\n",
    "        data_site = {\"env\": my_env,\n",
    "                     \"name\": data_layer[\"name\"] + '_' + format(i, '02.0f'),\n",
    "                     \"geometry\": shapely.geometry.Point(lons[i], lats[i]),\n",
    "                     \"capacity\": data_layer[\"capacity\"]}\n",
    "        site = Site(**data_site)\n",
    "        layer_sites.append(site)\n",
    "    sites.append(layer_sites)"
   ]
  },
  {
   "cell_type": "markdown",
   "metadata": {},
   "source": [
    "## Defining the Equipment\n",
    "\n",
    "We need to create objects for the equipment used in the simulation. This is done similarly to creating the sites."
   ]
  },
  {
   "cell_type": "code",
   "execution_count": 7,
   "metadata": {},
   "outputs": [],
   "source": [
    "# define a simple linear function with which the speed of a ship can be calculated\n",
    "def compute_v_provider(v_empty, v_full):\n",
    "    return lambda x: x * (v_full - v_empty) + v_empty\n",
    "\n",
    "# equipment information in database\n",
    "data_gantry_crane = {\"env\": my_env,\n",
    "                     \"name\": \"Gantry crane\",\n",
    "                     \"rate\": 0.10}\n",
    "data_installation_crane = {\"env\": my_env,\n",
    "                           \"name\": \"Installation crane\",\n",
    "                           \"rate\": 0.05}\n",
    "\n",
    "data_transport_barge_01 = {\"env\": my_env,\n",
    "                           \"name\": \"Transport barge 01\",\n",
    "                           \"geometry\": shapely.geometry.Point(5.019298185633251, 52.94239823421129),  # lon, lat\n",
    "                           \"capacity\": 1_000,\n",
    "                           \"compute_v\": compute_v_provider(v_empty=1.6, v_full=1)}\n",
    "data_transport_barge_02 = {\"env\": my_env,\n",
    "                           \"name\": \"Transport barge 02\",\n",
    "                           \"geometry\": shapely.geometry.Point(5.019298185633251, 52.94239823421129),  # lon, lat\n",
    "                           \"capacity\": 1_000,\n",
    "                           \"compute_v\": compute_v_provider(v_empty=1.6, v_full=1)}\n",
    "\n",
    "data_hopper = {\"env\": my_env,\n",
    "               \"name\": \"Hopper\",\n",
    "               \"geometry\": shapely.geometry.Point(5.070195628786471, 52.93917167503315),  # lon, lat\n",
    "               \"rate\": 2,\n",
    "               \"capacity\": 1_000,\n",
    "               \"compute_v\": compute_v_provider(v_empty=2, v_full=1.5)}\n",
    "\n",
    "# create the processing resources\n",
    "gantry_crane = ProcessingResource(**data_gantry_crane)\n",
    "installation_crane = ProcessingResource(**data_installation_crane)\n",
    "\n",
    "# create the transport resources\n",
    "transport_barge_01 = TransportResource(**data_transport_barge_01)\n",
    "transport_barge_02 = TransportResource(**data_transport_barge_02)\n",
    "\n",
    "# create the transport processing resource\n",
    "hopper = TransportProcessingResource(**data_hopper)"
   ]
  },
  {
   "cell_type": "markdown",
   "metadata": {},
   "source": [
    "To define our equipment we needed two new constructor arguments:\n",
    "* __rate__: The speed with which a Processor can process materials\n",
    "* __compute_v__: A function which given a value in the interval [0,1], representing the fullness of the container, returns the speed of the ContainerDependentMovable"
   ]
  },
  {
   "cell_type": "markdown",
   "metadata": {},
   "source": [
    "## Defining the Activities\n",
    "\n",
    "To complete the simulation we need to define which activities need to be completed to complete the simulation. An activity always consists of transporting materials from an origin container to a destination container. We need to define an activity for each origin, destination and the equipment used to transport the materials. For installing the clay layer we will use the transport barges, gantry and installation crane. Since we have two transport barges that could be used, we define two activities for each of the clay layer sites, one for each set of equipment. We also wish to install the clay layer in order, so for each site we need to define a condition that states that the previous site needs to be completed first."
   ]
  },
  {
   "cell_type": "code",
   "execution_count": 8,
   "metadata": {},
   "outputs": [],
   "source": [
    "activities = []\n",
    "\n",
    "clay_layer_index = 0\n",
    "clay_sites = sites[clay_layer_index]\n",
    "for i, clay_site in enumerate(clay_sites):\n",
    "    for barge_index, transport_barge in enumerate([transport_barge_01, transport_barge_02]):\n",
    "        # for the first site we do not need to define any condition\n",
    "        condition = None if i == 0 else model.LevelCondition(container=clay_sites[i-1], min_level=data_clay[\"capacity\"])\n",
    "        activity = model.Activity(env=my_env,\n",
    "                                  name=\"Clay_Placement_S\" + format(i+1, '02.0f') + \"_B\" + format(barge_index + 1, '02.0f'),\n",
    "                                  origin=stocks[clay_layer_index],\n",
    "                                  destination=clay_site,\n",
    "                                  loader=gantry_crane,\n",
    "                                  mover=transport_barge,\n",
    "                                  unloader=installation_crane,\n",
    "                                  start_condition=condition)\n",
    "        activities.append(activity)"
   ]
  },
  {
   "cell_type": "markdown",
   "metadata": {},
   "source": [
    "As can be seen in the code fragment above, the Activity class takes the Simpy environment and a name as its constructor arguments. This is because it is defined as a mixin of the SimpyObject and Identifiable core classes. To construct an activity we also needed to define the origin, destination, loader, mover and unloader. Finally, we can optionally define conditions that need to be satisfied for the transportation of materials to take place. These are separated in __start_condition__, __stop_condition__ and __condition__ arguments:\n",
    "* __start_condition__: The activity will start as soon as this condition is satisfied. If this condition is not yet satisfied at the start of the simulation the activity will be suspended untill the condition is satisfied at a later time. Since we do not want any clay to be transported to the later sites if the previous site has not yet been completed, we define this condition as a start_condition.\n",
    "* __stop_condition__: After the activity has started (the start_condition was satisfied), it will regularly check if the stop_condition has been satisfied. If so, the activity is considered complete and will terminate. A simulation will not terminate untill all of its activities have been completed. By default (with stop_condition=None), the stop_condition is set to either the origin container being empty, or the destination container being full. This is sufficient in our case, so we do not specify a stop_condition. \n",
    "* __condition__: After the activity has started (the start_condition was satisfied) and as long as the stop_condition is not satisfied, the activity will continuously check whether this condition is satisfied. If so, it will complete exactly one transportation of materials (loading the mover at the origin and unloading the mover at the destination). If not, the activity will wait untill the condition is satisfied again. Defining such a condition allows for the activity to be temporarily halted, for example due to bad weather or other working conditions, and resuming at a later time when the problem preventing work has passed. \n",
    "\n",
    "All of these condition arguments take a \"Condition\" object. This object should have a \"satisfied\" method which returns a boolean indicating whether the condition is satsified or not. The digital twin package provides a LevelCondition, allowing you to quickly construct a condition which will check if an object extending HasContainer has a certain minimum and/or maximum level. It also provides an AndCondition and OrCondition which allow for combining other condition objects into a single condition. You can also provide your own \"Condition\" class, for example you could program a \"Condition\" class which depending on the time in the simulation (the .now fixture of the Simpy environment), returns whether the weather is good enough for work to take place:"
   ]
  },
  {
   "cell_type": "code",
   "execution_count": 9,
   "metadata": {},
   "outputs": [],
   "source": [
    "class WeatherCondition:\n",
    "    def __init__(self, env, *args, **kwargs):\n",
    "        super().__init__(*args, **kwargs)\n",
    "        \"\"\"Initialization\"\"\"\n",
    "        self.env = env\n",
    "    \n",
    "    def satisfied(self):\n",
    "        return self.env.now < 30_000 or self.env.now > 40_000  # between time step 30_000 and 40_000 a \"storm\" takes place"
   ]
  },
  {
   "cell_type": "markdown",
   "metadata": {},
   "source": [
    "For our simple dike building example we do not define any advanced conditions. We do need to define Activities for the other layers (sand, armour and levvel). For each of these layers we again require that they are installed in order. We also require the previous layer to be completed, before the next layer can be installed. To achieve this we combine two LevelConditions with an AndCondition. We choose to install the sand layer using the hopper, and the armour and levvel layers using the transport barges and grantry and installation cranes."
   ]
  },
  {
   "cell_type": "code",
   "execution_count": 10,
   "metadata": {},
   "outputs": [],
   "source": [
    "# define the sand layer Activities\n",
    "sand_layer_index = 1\n",
    "sand_sites = sites[sand_layer_index]\n",
    "for i, sand_site in enumerate(sand_sites):\n",
    "    # for the first site we do not need to define a condition on the previous site\n",
    "    prev_site_condition = model.TrueCondition() if i == 0 else model.LevelCondition(container=sand_sites[i-1], \n",
    "                                                                          min_level=sand_sites[i-1].container.capacity)\n",
    "    prev_layer_sites = sites[clay_layer_index]\n",
    "    prev_layer_condition = model.LevelCondition(prev_layer_sites[i], min_level=prev_layer_sites[i].container.capacity)\n",
    "    start_condition = model.AndCondition([prev_site_condition, prev_layer_condition])\n",
    "    activity = model.Activity(env=my_env,\n",
    "                              name=\"Sand_Placement_S\" + format(i+1, '02.0f'),\n",
    "                              origin=stocks[sand_layer_index],\n",
    "                              destination=sand_site,\n",
    "                              loader=hopper,\n",
    "                              mover=hopper,\n",
    "                              unloader=hopper,\n",
    "                              start_condition=start_condition)\n",
    "    activities.append(activity)\n",
    "\n",
    "# define the armour and level layer activities\n",
    "layer_names = [\"Armour_Placement\", \"Levvel_Placement\"]\n",
    "layer_indices = [2, 3]\n",
    "for layer_index in layer_indices:\n",
    "    for barge_index, transport_barge in enumerate([transport_barge_01, transport_barge_02]):\n",
    "        layer_sites = sites[layer_index]\n",
    "        for site_index, site in enumerate(layer_sites):\n",
    "            # for the first site we do not need to define a condition on the previous site\n",
    "            prev_site_condition = model.TrueCondition() if site_index == 0 else \\\n",
    "                model.LevelCondition(container=layer_sites[site_index-1], \n",
    "                                     min_level=layer_sites[site_index-1].container.capacity)\n",
    "            \n",
    "            prev_layer_sites = sites[layer_index - 1]\n",
    "            prev_layer_condition = model.LevelCondition(container=prev_layer_sites[site_index],\n",
    "                                                        min_level=prev_layer_sites[site_index].container.capacity)\n",
    "            start_condition = model.AndCondition([prev_site_condition, prev_layer_condition])\n",
    "            \n",
    "            activity = model.Activity(env=my_env,\n",
    "                                      name=layer_names[layer_index-2] + \"_S\" + format(site_index+1, '02.0f')\n",
    "                                           + \"_B\" + format(barge_index+1, '02.0f'),\n",
    "                                      origin=stocks[layer_index],\n",
    "                                      destination=site,\n",
    "                                      loader=gantry_crane,\n",
    "                                      mover=transport_barge,\n",
    "                                      unloader=installation_crane,\n",
    "                                      start_condition=start_condition)\n",
    "            activities.append(activity)"
   ]
  },
  {
   "cell_type": "markdown",
   "metadata": {},
   "source": [
    "## Running the Simulation\n",
    "\n",
    "To run the simulation, we now simply need to tell the Simpy environment to run. This will run all activities (most of which will first suspend themselved unstill the start_condition is satisfied) and terminate once every Activity has reached its stop_condition. To allow for the visualisation later, we record the start time in the environment."
   ]
  },
  {
   "cell_type": "code",
   "execution_count": 15,
   "metadata": {},
   "outputs": [
    {
     "name": "stdout",
     "output_type": "stream",
     "text": [
      "\n*** Installation of dike finished in 160 days, 21:51:12 ***\n"
     ]
    }
   ],
   "source": [
    "my_env.epoch = datetime.datetime.now()\n",
    "\n",
    "my_env.run()\n",
    "\n",
    "print(\"\\n*** Installation of dike finished in {} ***\".format(datetime.timedelta(seconds=int(my_env.now))))"
   ]
  },
  {
   "cell_type": "markdown",
   "metadata": {},
   "source": [
    "## Analysing the Results\n",
    "\n",
    "In addition to the print statements provided by the Activity class, it also enters log entries into the logs of the origin, destination, mover, loader and unloader to mark when events such as loading or unloading the mover took place. For the mover, origin and destination, these log entries also contain the level of the container at the time of the log entry. This can be used for some basic visualisation of the simulation in Google Earth. "
   ]
  },
  {
   "cell_type": "code",
   "execution_count": 17,
   "metadata": {},
   "outputs": [],
   "source": [
    "# define an icon to use for the locations\n",
    "icon = 'http://maps.google.com/mapfiles/kml/shapes/donut.png'\n",
    "size = 1\n",
    "\n",
    "# create a kml file containing the visualisation\n",
    "kml = Kml()\n",
    "fol = kml.newfolder(name=\"Dike Installation\")\n",
    "\n",
    "shared_style = Style()\n",
    "shared_style.labelstyle.color = 'ffffffff'  # White\n",
    "shared_style.labelstyle.scale = 1  \n",
    "shared_style.iconstyle.color = 'ffff0000'  # Blue\n",
    "shared_style.iconstyle.scale = 1\n",
    "shared_style.iconstyle.icon.href = icon\n",
    "\n",
    "# each stock should just be represented as a single point\n",
    "for stock in stocks:\n",
    "    pnt = fol.newpoint(name=stock.name, coords=[(stock.geometry.x, stock.geometry.y)])\n",
    "    pnt.timestamp.when = my_env.epoch.isoformat()\n",
    "    pnt.style = shared_style\n",
    "\n",
    "for layer_sites in sites:\n",
    "    for layer_site in layer_sites:\n",
    "        # layer_site.value contains the container level for each log entry\n",
    "        # layer_site.t contains the time of each log entry (seconds since the start of the simulation)\n",
    "        # layer_site.log contains the message of each log entry\n",
    "        \n",
    "        # add points for each time the level increased\n",
    "        coords = [(layer_site.geometry.x, layer_site.geometry.y)]\n",
    "        for log_index, value in enumerate(layer_site.value[:-1]):\n",
    "            # convert to real dates\n",
    "            begin = my_env.epoch + datetime.timedelta(seconds=layer_site.t[log_index])\n",
    "            end = my_env.epoch + datetime.timedelta(seconds=layer_site.t[log_index + 1])\n",
    "            pnt = fol.newpoint(name='', coords=coords)\n",
    "            pnt.timestamp.begin = begin.isoformat()\n",
    "            pnt.timestamp.end = end.isoformat()\n",
    "            \n",
    "            # use custom style\n",
    "            style = Style()\n",
    "            style.labelstyle.color = 'ffffffff'  # White\n",
    "            style.labelstyle.scale = 1  \n",
    "            style.iconstyle.color = 'ffff0000'  # Blue\n",
    "            style.iconstyle.scale = (value / layer_site.container.capacity) * size\n",
    "            style.iconstyle.icon.href = icon\n",
    "            pnt.style = style\n",
    "        \n",
    "        # add a final point for when the site has been completed\n",
    "        begin = my_env.epoch + datetime.timedelta(seconds=layer_site.t[-1])\n",
    "        end = my_env.epoch + datetime.timedelta(seconds=my_env.now)\n",
    "        pnt = fol.newpoint(name='', coords=coords)\n",
    "        pnt.timespan.begin = begin.isoformat()\n",
    "        pnt.timespan.end = end.isoformat()\n",
    "        \n",
    "        # use custom style\n",
    "        style = Style()\n",
    "        style.labelstyle.color = 'ffffffff'  # White\n",
    "        style.labelstyle.scale = 1  \n",
    "        style.iconstyle.color = 'ff00ff00'   # Green\n",
    "        style.iconstyle.scale = (layer_site.value[-1] / layer_site.container.capacity) * size\n",
    "        style.iconstyle.icon.href = icon\n",
    "        pnt.style = style\n",
    "\n",
    "kml.save(\"sharedstyle.kml\")"
   ]
  },
  {
   "cell_type": "markdown",
   "metadata": {},
   "source": [
    "Opening the \"sharedstyle.kml\" file in Google Earth will show a simple animation of the layers and the order in which they are completed. "
   ]
  },
  {
   "cell_type": "code",
   "execution_count": 18,
   "metadata": {},
   "outputs": [],
   "source": [
    "# open the file\n",
    "if platform.system():\n",
    "    !start ./sharedstyle.kml\n",
    "else:\n",
    "    !start explorer ./sharedstyle.kml"
   ]
  },
  {
   "cell_type": "code",
   "execution_count": null,
   "metadata": {},
   "outputs": [],
   "source": [
    ""
   ]
  }
 ],
 "metadata": {
  "kernelspec": {
   "display_name": "Python 2",
   "language": "python",
   "name": "python2"
  },
  "language_info": {
   "codemirror_mode": {
    "name": "ipython",
    "version": 2
   },
   "file_extension": ".py",
   "mimetype": "text/x-python",
   "name": "python",
   "nbconvert_exporter": "python",
   "pygments_lexer": "ipython2",
   "version": "2.7.6"
  }
 },
 "nbformat": 4,
 "nbformat_minor": 0
}
