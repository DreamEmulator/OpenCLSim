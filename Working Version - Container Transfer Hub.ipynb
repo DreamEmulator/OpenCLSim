{
 "cells": [
  {
   "cell_type": "markdown",
   "metadata": {},
   "source": [
    "## Working Version - Container Transfer Hub"
   ]
  },
  {
   "cell_type": "markdown",
   "metadata": {},
   "source": [
    "**Example description:** Example of a container transfer hub, where very large container vessels deliver containers, while smaller vessels take care of the distribution to the hinterland."
   ]
  },
  {
   "cell_type": "markdown",
   "metadata": {},
   "source": [
    "* [**0. Import required libraries:**](#0.-Import-required-libraries)<br>\n",
    "* [**1. Define work method:**](#1.-Define-work-method)<br>\n",
    "   * [**1.1 Sites:**](#1.1-Define-the-project-sites)<br>\n",
    "   * [**1.2 Equipment:**](#1.2-Define-the-project-equipment)<br>\n",
    "   * [**1.3 Activities:**](#1.3-Define-the-activity)<br>\n",
    "* [**2. Run the simulation:**](#2.-Run-the-simulation)<br>\n",
    "* [**3. Post processing:**](#3.-Postprocessing)<br>"
   ]
  },
  {
   "cell_type": "markdown",
   "metadata": {},
   "source": [
    "## 0. Import required libraries"
   ]
  },
  {
   "cell_type": "code",
   "execution_count": 1,
   "metadata": {
    "scrolled": true
   },
   "outputs": [],
   "source": [
    "# package(s) related to time, space and id\n",
    "import datetime, time\n",
    "import platform\n",
    "import random\n",
    "import os\n",
    "\n",
    "# you need these dependencies (you can get these from anaconda)\n",
    "# package(s) related to the simulation\n",
    "import simpy\n",
    "\n",
    "# spatial libraries \n",
    "import shapely.geometry\n",
    "from simplekml import Kml, Style\n",
    "import pyproj\n",
    "\n",
    "# package(s) for data handling\n",
    "import numpy as np\n",
    "import pandas as pd\n",
    "import matplotlib.pyplot as plt\n",
    "import matplotlib.animation as animation\n",
    "\n",
    "# digital twin package\n",
    "import digital_twin.core as core1\n",
    "import digital_twin.model as model1\n",
    "import digital_twin.plot as plot\n",
    "\n",
    "# Used for making the graph to visualize our problem\n",
    "import networkx as nx\n",
    "\n",
    "# Used for mathematical functions\n",
    "import math\n",
    "\n",
    "# transport network analysis package\n",
    "import transport_network_analysis.core as core\n",
    "import transport_network_analysis.model as model\n",
    "\n",
    "# Vessel database\n",
    "location_vessel_database = \"Vessels/richtlijnen-duwbakken-2017.csv\""
   ]
  },
  {
   "cell_type": "code",
   "execution_count": 2,
   "metadata": {},
   "outputs": [],
   "source": [
    "# Create simulation environment\n",
    "simulation_start = datetime.datetime(2019, 1, 1)\n",
    "\n",
    "my_env = simpy.Environment(initial_time = time.mktime(simulation_start.timetuple()))\n",
    "\n",
    "my_env.epoch = time.mktime(simulation_start.timetuple())"
   ]
  },
  {
   "cell_type": "markdown",
   "metadata": {},
   "source": [
    "## 1. Define work method"
   ]
  },
  {
   "cell_type": "markdown",
   "metadata": {},
   "source": [
    "### 1.1 Define the project sites\n",
    "You can specify a project site object by entering mix-ins:\n",
    "\n",
    "    core.Identifiable - enables you to give the object a name\n",
    "    core.Log - enables you to log all discrete events in which the object is involved\n",
    "    core.Locatable - enables you to add coordinates to extract distance information and visualize\n",
    "    core.HasContainer - enables you to add information on the material available at the site\n",
    "    core.HasResource - enables you to add information on serving equipment\n",
    "    core.HasWeather - enables you to add weather conditions"
   ]
  },
  {
   "cell_type": "markdown",
   "metadata": {},
   "source": [
    "#### Create objects and specify the properties for sites you wish to create"
   ]
  },
  {
   "cell_type": "code",
   "execution_count": 3,
   "metadata": {},
   "outputs": [],
   "source": [
    "def connect_sites_with_path(data_from_site, data_to_site, data_node, path):\n",
    "    Nodes = []\n",
    "    Edges = []\n",
    "    Site = type('Site', (core1.Identifiable, # Give it a name\n",
    "             core1.Log,          # Allow logging of all discrete events\n",
    "             core1.Locatable,    # Add coordinates to extract distance information and visualize\n",
    "             core1.HasContainer, # Add information on the material available at the site\n",
    "             core1.HasResource), # Add information on serving equipment\n",
    "    {})                               # The dictionary is empty because the site type is generic\n",
    "\n",
    "    Node = type('Node', (core1.Identifiable, # Give it a name\n",
    "             core1.Log,                      # Allow logging of all discrete events\n",
    "             core1.Locatable),               # Add coordinates to extract distance information and visualize\n",
    "    {})                                           # The dictionary is empty because the site type is generic\n",
    "    \n",
    "#     Edge = type('Edge', (core.Identifiable, # Give it a name\n",
    "#              core.Log,           # Allow logging of all discrete events\n",
    "#              core.Locatable,    # Add coordinates to extract distance information and visualize\n",
    "#              core.HasWeather),  # Add water levels to waterways\n",
    "#     {})\n",
    "\n",
    "    for i, j in enumerate(path):\n",
    "        if i == 0:\n",
    "            data_from_site[\"geometry\"]=shapely.geometry.Point(path[i][0], path[i][1])\n",
    "            Nodes.append(Site(**data_from_site))\n",
    "\n",
    "        elif i == len(path) - 1:\n",
    "            data_to_site[\"geometry\"]=shapely.geometry.Point(path[i][0], path[i][1])\n",
    "            Nodes.append(Site(**data_to_site))\n",
    "            Edges.append([Nodes[i-1], Nodes[i]])\n",
    "            \n",
    "        else:\n",
    "            data_node[\"geometry\"]=shapely.geometry.Point(path[i][0], path[i][1])\n",
    "            data_node[\"name\"]='node-' + str(i)\n",
    "            node = Node(**data_node)\n",
    "            node.name = node.id\n",
    "            Nodes.append(node)\n",
    "            Edges.append([Nodes[i-1], Nodes[i]])\n",
    "            \n",
    "    return Nodes, Edges"
   ]
  },
  {
   "cell_type": "code",
   "execution_count": 4,
   "metadata": {},
   "outputs": [],
   "source": [
    "data_from_site = {\"env\": my_env,                  # The simpy environment defined in the first cel\n",
    "                  \"name\": \"Origin locatie\",       # The name of the site\n",
    "                  \"geometry\": [],                 # The coordinates of the project site\n",
    "                  \"capacity\": 10_000_000,         # The capacity of the site\n",
    "                  \"level\": 10_000_000}            # The actual volume of the site\n",
    "\n",
    "data_inter_site = {\"env\": my_env,                 # The simpy environment defined in the first cel\n",
    "                \"name\": \"Overslag locatie\",       # The name of the site\n",
    "                \"geometry\": [],                   # The coordinates of the project site\n",
    "                \"capacity\": 100_000_000,           # The capacity of the site\n",
    "                \"level\": 0}                       # The actual volume of the site (empty of course)\n",
    "\n",
    "data_to_site1 = {\"env\": my_env,                   # The simpy environment defined in the first cel\n",
    "                \"name\": \"Haven Nijmegen\",         # The name of the site\n",
    "                \"geometry\": [],                   # The coordinates of the project site\n",
    "                \"capacity\": 5_000_000,            # The capacity of the site\n",
    "                \"level\": 0}                       # The actual volume of the site (empty of course)\n",
    "\n",
    "data_to_site2 = {\"env\": my_env,                   # The simpy environment defined in the first cel\n",
    "                \"name\": \"Haven Deventer\",         # The name of the site\n",
    "                \"geometry\": [],                   # The coordinates of the project site\n",
    "                \"capacity\": 5_000_000,            # The capacity of the site\n",
    "                \"level\": 0}                       # The actual volume of the site (empty of course)\n",
    "\n",
    "data_node = {\"env\": my_env,                       # The simpy environment defined in the first cel\n",
    "                 \"name\": \"Intermediate site\",     # The name of the waterway\n",
    "                 \"geometry\": []}                  # The coordinates of the project site\n"
   ]
  },
  {
   "cell_type": "code",
   "execution_count": null,
   "metadata": {},
   "outputs": [],
   "source": []
  },
  {
   "cell_type": "code",
   "execution_count": null,
   "metadata": {},
   "outputs": [],
   "source": []
  },
  {
   "cell_type": "code",
   "execution_count": 5,
   "metadata": {},
   "outputs": [],
   "source": [
    "path_from_to_inter = [[3.223979059949225,52.03276781167011],\n",
    "                        [3.656045091181079,52.04776907241202],\n",
    "                        [3.953697524848219,52.02803067898825],\n",
    "                        [4.067560378249368,51.95173269362142]]"
   ]
  },
  {
   "cell_type": "code",
   "execution_count": 6,
   "metadata": {},
   "outputs": [],
   "source": [
    "path_inter_to_destination1 = [[4.067560378249368,51.95173269362142],\n",
    "                             [5.260911,51.820500],\n",
    "                             [5.830619709457634,51.86183419049677],\n",
    "                             [5.830727947258836,51.86102575658615]]"
   ]
  },
  {
   "cell_type": "code",
   "execution_count": 7,
   "metadata": {},
   "outputs": [],
   "source": [
    "path_inter_to_destination2 = [[4.067560378249368,51.95173269362142],\n",
    "                             [5.937599,51.964640],\n",
    "                             [6.197050,52.092425],\n",
    "                             [6.172119444444445,52.247375]]"
   ]
  },
  {
   "cell_type": "markdown",
   "metadata": {},
   "source": [
    "#### Finally create specific instances of the predefined objects with the specified properties"
   ]
  },
  {
   "cell_type": "code",
   "execution_count": 8,
   "metadata": {},
   "outputs": [],
   "source": [
    "Nodes1, Edges1 = connect_sites_with_path(data_from_site, data_inter_site, data_node, path_from_to_inter)\n",
    "Nodes2, Edges2 = connect_sites_with_path(data_inter_site, data_to_site1, data_node, path_inter_to_destination1)\n",
    "Nodes3, Edges3 = connect_sites_with_path(data_inter_site, data_to_site2, data_node, path_inter_to_destination2)"
   ]
  },
  {
   "cell_type": "markdown",
   "metadata": {},
   "source": [
    "#### Create graph"
   ]
  },
  {
   "cell_type": "code",
   "execution_count": 9,
   "metadata": {},
   "outputs": [
    {
     "name": "stdout",
     "output_type": "stream",
     "text": [
      "Origin locatie\n",
      "fa73dedc-6c0b-11e9-96e3-9061aef054a5\n",
      "fa73dedd-6c0b-11e9-8be9-9061aef054a5\n",
      "Overslag locatie\n",
      "Origin locatie - fa73dedc-6c0b-11e9-96e3-9061aef054a5\n",
      "fa73dedc-6c0b-11e9-96e3-9061aef054a5 - fa73dedd-6c0b-11e9-8be9-9061aef054a5\n",
      "fa73dedd-6c0b-11e9-8be9-9061aef054a5 - Overslag locatie\n",
      "Overslag locatie\n",
      "fa73dee0-6c0b-11e9-b474-9061aef054a5\n",
      "fa73dee1-6c0b-11e9-99c1-9061aef054a5\n",
      "Haven Nijmegen\n",
      "Overslag locatie - fa73dee0-6c0b-11e9-b474-9061aef054a5\n",
      "fa73dee0-6c0b-11e9-b474-9061aef054a5 - fa73dee1-6c0b-11e9-99c1-9061aef054a5\n",
      "fa73dee1-6c0b-11e9-99c1-9061aef054a5 - Haven Nijmegen\n",
      "Overslag locatie\n",
      "fa73f37a-6c0b-11e9-b1c4-9061aef054a5\n",
      "fa740666-6c0b-11e9-ad17-9061aef054a5\n",
      "Haven Deventer\n",
      "Overslag locatie - fa73f37a-6c0b-11e9-b1c4-9061aef054a5\n",
      "fa73f37a-6c0b-11e9-b1c4-9061aef054a5 - fa740666-6c0b-11e9-ad17-9061aef054a5\n",
      "fa740666-6c0b-11e9-ad17-9061aef054a5 - Haven Deventer\n"
     ]
    },
    {
     "name": "stderr",
     "output_type": "stream",
     "text": [
      "C:\\Users\\serva\\Documents\\Thesis\\Modelleren\\Anaconda3\\lib\\site-packages\\networkx\\drawing\\nx_pylab.py:611: MatplotlibDeprecationWarning:\n",
      "\n",
      "isinstance(..., numbers.Number)\n",
      "\n"
     ]
    },
    {
     "data": {
      "image/png": "[encoded data removed]",
      "text/plain": [
       "<Figure size 432x288 with 1 Axes>"
      ]
     },
     "metadata": {},
     "output_type": "display_data"
    }
   ],
   "source": [
    "def add_path_to_graph(G, positions, Nodes, Edges):\n",
    "    \n",
    "    for node in Nodes:\n",
    "        print(node.name)\n",
    "        positions[node.name] = (node.geometry.x, node.geometry.y)\n",
    "        G.add_node(node.name, geometry = node.geometry)\n",
    "        \n",
    "    for edge in Edges:\n",
    "        print(edge[0].name + ' - ' + edge[1].name)\n",
    "        G.add_edge(edge[0].name, edge[1].name, weight = 1)\n",
    "        \n",
    "    return G, positions\n",
    "\n",
    "positions = {}\n",
    "G = nx.Graph()\n",
    "\n",
    "G, positions = add_path_to_graph(G, positions, Nodes1, Edges1)\n",
    "G, positions = add_path_to_graph(G, positions, Nodes2, Edges2)\n",
    "G, positions = add_path_to_graph(G, positions, Nodes3, Edges3)\n",
    "\n",
    "nx.draw(G, positions)\n",
    "\n",
    "my_env.G = G"
   ]
  },
  {
   "cell_type": "code",
   "execution_count": 10,
   "metadata": {},
   "outputs": [],
   "source": [
    "# #Koppelen van water levels aan Edges. Dit lijstje wordt op den duur vervangen door een lijst die uit Sobek moet rollen.\n",
    "# water_levels1 = [1, 2, 3]\n",
    "\n",
    "# #For Nodes1 and Edges1\n",
    "# for i in range(len(Edges1)):\n",
    "#     edge_attribute_dict = {\n",
    "#         (Nodes1[i].name, Nodes1[i+1].name) : {\"water level\": water_levels1[i]},\n",
    "#         }\n",
    "#     nx.set_edge_attributes(FG, edge_attribute_dict)\n",
    "\n",
    "# print(FG.edges(data=True))"
   ]
  },
  {
   "cell_type": "markdown",
   "metadata": {},
   "source": [
    "### 1.2 Define the project equipment\n",
    "You can specify a vessel object by entering mix-ins:\n",
    "\n",
    "    core.Identifiable - enables you to give the object a name\n",
    "    core.Log - enables you to log all discrete events in which the object is involved\n",
    "    core.ContainerDependentMovable - A moving container, so capacity and location\n",
    "    core.Processor - Allow for loading and unloading\n",
    "    core.HasResource - Add information on serving equipment\n",
    "    core.HasDepthRestriction - Add information on depth restriction "
   ]
  },
  {
   "cell_type": "markdown",
   "metadata": {},
   "source": [
    "#### First create objects with the desired properties"
   ]
  },
  {
   "cell_type": "code",
   "execution_count": null,
   "metadata": {},
   "outputs": [],
   "source": []
  },
  {
   "cell_type": "code",
   "execution_count": 11,
   "metadata": {},
   "outputs": [
    {
     "data": {
      "text/html": [
       "<div>\n",
       "<style scoped>\n",
       "    .dataframe tbody tr th:only-of-type {\n",
       "        vertical-align: middle;\n",
       "    }\n",
       "\n",
       "    .dataframe tbody tr th {\n",
       "        vertical-align: top;\n",
       "    }\n",
       "\n",
       "    .dataframe thead th {\n",
       "        text-align: right;\n",
       "    }\n",
       "</style>\n",
       "<table border=\"1\" class=\"dataframe\">\n",
       "  <thead>\n",
       "    <tr style=\"text-align: right;\">\n",
       "      <th></th>\n",
       "      <th>vessel_id</th>\n",
       "      <th>vessel_type</th>\n",
       "      <th>width</th>\n",
       "      <th>length</th>\n",
       "      <th>draught_empty</th>\n",
       "      <th>draught_full</th>\n",
       "      <th>capacity</th>\n",
       "    </tr>\n",
       "  </thead>\n",
       "  <tbody>\n",
       "    <tr>\n",
       "      <th>0</th>\n",
       "      <td>12ad8a02-4aef-11e9-9940-b469212bff5b</td>\n",
       "      <td>CEMT - I</td>\n",
       "      <td>5.2</td>\n",
       "      <td>55.0</td>\n",
       "      <td>0.6</td>\n",
       "      <td>1.90</td>\n",
       "      <td>400</td>\n",
       "    </tr>\n",
       "    <tr>\n",
       "      <th>1</th>\n",
       "      <td>17746aee-4aef-11e9-8ebf-b469212bff5b</td>\n",
       "      <td>CEMT - II</td>\n",
       "      <td>6.6</td>\n",
       "      <td>65.0</td>\n",
       "      <td>0.6</td>\n",
       "      <td>2.60</td>\n",
       "      <td>500</td>\n",
       "    </tr>\n",
       "    <tr>\n",
       "      <th>2</th>\n",
       "      <td>1be5fb2e-4aef-11e9-9bfb-b469212bff5b</td>\n",
       "      <td>CEMT - III</td>\n",
       "      <td>8.2</td>\n",
       "      <td>85.0</td>\n",
       "      <td>0.6</td>\n",
       "      <td>2.70</td>\n",
       "      <td>925</td>\n",
       "    </tr>\n",
       "    <tr>\n",
       "      <th>3</th>\n",
       "      <td>208a5aca-4aef-11e9-b7e9-b469212bff5</td>\n",
       "      <td>CEMT - IV</td>\n",
       "      <td>9.5</td>\n",
       "      <td>70.0</td>\n",
       "      <td>0.6</td>\n",
       "      <td>3.00</td>\n",
       "      <td>1450</td>\n",
       "    </tr>\n",
       "    <tr>\n",
       "      <th>4</th>\n",
       "      <td>24f93100-4aef-11e9-8ff9-b469212bff5b</td>\n",
       "      <td>CEMT - Va</td>\n",
       "      <td>11.4</td>\n",
       "      <td>115.0</td>\n",
       "      <td>0.6</td>\n",
       "      <td>3.75</td>\n",
       "      <td>2875</td>\n",
       "    </tr>\n",
       "  </tbody>\n",
       "</table>\n",
       "</div>"
      ],
      "text/plain": [
       "                              vessel_id vessel_type  width  length  \\\n",
       "0  12ad8a02-4aef-11e9-9940-b469212bff5b    CEMT - I    5.2    55.0   \n",
       "1  17746aee-4aef-11e9-8ebf-b469212bff5b   CEMT - II    6.6    65.0   \n",
       "2  1be5fb2e-4aef-11e9-9bfb-b469212bff5b  CEMT - III    8.2    85.0   \n",
       "3   208a5aca-4aef-11e9-b7e9-b469212bff5   CEMT - IV    9.5    70.0   \n",
       "4  24f93100-4aef-11e9-8ff9-b469212bff5b   CEMT - Va   11.4   115.0   \n",
       "\n",
       "   draught_empty  draught_full  capacity  \n",
       "0            0.6          1.90       400  \n",
       "1            0.6          2.60       500  \n",
       "2            0.6          2.70       925  \n",
       "3            0.6          3.00      1450  \n",
       "4            0.6          3.75      2875  "
      ]
     },
     "execution_count": 11,
     "metadata": {},
     "output_type": "execute_result"
    }
   ],
   "source": [
    "vessel_db = pd.read_csv(location_vessel_database)\n",
    "vessel_db.head(5)\n",
    "# print(vessel_db.loc[:, 'vessel_type'])"
   ]
  },
  {
   "cell_type": "code",
   "execution_count": null,
   "metadata": {},
   "outputs": [],
   "source": []
  },
  {
   "cell_type": "code",
   "execution_count": 12,
   "metadata": {},
   "outputs": [],
   "source": [
    "\n",
    "# TransportProcessingResource = type('TransportProcessingResource', \n",
    "#                                    (core.Identifiable,              # Give it a name\n",
    "#                                     core.Log,                       # Allow logging of all discrete events\n",
    "#                                     core.ContainerDependentMovable, # A moving container, so capacity and location\n",
    "#                                     core.Processor,                 # Allow for loading and unloading\n",
    "#                                     core.HasResource,               # Add information on serving equipment\n",
    "#                                     core.HasSoil,                   # Add soil object, because it moves soil\n",
    "#                                     core.Routeable,                 # Initialize spill terms\n",
    "#                                     core.HasDepthRestriction),      # Draught (related to loading) is limited by depth\n",
    "#                                    {})\n",
    "\n",
    "# The generic class for an object that can transport\n",
    "\n",
    "Vessel = type('Vessel',\n",
    "              (core.Identifiable, \n",
    "               core.Log, \n",
    "               core1.ContainerDependentMovable,\n",
    "               core.VesselProperties, \n",
    "               core1.Processor, \n",
    "               core.HasResource, \n",
    "               core.Routeable), \n",
    "              {})"
   ]
  },
  {
   "cell_type": "code",
   "execution_count": 25,
   "metadata": {},
   "outputs": [
    {
     "name": "stdout",
     "output_type": "stream",
     "text": [
      "<transport_network_analysis.model.VesselGenerator object at 0x0000018D3FF6A7B8>\n"
     ]
    }
   ],
   "source": [
    "generator = model.VesselGenerator(Vessel, vessel_db)\n",
    "print(generator)\n",
    "# print(Vessel.VesselProperties)"
   ]
  },
  {
   "cell_type": "markdown",
   "metadata": {},
   "source": [
    "#### Next specify the properties for vessel(s) you wish to create"
   ]
  },
  {
   "cell_type": "code",
   "execution_count": 19,
   "metadata": {},
   "outputs": [],
   "source": [
    "# For more realistic simulation you might want to have speed dependent on the volume carried by the vessel\n",
    "def compute_v_provider(v_empty, v_full):\n",
    "    return lambda filling: filling * (v_full - v_empty) + v_empty\n",
    "\n",
    "def compute_loading(rate):\n",
    "    return lambda current_level, desired_level: (desired_level - current_level) / rate\n",
    "\n",
    "def compute_unloading(rate):\n",
    "    return lambda current_level, desired_level: (current_level - desired_level) / rate"
   ]
  },
  {
   "cell_type": "code",
   "execution_count": 20,
   "metadata": {},
   "outputs": [],
   "source": [
    "# Draught of the vessel is dependent on the degree of filling\n",
    "def draught_vessel(draught_empty, draught_full):\n",
    "    return lambda filling: filling * (draught_full - draught_empty) + draught_empty\n"
   ]
  },
  {
   "cell_type": "code",
   "execution_count": 21,
   "metadata": {},
   "outputs": [],
   "source": [
    "vessel_stats = {\"env\": my_env,\n",
    "               \"name\": \"Seagoing\",\n",
    "               \"geometry\": Nodes1[0].geometry,\n",
    "               \"loading_func\": compute_loading(1.5),\n",
    "               \"unloading_func\": compute_unloading(1.5),\n",
    "               \"compute_v\": compute_v_provider(5, 4.5),\n",
    "#                \"capacity\": 5_000,\n",
    "               }"
   ]
  },
  {
   "cell_type": "code",
   "execution_count": 30,
   "metadata": {
    "scrolled": false
   },
   "outputs": [
    {
     "ename": "TypeError",
     "evalue": "__init__() missing 1 required positional argument: 'capacity'",
     "output_type": "error",
     "traceback": [
      "\u001b[1;31m---------------------------------------------------------------------------\u001b[0m",
      "\u001b[1;31mTypeError\u001b[0m                                 Traceback (most recent call last)",
      "\u001b[1;32m<ipython-input-30-b0c22f0a480e>\u001b[0m in \u001b[0;36m<module>\u001b[1;34m\u001b[0m\n\u001b[0;32m      1\u001b[0m \u001b[0mvessels\u001b[0m \u001b[1;33m=\u001b[0m \u001b[1;33m[\u001b[0m\u001b[1;33m]\u001b[0m\u001b[1;33m\u001b[0m\u001b[1;33m\u001b[0m\u001b[0m\n\u001b[0;32m      2\u001b[0m \u001b[1;33m\u001b[0m\u001b[0m\n\u001b[1;32m----> 3\u001b[1;33m \u001b[0mvessel\u001b[0m \u001b[1;33m=\u001b[0m \u001b[0mVessel\u001b[0m\u001b[1;33m(\u001b[0m\u001b[1;33m**\u001b[0m\u001b[0mvessel_stats\u001b[0m\u001b[1;33m)\u001b[0m\u001b[1;33m\u001b[0m\u001b[1;33m\u001b[0m\u001b[0m\n\u001b[0m\u001b[0;32m      4\u001b[0m \u001b[0mvessel\u001b[0m\u001b[1;33m.\u001b[0m\u001b[0m__dict__\u001b[0m\u001b[1;33m\u001b[0m\u001b[1;33m\u001b[0m\u001b[0m\n\u001b[0;32m      5\u001b[0m \u001b[1;33m\u001b[0m\u001b[0m\n",
      "\u001b[1;32m~\\Documents\\Thesis\\Modelleren\\Simulatie Transport Rotterdam-Duisburg\\Notebooks\\transport_network_analysis\\core.py\u001b[0m in \u001b[0;36m__init__\u001b[1;34m(self, name, id, *args, **kwargs)\u001b[0m\n\u001b[0;32m     51\u001b[0m \u001b[1;33m\u001b[0m\u001b[0m\n\u001b[0;32m     52\u001b[0m     \u001b[1;32mdef\u001b[0m \u001b[0m__init__\u001b[0m\u001b[1;33m(\u001b[0m\u001b[0mself\u001b[0m\u001b[1;33m,\u001b[0m \u001b[0mname\u001b[0m\u001b[1;33m,\u001b[0m \u001b[0mid\u001b[0m\u001b[1;33m=\u001b[0m\u001b[1;32mNone\u001b[0m\u001b[1;33m,\u001b[0m \u001b[1;33m*\u001b[0m\u001b[0margs\u001b[0m\u001b[1;33m,\u001b[0m \u001b[1;33m**\u001b[0m\u001b[0mkwargs\u001b[0m\u001b[1;33m)\u001b[0m\u001b[1;33m:\u001b[0m\u001b[1;33m\u001b[0m\u001b[1;33m\u001b[0m\u001b[0m\n\u001b[1;32m---> 53\u001b[1;33m         \u001b[0msuper\u001b[0m\u001b[1;33m(\u001b[0m\u001b[1;33m)\u001b[0m\u001b[1;33m.\u001b[0m\u001b[0m__init__\u001b[0m\u001b[1;33m(\u001b[0m\u001b[1;33m*\u001b[0m\u001b[0margs\u001b[0m\u001b[1;33m,\u001b[0m \u001b[1;33m**\u001b[0m\u001b[0mkwargs\u001b[0m\u001b[1;33m)\u001b[0m\u001b[1;33m\u001b[0m\u001b[1;33m\u001b[0m\u001b[0m\n\u001b[0m\u001b[0;32m     54\u001b[0m         \u001b[1;34m\"\"\"Initialization\"\"\"\u001b[0m\u001b[1;33m\u001b[0m\u001b[1;33m\u001b[0m\u001b[0m\n\u001b[0;32m     55\u001b[0m         \u001b[0mself\u001b[0m\u001b[1;33m.\u001b[0m\u001b[0mname\u001b[0m \u001b[1;33m=\u001b[0m \u001b[0mname\u001b[0m\u001b[1;33m\u001b[0m\u001b[1;33m\u001b[0m\u001b[0m\n",
      "\u001b[1;32m~\\Documents\\Thesis\\Modelleren\\Simulatie Transport Rotterdam-Duisburg\\Notebooks\\transport_network_analysis\\core.py\u001b[0m in \u001b[0;36m__init__\u001b[1;34m(self, *args, **kwargs)\u001b[0m\n\u001b[0;32m    112\u001b[0m \u001b[1;33m\u001b[0m\u001b[0m\n\u001b[0;32m    113\u001b[0m     \u001b[1;32mdef\u001b[0m \u001b[0m__init__\u001b[0m\u001b[1;33m(\u001b[0m\u001b[0mself\u001b[0m\u001b[1;33m,\u001b[0m \u001b[1;33m*\u001b[0m\u001b[0margs\u001b[0m\u001b[1;33m,\u001b[0m \u001b[1;33m**\u001b[0m\u001b[0mkwargs\u001b[0m\u001b[1;33m)\u001b[0m\u001b[1;33m:\u001b[0m\u001b[1;33m\u001b[0m\u001b[1;33m\u001b[0m\u001b[0m\n\u001b[1;32m--> 114\u001b[1;33m         \u001b[0msuper\u001b[0m\u001b[1;33m(\u001b[0m\u001b[1;33m)\u001b[0m\u001b[1;33m.\u001b[0m\u001b[0m__init__\u001b[0m\u001b[1;33m(\u001b[0m\u001b[1;33m*\u001b[0m\u001b[0margs\u001b[0m\u001b[1;33m,\u001b[0m \u001b[1;33m**\u001b[0m\u001b[0mkwargs\u001b[0m\u001b[1;33m)\u001b[0m\u001b[1;33m\u001b[0m\u001b[1;33m\u001b[0m\u001b[0m\n\u001b[0m\u001b[0;32m    115\u001b[0m         \u001b[1;34m\"\"\"Initialization\"\"\"\u001b[0m\u001b[1;33m\u001b[0m\u001b[1;33m\u001b[0m\u001b[0m\n\u001b[0;32m    116\u001b[0m         self.log = {\"Message\": [],\n",
      "\u001b[1;32m~\\Documents\\Thesis\\Modelleren\\Simulatie Transport Rotterdam-Duisburg\\Notebooks\\digital_twin\\core.py\u001b[0m in \u001b[0;36m__init__\u001b[1;34m(self, compute_v, *args, **kwargs)\u001b[0m\n\u001b[0;32m    943\u001b[0m                  \u001b[0mcompute_v\u001b[0m\u001b[1;33m,\u001b[0m\u001b[1;33m\u001b[0m\u001b[1;33m\u001b[0m\u001b[0m\n\u001b[0;32m    944\u001b[0m                  *args, **kwargs):\n\u001b[1;32m--> 945\u001b[1;33m         \u001b[0msuper\u001b[0m\u001b[1;33m(\u001b[0m\u001b[1;33m)\u001b[0m\u001b[1;33m.\u001b[0m\u001b[0m__init__\u001b[0m\u001b[1;33m(\u001b[0m\u001b[1;33m*\u001b[0m\u001b[0margs\u001b[0m\u001b[1;33m,\u001b[0m \u001b[1;33m**\u001b[0m\u001b[0mkwargs\u001b[0m\u001b[1;33m)\u001b[0m\u001b[1;33m\u001b[0m\u001b[1;33m\u001b[0m\u001b[0m\n\u001b[0m\u001b[0;32m    946\u001b[0m         \u001b[1;34m\"\"\"Initialization\"\"\"\u001b[0m\u001b[1;33m\u001b[0m\u001b[1;33m\u001b[0m\u001b[0m\n\u001b[0;32m    947\u001b[0m         \u001b[0mself\u001b[0m\u001b[1;33m.\u001b[0m\u001b[0mcompute_v\u001b[0m \u001b[1;33m=\u001b[0m \u001b[0mcompute_v\u001b[0m\u001b[1;33m\u001b[0m\u001b[1;33m\u001b[0m\u001b[0m\n",
      "\u001b[1;32m~\\Documents\\Thesis\\Modelleren\\Simulatie Transport Rotterdam-Duisburg\\Notebooks\\digital_twin\\core.py\u001b[0m in \u001b[0;36m__init__\u001b[1;34m(self, v, *args, **kwargs)\u001b[0m\n\u001b[0;32m    839\u001b[0m \u001b[1;33m\u001b[0m\u001b[0m\n\u001b[0;32m    840\u001b[0m     \u001b[1;32mdef\u001b[0m \u001b[0m__init__\u001b[0m\u001b[1;33m(\u001b[0m\u001b[0mself\u001b[0m\u001b[1;33m,\u001b[0m \u001b[0mv\u001b[0m\u001b[1;33m=\u001b[0m\u001b[1;36m1\u001b[0m\u001b[1;33m,\u001b[0m \u001b[1;33m*\u001b[0m\u001b[0margs\u001b[0m\u001b[1;33m,\u001b[0m \u001b[1;33m**\u001b[0m\u001b[0mkwargs\u001b[0m\u001b[1;33m)\u001b[0m\u001b[1;33m:\u001b[0m\u001b[1;33m\u001b[0m\u001b[1;33m\u001b[0m\u001b[0m\n\u001b[1;32m--> 841\u001b[1;33m         \u001b[0msuper\u001b[0m\u001b[1;33m(\u001b[0m\u001b[1;33m)\u001b[0m\u001b[1;33m.\u001b[0m\u001b[0m__init__\u001b[0m\u001b[1;33m(\u001b[0m\u001b[1;33m*\u001b[0m\u001b[0margs\u001b[0m\u001b[1;33m,\u001b[0m \u001b[1;33m**\u001b[0m\u001b[0mkwargs\u001b[0m\u001b[1;33m)\u001b[0m\u001b[1;33m\u001b[0m\u001b[1;33m\u001b[0m\u001b[0m\n\u001b[0m\u001b[0;32m    842\u001b[0m         \u001b[1;34m\"\"\"Initialization\"\"\"\u001b[0m\u001b[1;33m\u001b[0m\u001b[1;33m\u001b[0m\u001b[0m\n\u001b[0;32m    843\u001b[0m         \u001b[0mself\u001b[0m\u001b[1;33m.\u001b[0m\u001b[0mv\u001b[0m \u001b[1;33m=\u001b[0m \u001b[0mv\u001b[0m\u001b[1;33m\u001b[0m\u001b[1;33m\u001b[0m\u001b[0m\n",
      "\u001b[1;31mTypeError\u001b[0m: __init__() missing 1 required positional argument: 'capacity'"
     ]
    }
   ],
   "source": [
    "vessels = []\n",
    "\n",
    "vessel = Vessel(**vessel_stats)\n",
    "vessel.__dict__\n",
    "\n",
    "# for i in range(10):\n",
    "#     vessel = Vessel(**vessel_stats)\n",
    "#     vessel.name = \"Vessel \" + str(i+1)\n",
    "# #     vessel.capacity = vessel_db[i, -1]\n",
    "\n",
    "#     vessels.append(vessel)\n",
    "\n",
    "print(vessels)"
   ]
  },
  {
   "cell_type": "code",
   "execution_count": 23,
   "metadata": {},
   "outputs": [],
   "source": [
    "# # Large container vessel variables\n",
    "# data_container_large = {\"env\": my_env,                              # The simpy environment \n",
    "#                \"name\": \"Container large\",                           # Name\n",
    "#                \"geometry\": Nodes1[0].geometry,                      # It starts at the \"from site\"\n",
    "#                \"loading_func\": compute_loading(1.5),                # Loading rate\n",
    "#                \"unloading_func\": compute_unloading(1.5),            # Unloading rate\n",
    "#                \"capacity\": vessel_db[5, 9],                                  # Capacity of the container vessel - TEU\n",
    "#                \"compute_v\": compute_v_provider(5, 4.5),             # Variable speed\n",
    "#                \"compute_draught\": draught_vessel(vessel_db[5, 7], vessel_db[5, 8]),             # Variable draught of the vessel\n",
    "#                }"
   ]
  },
  {
   "cell_type": "code",
   "execution_count": null,
   "metadata": {},
   "outputs": [],
   "source": [
    "# # Small container vessel variables\n",
    "# data_container_small_01 = {\"env\": my_env,                           # The simpy environment \n",
    "#                \"name\": \"Container small_01\",                        # Name\n",
    "#                \"geometry\": Nodes1[-1].geometry,                     # It starts at the \"inter site\"\n",
    "#                \"loading_func\": compute_loading(1.5),                # Loading rate\n",
    "#                \"unloading_func\": compute_unloading(1.5),            # Unloading rate\n",
    "#                \"capacity\": 5_000,                                   # Capacity of the container vessel - TEU\n",
    "#                \"compute_v\": compute_v_provider(5, 4.5),             # Variable speed\n",
    "#                \"compute_draught\": draught_vessel(1, 2),             # Variable draught of the vessel\n",
    "#                 }"
   ]
  },
  {
   "cell_type": "code",
   "execution_count": null,
   "metadata": {},
   "outputs": [],
   "source": [
    "# # Small container vessel variables\n",
    "# data_container_small_02 = {\"env\": my_env,                           # The simpy environment \n",
    "#                \"name\": \"Container small_02\",                        # Name\n",
    "#                \"geometry\": Nodes1[-1].geometry,                     # It starts at the \"inter site\"\n",
    "#                \"loading_func\": compute_loading(1.5),                # Loading rate\n",
    "#                \"unloading_func\": compute_unloading(1.5),            # Unloading rate\n",
    "#                \"capacity\": 5_000,                                   # Capacity of the container vessel - TEU\n",
    "#                \"compute_v\": compute_v_provider(5, 4.5),             # Variable speed\n",
    "#                \"compute_draught\": draught_vessel(1, 2),             # Variable draught of the vessel\n",
    "#                 }"
   ]
  },
  {
   "cell_type": "markdown",
   "metadata": {},
   "source": [
    "#### Finally create specific instances of the predefined objects with the specified properties"
   ]
  },
  {
   "cell_type": "code",
   "execution_count": null,
   "metadata": {},
   "outputs": [],
   "source": [
    "# # The simulation object\n",
    "# container_large = Vessel(**vessel_data)\n",
    "# container_small_01 = Vessel(**data_container_small_01)\n",
    "# container_small_02 = Vessel(**data_container_small_02)"
   ]
  },
  {
   "cell_type": "code",
   "execution_count": null,
   "metadata": {},
   "outputs": [],
   "source": [
    "# def start(my_env, vessel):\n",
    "#     while True:\n",
    "        \n",
    "#         vessel.log_entry(\"Start sailing\", my_env.now, \"0\", vessel.geometry)\n",
    "#         yield from vessel.move()\n",
    "#         vessel.log_entry(\"Stop sailing\", my_env.now, \"0\", vessel.geometry)\n",
    "\n",
    "#         if vessel.geometry == nx.get_node_attributes(my_env.G, \"geometry\")[vessel.route[-1]]:\n",
    "#             break"
   ]
  },
  {
   "cell_type": "code",
   "execution_count": null,
   "metadata": {},
   "outputs": [],
   "source": [
    "# vessels = []\n",
    "\n",
    "# # random_1 = random.choice(list(G))\n",
    "# # print(random_1)\n",
    "\n",
    "# # Add 10 vessels to the simulation\n",
    "# for i in range(100):\n",
    "#     path = nx.dijkstra_path(G, Nodes1[0].name, Nodes1[-1].name)\n",
    "\n",
    "    \n",
    "#     vessel = generator.generate(my_env, \"Vessel \" + str(i))\n",
    "#     vessel.route = path\n",
    "# #   vessel.compute_v = compute_v_provider(5, 4.5)\n",
    "#     vessel.geometry = nx.get_node_attributes(my_env.G, \"geometry\")[vessel.route[0]]\n",
    "#     vessels.append(vessel)\n",
    "    \n",
    "#     # Add the movements of the vessel to the simulation\n",
    "#     env.process(start(my_env, vessel))"
   ]
  },
  {
   "cell_type": "markdown",
   "metadata": {},
   "source": [
    "### 1.3 Define the activity"
   ]
  },
  {
   "cell_type": "code",
   "execution_count": null,
   "metadata": {},
   "outputs": [],
   "source": [
    "# # conditie dat intermediate niet leeg is\n",
    "# condition = model.LevelCondition(container=intermediate.container, min_level=1)  \n",
    "\n",
    "# # conditie dat een jaar verstreken is\n",
    "# stop_condition = modelTimeCondition(…)  \n",
    " \n",
    "# activity_2 = model.Activity(…, \n",
    "# start_condition = None,  # laat de activiteit meteen starten als de simulatie begint\n",
    "# condition = condition,  # steeds als tussendoor de intermediate container leeg is, wacht een uur en check daarna nog eens\n",
    "# stop_condition = stop_condition)  # de activiteit eindigt als een jaar verstreken is\n",
    "# (idem voor activity_3)\n"
   ]
  },
  {
   "cell_type": "code",
   "execution_count": null,
   "metadata": {},
   "outputs": [],
   "source": [
    "# Continuous simulation, stop after one year\n",
    "condition = model.LevelCondition(container=Nodes1[0], min_level=1)\n",
    "condition_1 = model.LevelCondition(container=Nodes1[-1], min_level=1)\n",
    "stop_condition = model.TimeCondition(my_env, datetime.datetime(2019, 1, 1), datetime.datetime(2022, 1, 1))\n",
    "\n"
   ]
  },
  {
   "cell_type": "code",
   "execution_count": null,
   "metadata": {},
   "outputs": [],
   "source": [
    "# Create activity\n",
    "activity_1 = model.Activity(env = my_env,                   # The simpy environment defined in the first cel\n",
    "                          name = \"International transport\", # We are moving soil\n",
    "                          origin = Nodes1[0],               # We originate from the from_site\n",
    "                          destination = Nodes1[-1],         # And therefore travel to the to_site\n",
    "                          loader = container_large,         # The benefit of a TSHD, all steps can be done\n",
    "                          mover = container_large,          # The benefit of a TSHD, all steps can be done\n",
    "                          unloader = container_large,       # The benefit of a TSHD, all steps can be done\n",
    "                          start_condition = None,           # We can start right away and do not stop\n",
    "                          condition = condition,            # Activity runs until Origin is empty\n",
    "                          stop_condition = stop_condition)            # Stop after 1 year simulation"
   ]
  },
  {
   "cell_type": "code",
   "execution_count": null,
   "metadata": {},
   "outputs": [],
   "source": [
    "# Create activity                      \n",
    "activity_2 = model.Activity(env = my_env,                   # The simpy environment defined in the first cel\n",
    "                          name = \"Hinterland transport Nijmegen\",    # We are moving soil\n",
    "                          origin = Nodes1[-1],              # We originate from the from_site\n",
    "                          destination = Nodes2[-1],         # And therefore travel to the to_site\n",
    "                          loader = container_small_01,      # The benefit of a TSHD, all steps can be done\n",
    "                          mover = container_small_01,       # The benefit of a TSHD, all steps can be done\n",
    "                          unloader = container_small_01,    # The benefit of a TSHD, all steps can be done\n",
    "                          start_condition = None,           # We can start right away and do not stop\n",
    "                          condition = condition_1,          # Activity runs until Intermediate is empty\n",
    "                          stop_condition = stop_condition)            # Stop after 1 year simulation"
   ]
  },
  {
   "cell_type": "code",
   "execution_count": null,
   "metadata": {},
   "outputs": [],
   "source": [
    "# Create activity                      \n",
    "activity_3 = model.Activity(env = my_env,                   # The simpy environment defined in the first cel\n",
    "                          name = \"Hinterland transport Deventer\",    # We are moving soil\n",
    "                          origin = Nodes1[-1],              # We originate from the from_site\n",
    "                          destination = Nodes3[-1],         # And therefore travel to the to_site\n",
    "                          loader = container_small_02,      # The benefit of a TSHD, all steps can be done\n",
    "                          mover = container_small_02,       # The benefit of a TSHD, all steps can be done\n",
    "                          unloader = container_small_02,    # The benefit of a TSHD, all steps can be done\n",
    "                          start_condition = None,           # We can start right away and do not stop\n",
    "                          condition = condition_1,          # Activity runs until Intermediate is empty\n",
    "                          stop_condition = stop_condition)            # Stop after 1 year simulation"
   ]
  },
  {
   "cell_type": "markdown",
   "metadata": {},
   "source": [
    "### 2. Run the simulation"
   ]
  },
  {
   "cell_type": "code",
   "execution_count": null,
   "metadata": {
    "scrolled": true
   },
   "outputs": [],
   "source": [
    "my_env.run()\n",
    "\n",
    "print(\"\\n*** Transportation of containers finished in {} ***\".format(datetime.timedelta(seconds=int(my_env.now - my_env.epoch))))"
   ]
  },
  {
   "cell_type": "markdown",
   "metadata": {},
   "source": [
    "### 3. Postprocessing"
   ]
  },
  {
   "cell_type": "code",
   "execution_count": null,
   "metadata": {
    "scrolled": true
   },
   "outputs": [],
   "source": [
    "vessels = [container_large, container_small_01, container_small_02]\n",
    "# print(vessels)\n",
    "\n",
    "# import pandas as pd\n",
    "# df = pd.DataFrame.from_dict(vessels[0].log)\n",
    "# df"
   ]
  },
  {
   "cell_type": "code",
   "execution_count": null,
   "metadata": {},
   "outputs": [],
   "source": [
    "Nodes1[0].container.level"
   ]
  },
  {
   "cell_type": "code",
   "execution_count": null,
   "metadata": {},
   "outputs": [],
   "source": [
    "Nodes1[-1].container.level"
   ]
  },
  {
   "cell_type": "code",
   "execution_count": null,
   "metadata": {},
   "outputs": [],
   "source": [
    "for j in Nodes2[-1].log['Value']:\n",
    "    while Nodes2[-1].log['Value'][j] < Nodes2[-1].container.capacity:\n",
    "        j = j + 1\n",
    "    else:\n",
    "        print('Capacity of Nijmegen port is reached on', Nodes2[-1].log['Timestamp'][j])\n",
    "        print('Capacity of Nijmegen port is reached after', Nodes2[-1].log['Timestamp'][j] - (datetime.datetime(1970, 1, 1, 1, 0, 0) + datetime.timedelta(seconds=my_env.epoch)))\n",
    "        break"
   ]
  },
  {
   "cell_type": "code",
   "execution_count": null,
   "metadata": {},
   "outputs": [],
   "source": [
    "for j in Nodes3[-1].log['Value']:\n",
    "    while Nodes3[-1].log['Value'][j] < Nodes2[-1].container.capacity:\n",
    "        j = j + 1\n",
    "    else:\n",
    "        print('Capacity of Deventer port is reached on', Nodes3[-1].log['Timestamp'][j])\n",
    "        print('Capacity of Deventer port is reached after', Nodes3[-1].log['Timestamp'][j] - (datetime.datetime(1970, 1, 1, 1, 0, 0) + datetime.timedelta(seconds=my_env.epoch)))\n",
    "        break"
   ]
  },
  {
   "cell_type": "markdown",
   "metadata": {},
   "source": [
    "#### Vessel planning"
   ]
  },
  {
   "cell_type": "code",
   "execution_count": null,
   "metadata": {
    "scrolled": false
   },
   "outputs": [],
   "source": [
    "activities = ['loading', 'unloading', 'sailing filled', 'sailing empty']\n",
    "colors = {0:'rgb(55,126,184)', 1:'rgb(255,150,0)', 2:'rgb(98, 192, 122)', 3:'rgb(98, 141, 122)'}\n",
    "\n",
    "plot.vessel_planning(vessels, activities, colors)"
   ]
  },
  {
   "cell_type": "markdown",
   "metadata": {},
   "source": [
    "#### KML visualisation"
   ]
  },
  {
   "cell_type": "code",
   "execution_count": null,
   "metadata": {},
   "outputs": [],
   "source": [
    "# plot.vessel_kml(my_env, vessels, stepsize = 10000)"
   ]
  },
  {
   "cell_type": "code",
   "execution_count": null,
   "metadata": {},
   "outputs": [],
   "source": [
    "# plot.site_kml(my_env, [Nodes1[0], Nodes1[-1], Nodes2[-1], Nodes3[-1]], stepsize = 10000)"
   ]
  },
  {
   "cell_type": "code",
   "execution_count": null,
   "metadata": {},
   "outputs": [],
   "source": [
    "# #Open the file\n",
    "# if platform.system():\n",
    "#     !start ./vessel_movements.kml\n",
    "#     !start ./site_development.kml\n",
    "# else:\n",
    "#     !start explorer ./vessel_movements.kml\n",
    "#     !start explorer ./site_development.kml"
   ]
  },
  {
   "cell_type": "code",
   "execution_count": null,
   "metadata": {},
   "outputs": [],
   "source": [
    "# Properties toewijzen aan Edges\n",
    "# for edge in FG.edges(data = True):\n",
    "#     print(edge)"
   ]
  },
  {
   "cell_type": "code",
   "execution_count": null,
   "metadata": {},
   "outputs": [],
   "source": [
    "# vessels[0].compute_draught"
   ]
  },
  {
   "cell_type": "code",
   "execution_count": null,
   "metadata": {},
   "outputs": [],
   "source": []
  },
  {
   "cell_type": "code",
   "execution_count": null,
   "metadata": {},
   "outputs": [],
   "source": [
    "# a = Nodes3[-1].log['Timestamp'][j]\n",
    "# import pytz\n",
    "# b = datetime.datetime(1970, 1, 1, 1, 0, 0) + datetime.timedelta(seconds=my_env.epoch)\n",
    "# print(a)\n",
    "# print(b)\n",
    "# print(a-b)"
   ]
  },
  {
   "cell_type": "code",
   "execution_count": null,
   "metadata": {},
   "outputs": [],
   "source": []
  }
 ],
 "metadata": {
  "kernelspec": {
   "display_name": "Python 3",
   "language": "python",
   "name": "python3"
  },
  "language_info": {
   "codemirror_mode": {
    "name": "ipython",
    "version": 3
   },
   "file_extension": ".py",
   "mimetype": "text/x-python",
   "name": "python",
   "nbconvert_exporter": "python",
   "pygments_lexer": "ipython3",
   "version": "3.7.3"
  }
 },
 "nbformat": 4,
 "nbformat_minor": 2
}
