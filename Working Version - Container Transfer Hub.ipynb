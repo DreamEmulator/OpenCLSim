{
 "cells": [
  {
   "cell_type": "markdown",
   "metadata": {},
   "source": [
    "## Working Version - Container Transfer Hub"
   ]
  },
  {
   "cell_type": "markdown",
   "metadata": {},
   "source": [
    "**Example description:** Example of a container transfer hub, where very large container vessels deliver containers, while smaller vessels take care of the distribution to the hinterland."
   ]
  },
  {
   "cell_type": "markdown",
   "metadata": {},
   "source": [
    "* [**0. Import required libraries:**](#0.-Import-required-libraries)<br>\n",
    "* [**1. Define work method:**](#1.-Define-work-method)<br>\n",
    "   * [**1.1 Sites:**](#1.1-Define-the-project-sites)<br>\n",
    "   * [**1.2 Equipment:**](#1.2-Define-the-project-equipment)<br>\n",
    "   * [**1.3 Activities:**](#1.3-Define-the-activity)<br>\n",
    "* [**2. Run the simulation:**](#2.-Run-the-simulation)<br>\n",
    "* [**3. Post processing:**](#3.-Postprocessing)<br>"
   ]
  },
  {
   "cell_type": "markdown",
   "metadata": {},
   "source": [
    "## 0. Import required libraries"
   ]
  },
  {
   "cell_type": "code",
   "execution_count": 1,
   "metadata": {
    "scrolled": true
   },
   "outputs": [],
   "source": [
    "# package(s) related to time, space and id\n",
    "import datetime, time\n",
    "import platform\n",
    "import random\n",
    "import os\n",
    "\n",
    "# you need these dependencies (you can get these from anaconda)\n",
    "# package(s) related to the simulation\n",
    "import simpy\n",
    "\n",
    "# spatial libraries \n",
    "import shapely.geometry\n",
    "from simplekml import Kml, Style\n",
    "import pyproj\n",
    "\n",
    "# package(s) for data handling\n",
    "import numpy as np\n",
    "import pandas as pd\n",
    "import matplotlib.pyplot as plt\n",
    "import matplotlib.animation as animation\n",
    "\n",
    "# digital twin package\n",
    "import digital_twin.core as core\n",
    "import digital_twin.model as model\n",
    "import digital_twin.plot as plot\n",
    "\n",
    "# Used for making the graph to visualize our problem\n",
    "import networkx as nx\n",
    "\n",
    "# Used for mathematical functions\n",
    "import math\n",
    "\n",
    "# transport network analysis package\n",
    "# import transport_network_analysis.core as core\n",
    "# import transport_network_analysis.model as model\n",
    "\n",
    "# Vessel database\n",
    "location_vessel_database = \"richtlijnen-duwbakken-2017.csv\"\n",
    "\n",
    "# Water depth on Rhine branches\n",
    "\n",
    "Results_WaterDepth = \"Results20-5.csv\""
   ]
  },
  {
   "cell_type": "code",
   "execution_count": 2,
   "metadata": {},
   "outputs": [],
   "source": [
    "# Create simulation environment\n",
    "simulation_start = datetime.datetime(2019, 1, 1)\n",
    "\n",
    "my_env = simpy.Environment(initial_time = time.mktime(simulation_start.timetuple()))\n",
    "\n",
    "my_env.epoch = time.mktime(simulation_start.timetuple())"
   ]
  },
  {
   "cell_type": "markdown",
   "metadata": {},
   "source": [
    "## 1. Define work method"
   ]
  },
  {
   "cell_type": "markdown",
   "metadata": {},
   "source": [
    "### 1.1 Define the project sites\n",
    "You can specify a project site object by entering mix-ins:\n",
    "\n",
    "    core.Identifiable - enables you to give the object a name\n",
    "    core.Log - enables you to log all discrete events in which the object is involved\n",
    "    core.Locatable - enables you to add coordinates to extract distance information and visualize\n",
    "    core.HasContainer - enables you to add information on the material available at the site\n",
    "    core.HasResource - enables you to add information on serving equipment\n",
    "    core.HasWeather - enables you to add weather conditions"
   ]
  },
  {
   "cell_type": "markdown",
   "metadata": {},
   "source": [
    "#### Create objects and specify the properties for sites you wish to create"
   ]
  },
  {
   "cell_type": "code",
   "execution_count": 29,
   "metadata": {},
   "outputs": [
    {
     "name": "stdout",
     "output_type": "stream",
     "text": [
      "     time [-]              x              y       branch  chainage  \\\n",
      "0  2085-01-01  204322.000000  429166.000000    Bovenrijn       0.0   \n",
      "1  2085-01-01  203660.750657  429413.606315    Bovenrijn     706.0   \n",
      "2  2085-01-01  203166.230068  429733.835638    Bovenrijn    1293.0   \n",
      "3  2085-01-01  202716.899492  430114.983505    Bovenrijn    1880.0   \n",
      "4  2085-01-01  202266.888403  430495.645787    Bovenrijn    2467.0   \n",
      "5  2085-01-01  201789.212487  430839.242525    Bovenrijn    3053.0   \n",
      "6  2085-01-01  201285.152145  431144.751819    Bovenrijn    3640.0   \n",
      "7  2085-01-01  200757.942801  431408.203064    Bovenrijn    4227.0   \n",
      "8  2085-01-01  200215.000000  431638.000000    Bovenrijn    4814.0   \n",
      "9  2085-01-01  159990.000000  433341.000000        Waal4       0.0   \n",
      "10 2085-01-01  159515.684807  433189.221904        Waal4     499.0   \n",
      "11 2085-01-01  159082.980972  432940.559484        Waal4     999.0   \n",
      "12 2085-01-01  158698.861953  432622.450726        Waal4    1498.0   \n",
      "13 2085-01-01  158351.513757  432264.528489        Waal4    1997.0   \n",
      "14 2085-01-01  158044.772948  431871.249341        Waal4    2496.0   \n",
      "15 2085-01-01  157775.078824  431450.352788        Waal4    2996.0   \n",
      "16 2085-01-01  157537.180500  431011.834775        Waal4    3495.0   \n",
      "17 2085-01-01  157331.773783  430557.190381        Waal4    3994.0   \n",
      "18 2085-01-01  157159.896343  430088.841932        Waal4    4493.0   \n",
      "19 2085-01-01  157022.199453  429608.291004        Waal4    4993.0   \n",
      "20 2085-01-01  156885.586351  429128.677863        Waal4    5492.0   \n",
      "21 2085-01-01  156686.006171  428671.760627        Waal4    5991.0   \n",
      "22 2085-01-01  156425.484505  428246.635194        Waal4    6490.0   \n",
      "23 2085-01-01  156108.410681  427860.548249        Waal4    6990.0   \n",
      "24 2085-01-01  155742.255250  427522.071981        Waal4    7489.0   \n",
      "25 2085-01-01  155374.929192  427184.589046        Waal4    7988.0   \n",
      "26 2085-01-01  155040.514644  426814.465674        Waal4    8487.0   \n",
      "27 2085-01-01  154741.346890  426414.065714        Waal4    8987.0   \n",
      "28 2085-01-01  154481.170967  425988.470466        Waal4    9486.0   \n",
      "29 2085-01-01  154259.446234  425541.558585        Waal4    9985.0   \n",
      "..        ...            ...            ...          ...       ...   \n",
      "70 2085-01-01  137839.704000  444368.424665         Lek1   17291.0   \n",
      "71 2085-01-01  137579.331056  444777.556065         Lek1   17776.0   \n",
      "72 2085-01-01  137568.186141  444794.162263         Lek1   17796.0   \n",
      "73 2085-01-01  137273.000000  445176.000000         Lek1   18279.0   \n",
      "74 2085-01-01  137273.000000  445176.000000         Lek2       0.0   \n",
      "75 2085-01-01  136920.180962  445532.656513         Lek2     502.0   \n",
      "76 2085-01-01  136514.110254  445824.471624         Lek2    1003.0   \n",
      "77 2085-01-01  136052.206330  446018.457000         Lek2    1505.0   \n",
      "78 2085-01-01  135560.000000  446112.000000         Lek2    2007.0   \n",
      "79 2085-01-01  203839.000000  484051.000000     IJssel07       0.0   \n",
      "80 2085-01-01  203860.320052  484536.498305     IJssel07     498.0   \n",
      "81 2085-01-01  203596.507886  484952.230795     IJssel07     995.0   \n",
      "82 2085-01-01  203330.850348  485372.118306     IJssel07    1493.0   \n",
      "83 2085-01-01  203137.744342  485830.672355     IJssel07    1991.0   \n",
      "84 2085-01-01  202767.621862  486147.414732     IJssel07    2489.0   \n",
      "85 2085-01-01  202279.356672  486231.879001     IJssel07    2986.0   \n",
      "86 2085-01-01  202015.960541  486622.201221     IJssel07    3484.0   \n",
      "87 2085-01-01  202095.000000  487107.000000     IJssel07    3982.0   \n",
      "88 2085-01-01  186015.000000  510556.000000    Keteldiep       0.0   \n",
      "89 2085-01-01  185521.018845  510648.255126    Keteldiep     503.0   \n",
      "90 2085-01-01  185019.696353  510703.047040    Keteldiep    1007.0   \n",
      "91 2085-01-01  184515.993097  510712.793439    Keteldiep    1510.0   \n",
      "92 2085-01-01  184011.402937  510727.562939    Keteldiep    2014.0   \n",
      "93 2085-01-01  183507.742065  510739.640250    Keteldiep    2517.0   \n",
      "94 2085-01-01  183003.107092  510744.483158    Keteldiep    3021.0   \n",
      "95 2085-01-01  182499.356983  510736.812476    Keteldiep    3524.0   \n",
      "96 2085-01-01  181995.797116  510731.194793    Keteldiep    4027.0   \n",
      "97 2085-01-01  181491.000000  510735.000000    Keteldiep    4531.0   \n",
      "98 2085-01-01  186015.000000  510556.000000  Kattendiep1       0.0   \n",
      "99 2085-01-01  185567.573513  510818.399389  Kattendiep1     519.0   \n",
      "\n",
      "    Water depth [m]  \n",
      "0          6.623480  \n",
      "1          6.859350  \n",
      "2          6.885520  \n",
      "3          6.850290  \n",
      "4          7.429560  \n",
      "5          7.062410  \n",
      "6          7.884900  \n",
      "7          7.964230  \n",
      "8          5.966630  \n",
      "9          6.510900  \n",
      "10         6.833750  \n",
      "11         6.340790  \n",
      "12         6.848420  \n",
      "13         5.831520  \n",
      "14         5.990810  \n",
      "15         6.563740  \n",
      "16         6.912590  \n",
      "17         6.079140  \n",
      "18         6.289010  \n",
      "19         6.422900  \n",
      "20         6.881570  \n",
      "21         7.259080  \n",
      "22         6.778110  \n",
      "23         6.225570  \n",
      "24         6.301420  \n",
      "25         6.688230  \n",
      "26         6.311550  \n",
      "27         6.055760  \n",
      "28         6.485330  \n",
      "29         6.284300  \n",
      "..              ...  \n",
      "70         7.644030  \n",
      "71         7.682980  \n",
      "72         6.436010  \n",
      "73         6.193890  \n",
      "74         6.193890  \n",
      "75         6.140230  \n",
      "76         6.326410  \n",
      "77         6.282580  \n",
      "78         6.518670  \n",
      "79         6.595140  \n",
      "80         7.049550  \n",
      "81         6.322520  \n",
      "82         5.697440  \n",
      "83         6.805870  \n",
      "84         7.036340  \n",
      "85         6.974510  \n",
      "86         6.942160  \n",
      "87         6.890940  \n",
      "88         8.185620  \n",
      "89         7.584310  \n",
      "90         4.702510  \n",
      "91         4.540080  \n",
      "92         4.957770  \n",
      "93         6.616070  \n",
      "94         7.094900  \n",
      "95         9.023680  \n",
      "96         8.832090  \n",
      "97         6.829063  \n",
      "98         8.185620  \n",
      "99         6.599770  \n",
      "\n",
      "[100 rows x 6 columns]\n"
     ]
    }
   ],
   "source": [
    "# Importeren van SOBEK output\n",
    "\n",
    "water_depth = pd.read_csv(Results_WaterDepth, parse_dates=[0], decimal=',').head(100)\n",
    "print(water_depth)\n",
    "\n",
    "\n",
    "\n",
    "# type(water_depth.loc[1, 'x'])\n",
    "# type(water_depth.loc[1, 'y'])\n",
    "# type(water_depth.loc[1, 'Water depth [m]'])"
   ]
  },
  {
   "cell_type": "code",
   "execution_count": null,
   "metadata": {},
   "outputs": [],
   "source": []
  },
  {
   "cell_type": "code",
   "execution_count": 30,
   "metadata": {},
   "outputs": [
    {
     "name": "stdout",
     "output_type": "stream",
     "text": [
      "0     6.103025\n",
      "1     6.093463\n",
      "2     6.086331\n",
      "3     6.079862\n",
      "4     6.073382\n",
      "5     6.066495\n",
      "6     6.059219\n",
      "7     6.051599\n",
      "8     6.043747\n",
      "9     5.459687\n",
      "10    5.452795\n",
      "11    5.446507\n",
      "12    5.440924\n",
      "13    5.435876\n",
      "14    5.431418\n",
      "15    5.427498\n",
      "16    5.424040\n",
      "17    5.421055\n",
      "18    5.418556\n",
      "19    5.416555\n",
      "20    5.414569\n",
      "21    5.411670\n",
      "22    5.407888\n",
      "23    5.403285\n",
      "24    5.397972\n",
      "25    5.392642\n",
      "26    5.387790\n",
      "27    5.383450\n",
      "28    5.379677\n",
      "29    5.376462\n",
      "        ...   \n",
      "70    5.137385\n",
      "71    5.133573\n",
      "72    5.133410\n",
      "73    5.129093\n",
      "74    5.129093\n",
      "75    5.123937\n",
      "76    5.118009\n",
      "77    5.111272\n",
      "78    5.104098\n",
      "79    6.103882\n",
      "80    6.104265\n",
      "81    6.100454\n",
      "82    6.096615\n",
      "83    6.093847\n",
      "84    6.088459\n",
      "85    6.081303\n",
      "86    6.077491\n",
      "87    6.078720\n",
      "88    5.844796\n",
      "89    5.837517\n",
      "90    5.830126\n",
      "91    5.822695\n",
      "92    5.815251\n",
      "93    5.807821\n",
      "94    5.800376\n",
      "95    5.792943\n",
      "96    5.785513\n",
      "97    5.778066\n",
      "98    5.844796\n",
      "99    5.838219\n",
      "Name: x, Length: 100, dtype: float64 0     51.848884\n",
      "1     51.851168\n",
      "2     51.854089\n",
      "3     51.857553\n",
      "4     51.861013\n",
      "5     51.864141\n",
      "6     51.866929\n",
      "7     51.869341\n",
      "8     51.871451\n",
      "9     51.888571\n",
      "10    51.887211\n",
      "11    51.884979\n",
      "12    51.882123\n",
      "13    51.878908\n",
      "14    51.875375\n",
      "15    51.871593\n",
      "16    51.867653\n",
      "17    51.863567\n",
      "18    51.859358\n",
      "19    51.855039\n",
      "20    51.850729\n",
      "21    51.846623\n",
      "22    51.842802\n",
      "23    51.839333\n",
      "24    51.836291\n",
      "25    51.833258\n",
      "26    51.829931\n",
      "27    51.826332\n",
      "28    51.822507\n",
      "29    51.818489\n",
      "        ...    \n",
      "70    51.987446\n",
      "71    51.991115\n",
      "72    51.991264\n",
      "73    51.994687\n",
      "74    51.994687\n",
      "75    51.997881\n",
      "76    52.000490\n",
      "77    52.002218\n",
      "78    52.003042\n",
      "79    52.342202\n",
      "80    52.346564\n",
      "81    52.350323\n",
      "82    52.354120\n",
      "83    52.358258\n",
      "84    52.361137\n",
      "85    52.361938\n",
      "86    52.365469\n",
      "87    52.369819\n",
      "88    52.581703\n",
      "89    52.582559\n",
      "90    52.583080\n",
      "91    52.583195\n",
      "92    52.583355\n",
      "93    52.583490\n",
      "94    52.583559\n",
      "95    52.583516\n",
      "96    52.583491\n",
      "97    52.583550\n",
      "98    52.581703\n",
      "99    52.584086\n",
      "Name: y, Length: 100, dtype: float64\n"
     ]
    }
   ],
   "source": [
    "# Omzetten van RD naar WGS84 coordinaten\n",
    "from pyproj import Proj, transform\n",
    "\n",
    "p1 = Proj(init='epsg:28992')\n",
    "p2 = Proj(proj='latlong',datum='WGS84')\n",
    "\n",
    "lon, lat = transform(p1, p2, water_depth['x'].values, water_depth['y'].values)\n",
    "water_depth['x'], water_depth['y'] = lon, lat\n",
    "# print(lon, lat)\n",
    "print(water_depth['x'], water_depth['y'])\n"
   ]
  },
  {
   "cell_type": "code",
   "execution_count": 31,
   "metadata": {},
   "outputs": [],
   "source": [
    "def connect_sites_with_path(data_from_site, data_to_site, data_node, path):\n",
    "    Nodes = []\n",
    "    Edges = []\n",
    "    Site = type('Site', (core.Identifiable, # Give it a name\n",
    "             core.Log,          # Allow logging of all discrete events\n",
    "             core.Locatable,    # Add coordinates to extract distance information and visualize\n",
    "             core.HasContainer, # Add information on the material available at the site\n",
    "             core.HasResource), # Add information on serving equipment\n",
    "    {})                               # The dictionary is empty because the site type is generic\n",
    "\n",
    "    Node = type('Node', (core.Identifiable, # Give it a name\n",
    "             core.Log,                      # Allow logging of all discrete events\n",
    "             core.Locatable),               # Add coordinates to extract distance information and visualize\n",
    "    {})                                           # The dictionary is empty because the site type is generic\n",
    "\n",
    "    for i, j in enumerate(path):\n",
    "        if i == 0:\n",
    "            data_from_site[\"geometry\"]=shapely.geometry.Point(path[i][0], path[i][1])\n",
    "            Nodes.append(Site(**data_from_site))\n",
    "\n",
    "        elif i == len(path) - 1:\n",
    "            data_to_site[\"geometry\"]=shapely.geometry.Point(path[i][0], path[i][1])\n",
    "            Nodes.append(Site(**data_to_site))\n",
    "            Edges.append([Nodes[i-1], Nodes[i]])\n",
    "            \n",
    "        else:\n",
    "            data_node[\"geometry\"]=shapely.geometry.Point(path[i][0], path[i][1])\n",
    "            data_node[\"name\"]='node-' + str(i)\n",
    "            node = Node(**data_node)\n",
    "            node.name = node.id\n",
    "            Nodes.append(node)\n",
    "            Edges.append([Nodes[i-1], Nodes[i]])\n",
    "            \n",
    "    return Nodes, Edges\n"
   ]
  },
  {
   "cell_type": "code",
   "execution_count": 32,
   "metadata": {},
   "outputs": [],
   "source": [
    "data_from_site = {\"env\": my_env,                  # The simpy environment defined in the first cel\n",
    "                  \"name\": \"Origin locatie\",       # The name of the site\n",
    "                  \"geometry\": [],                 # The coordinates of the project site\n",
    "                  \"capacity\": 10_000_000,         # The capacity of the site\n",
    "                  \"level\": 10_000_000}            # The actual volume of the site\n",
    "\n",
    "data_inter_site = {\"env\": my_env,                 # The simpy environment defined in the first cel\n",
    "                \"name\": \"Overslag locatie\",       # The name of the site\n",
    "                \"geometry\": [],                   # The coordinates of the project site\n",
    "                \"capacity\": 100_000_000,          # The capacity of the site\n",
    "                \"level\": 0}                       # The actual volume of the site (empty of course)\n",
    "\n",
    "data_to_site1 = {\"env\": my_env,                   # The simpy environment defined in the first cel\n",
    "                \"name\": \"Haven Nijmegen\",         # The name of the site\n",
    "                \"geometry\": [],                   # The coordinates of the project site\n",
    "                \"capacity\": 5_000_000,            # The capacity of the site\n",
    "                \"level\": 0}                       # The actual volume of the site (empty of course)\n",
    "\n",
    "# data_to_site2 = {\"env\": my_env,                   # The simpy environment defined in the first cel\n",
    "#                 \"name\": \"Haven Deventer\",         # The name of the site\n",
    "#                 \"geometry\": [],                   # The coordinates of the project site\n",
    "#                 \"capacity\": 5_000_000,            # The capacity of the site\n",
    "#                 \"level\": 0}                       # The actual volume of the site (empty of course)\n",
    "\n",
    "data_node = {\"env\": my_env,                       # The simpy environment defined in the first cel\n",
    "                 \"name\": \"Intermediate site\",     # The name of the waterway\n",
    "                 \"geometry\": []}                  # The coordinates of the project site\n"
   ]
  },
  {
   "cell_type": "code",
   "execution_count": 33,
   "metadata": {},
   "outputs": [],
   "source": [
    "# a = 5.5\n",
    "# type(a)\n",
    "# b = int(a)\n",
    "# print(b)\n",
    "# type(b)\n"
   ]
  },
  {
   "cell_type": "code",
   "execution_count": 34,
   "metadata": {},
   "outputs": [
    {
     "name": "stdout",
     "output_type": "stream",
     "text": [
      "     time [-]         x          y       branch  chainage  Water depth [m]\n",
      "0  2085-01-01  6.103025  51.848884    Bovenrijn       0.0         6.623480\n",
      "1  2085-01-01  6.093463  51.851168    Bovenrijn     706.0         6.859350\n",
      "2  2085-01-01  6.086331  51.854089    Bovenrijn    1293.0         6.885520\n",
      "3  2085-01-01  6.079862  51.857553    Bovenrijn    1880.0         6.850290\n",
      "4  2085-01-01  6.073382  51.861013    Bovenrijn    2467.0         7.429560\n",
      "5  2085-01-01  6.066495  51.864141    Bovenrijn    3053.0         7.062410\n",
      "6  2085-01-01  6.059219  51.866929    Bovenrijn    3640.0         7.884900\n",
      "7  2085-01-01  6.051599  51.869341    Bovenrijn    4227.0         7.964230\n",
      "8  2085-01-01  6.043747  51.871451    Bovenrijn    4814.0         5.966630\n",
      "9  2085-01-01  5.459687  51.888571        Waal4       0.0         6.510900\n",
      "10 2085-01-01  5.452795  51.887211        Waal4     499.0         6.833750\n",
      "11 2085-01-01  5.446507  51.884979        Waal4     999.0         6.340790\n",
      "12 2085-01-01  5.440924  51.882123        Waal4    1498.0         6.848420\n",
      "13 2085-01-01  5.435876  51.878908        Waal4    1997.0         5.831520\n",
      "14 2085-01-01  5.431418  51.875375        Waal4    2496.0         5.990810\n",
      "15 2085-01-01  5.427498  51.871593        Waal4    2996.0         6.563740\n",
      "16 2085-01-01  5.424040  51.867653        Waal4    3495.0         6.912590\n",
      "17 2085-01-01  5.421055  51.863567        Waal4    3994.0         6.079140\n",
      "18 2085-01-01  5.418556  51.859358        Waal4    4493.0         6.289010\n",
      "19 2085-01-01  5.416555  51.855039        Waal4    4993.0         6.422900\n",
      "20 2085-01-01  5.414569  51.850729        Waal4    5492.0         6.881570\n",
      "21 2085-01-01  5.411670  51.846623        Waal4    5991.0         7.259080\n",
      "22 2085-01-01  5.407888  51.842802        Waal4    6490.0         6.778110\n",
      "23 2085-01-01  5.403285  51.839333        Waal4    6990.0         6.225570\n",
      "24 2085-01-01  5.397972  51.836291        Waal4    7489.0         6.301420\n",
      "25 2085-01-01  5.392642  51.833258        Waal4    7988.0         6.688230\n",
      "26 2085-01-01  5.387790  51.829931        Waal4    8487.0         6.311550\n",
      "27 2085-01-01  5.383450  51.826332        Waal4    8987.0         6.055760\n",
      "28 2085-01-01  5.379677  51.822507        Waal4    9486.0         6.485330\n",
      "29 2085-01-01  5.376462  51.818489        Waal4    9985.0         6.284300\n",
      "..        ...       ...        ...          ...       ...              ...\n",
      "70 2085-01-01  5.137385  51.987446         Lek1   17291.0         7.644030\n",
      "71 2085-01-01  5.133573  51.991115         Lek1   17776.0         7.682980\n",
      "72 2085-01-01  5.133410  51.991264         Lek1   17796.0         6.436010\n",
      "73 2085-01-01  5.129093  51.994687         Lek1   18279.0         6.193890\n",
      "74 2085-01-01  5.129093  51.994687         Lek2       0.0         6.193890\n",
      "75 2085-01-01  5.123937  51.997881         Lek2     502.0         6.140230\n",
      "76 2085-01-01  5.118009  52.000490         Lek2    1003.0         6.326410\n",
      "77 2085-01-01  5.111272  52.002218         Lek2    1505.0         6.282580\n",
      "78 2085-01-01  5.104098  52.003042         Lek2    2007.0         6.518670\n",
      "79 2085-01-01  6.103882  52.342202     IJssel07       0.0         6.595140\n",
      "80 2085-01-01  6.104265  52.346564     IJssel07     498.0         7.049550\n",
      "81 2085-01-01  6.100454  52.350323     IJssel07     995.0         6.322520\n",
      "82 2085-01-01  6.096615  52.354120     IJssel07    1493.0         5.697440\n",
      "83 2085-01-01  6.093847  52.358258     IJssel07    1991.0         6.805870\n",
      "84 2085-01-01  6.088459  52.361137     IJssel07    2489.0         7.036340\n",
      "85 2085-01-01  6.081303  52.361938     IJssel07    2986.0         6.974510\n",
      "86 2085-01-01  6.077491  52.365469     IJssel07    3484.0         6.942160\n",
      "87 2085-01-01  6.078720  52.369819     IJssel07    3982.0         6.890940\n",
      "88 2085-01-01  5.844796  52.581703    Keteldiep       0.0         8.185620\n",
      "89 2085-01-01  5.837517  52.582559    Keteldiep     503.0         7.584310\n",
      "90 2085-01-01  5.830126  52.583080    Keteldiep    1007.0         4.702510\n",
      "91 2085-01-01  5.822695  52.583195    Keteldiep    1510.0         4.540080\n",
      "92 2085-01-01  5.815251  52.583355    Keteldiep    2014.0         4.957770\n",
      "93 2085-01-01  5.807821  52.583490    Keteldiep    2517.0         6.616070\n",
      "94 2085-01-01  5.800376  52.583559    Keteldiep    3021.0         7.094900\n",
      "95 2085-01-01  5.792943  52.583516    Keteldiep    3524.0         9.023680\n",
      "96 2085-01-01  5.785513  52.583491    Keteldiep    4027.0         8.832090\n",
      "97 2085-01-01  5.778066  52.583550    Keteldiep    4531.0         6.829063\n",
      "98 2085-01-01  5.844796  52.581703  Kattendiep1       0.0         8.185620\n",
      "99 2085-01-01  5.838219  52.584086  Kattendiep1     519.0         6.599770\n",
      "\n",
      "[100 rows x 6 columns]\n"
     ]
    }
   ],
   "source": [
    "# Laat een nieuw lijstje met waterstanden maken iedere keer dat chainage op 0 staat. Dit signaleert een nieuw stuk rivier.\n",
    "\n",
    "# df = water_depth.iloc[:, :]\n",
    "# for index, row in water_depth.iterrows():\n",
    "#     if row['chainage'] == 0:\n",
    "        \n",
    "#         df[index] = water_depth.loc[index:, :]\n",
    "        \n",
    "# print(df[index])\n",
    "\n",
    "\n",
    "# for i in water_depth['chainage']:\n",
    "#     if i == 0\n",
    "\n",
    "# river_branches = []\n",
    "\n",
    "# for index, row in water_depth.iterrows():\n",
    "#     if row['chainage'] == 0:\n",
    "#         river_branches.append(row['branch'])\n",
    "#     real_water_depth = pd.Series.tolist(water_depth['Water depth [m]'])\n",
    "#     keys = river_branches\n",
    "#     vals = real_water_depth\n",
    "#     data = {key:vals[n] for n, key in enumerate(keys)}\n",
    "\n",
    "# data = {}\n",
    "\n",
    "# for index, row in water_depth.iterrows():\n",
    "#     if row['chainage'] == 0:\n",
    "#         info = {row['branch']: row['Water depth [m]']}\n",
    "#         data.update(info)\n",
    "#     else:\n",
    "#         info = {row['branch']: row['Water depth [m]']} \n",
    "#         data.update(info)\n",
    "\n",
    "# print(data)\n",
    "\n",
    "# print(river_branches[:])\n",
    "\n",
    "# print(water_depth)"
   ]
  },
  {
   "cell_type": "code",
   "execution_count": null,
   "metadata": {},
   "outputs": [],
   "source": []
  },
  {
   "cell_type": "code",
   "execution_count": 35,
   "metadata": {},
   "outputs": [
    {
     "name": "stdout",
     "output_type": "stream",
     "text": [
      "Bovenrijn [[6.103024526784044, 51.848884222051105], [6.093463270525033, 51.851167788676584], [6.086331026767716, 51.85408890892047], [6.079862208705836, 51.85755325076327], [6.0733824495897615, 51.86101292984545], [6.066495046679919, 51.86414143843604], [6.059218518102545, 51.866929414087345], [6.051599403794567, 51.869340831792584], [6.043746612091993, 51.871450554365104]]\n",
      "Waal4 [[5.459686699782352, 51.88857132164646], [5.452794861614324, 51.887211156099696], [5.446506693775746, 51.88497945734284], [5.440924047879587, 51.88212289571123], [5.435875740533783, 51.87890799145611], [5.431417530419897, 51.875374848939764], [5.427497732897521, 51.8715931177821], [5.424040112957532, 51.867652722206365], [5.421054697510236, 51.86356713812186], [5.418556465378742, 51.85935816991354], [5.416554762557886, 51.85503934276316], [5.4145691787100425, 51.8507289045914], [5.411670290548838, 51.846622624185386], [5.407887739840218, 51.842802185990614], [5.403285391949514, 51.83933263188429], [5.397971737611174, 51.836290905615265], [5.392641818468119, 51.8332578668982], [5.3877900616233285, 51.829931199170254], [5.383450329451586, 51.82633220951026], [5.379676890606916, 51.82250663031404], [5.376461808511921, 51.81848937794321], [5.373235383867443, 51.814475937362], [5.36938945358728, 51.81066840598255], [5.364797272195508, 51.80721483501121], [5.3586857250517, 51.80486093658302], [5.351622577704748, 51.804008206292636]]\n",
      "Lek1 [[5.339350356584404, 51.96074174026411], [5.334261461025933, 51.95764680192041], [5.327745402876838, 51.955799935072115], [5.3207269174359615, 51.954904697691994], [5.3138182891232635, 51.95591741193654], [5.30807866446131, 51.95858396046374], [5.302252429737104, 51.96116978361438], [5.295339554136961, 51.96227725241866], [5.288167359857171, 51.96255140699287], [5.281105926041378, 51.96336543276088], [5.274139100567475, 51.964453263494725], [5.267603299784169, 51.96629568024491], [5.261372844535549, 51.96851708670521], [5.255698380650969, 51.97123816348131], [5.250835706402963, 51.97450452302242], [5.24610848535159, 51.97784396414311], [5.239419478879464, 51.97906908723878], [5.232730971961991, 51.97761606302297], [5.228345846893515, 51.974143791972175], [5.2254862272128575, 51.97007088706403], [5.2223731788740855, 51.96607585444318], [5.2177651154724956, 51.96268983067383], [5.211853276238099, 51.960236194715684], [5.204848485298624, 51.959468935105704], [5.197849045531564, 51.960417196987386], [5.191350231872257, 51.962296397014846], [5.1855295963023345, 51.964893477317496], [5.179874707414013, 51.96763243993233], [5.173384134108164, 51.96949936945312], [5.166291992698346, 51.970172076126346], [5.159163614223484, 51.97071587738895], [5.152676585046419, 51.97256351813449], [5.1478082372328196, 51.9757923825769], [5.144558203051556, 51.97975100845688], [5.141055324181303, 51.983627910799015], [5.137384710551969, 51.98744590080968], [5.133573474205416, 51.99111510672667], [5.133410371475593, 51.991264015044116], [5.129093008910314, 51.99468666192257]]\n",
      "Lek2 [[5.129093008910314, 51.99468666192257], [5.12393710901325, 51.997880944057314], [5.118008510771251, 52.00049042902791], [5.111271541481281, 52.00221841157293], [5.104098454499577, 52.00304216577193]]\n",
      "IJssel07 [[6.103881654260563, 52.34220228265952], [6.104265000800539, 52.34656358006514], [6.100453721147138, 52.35032318938436], [6.096615308978642, 52.35412017802288], [6.093846718557139, 52.35825818198308], [6.088458874084569, 52.3611370827422], [6.081303264726003, 52.36193843182655], [6.077491273132188, 52.36546889663337], [6.078719597659561, 52.36981902713274]]\n",
      "Keteldiep [[5.844796373542017, 52.58170251780849], [5.837516933250409, 52.58255947384688], [5.830125509078152, 52.583079708731624], [5.82269478086281, 52.58319479139237], [5.815251365824861, 52.58335459869865], [5.807821375307145, 52.58348969642678], [5.800376356117549, 52.58355936413821], [5.792943331685062, 52.58351606137743], [5.785513294363217, 52.58349073424918], [5.778065761335264, 52.58354968570254]]\n",
      "Kattendiep1 [[5.844796373542017, 52.58170251780849], [5.838219443000868, 52.58408593981427]]\n"
     ]
    }
   ],
   "source": [
    "# Makes lists for the route on different branches. Puts all in one list which makes it difficult to use.\n",
    "\n",
    "path_collection = []\n",
    "path_inter_to_destination = []\n",
    "\n",
    "for index, row in water_depth.iterrows():\n",
    "    if row['chainage'] == 0:\n",
    "        path_collection.append(path_inter_to_destination)\n",
    "        path_collection.append(row['branch']) \n",
    "        path_inter_to_destination = [[row['x'], row['y']]]\n",
    "    else:\n",
    "        path_inter_to_destination.append([row['x'], row['y']])\n",
    "path_collection.append(path_inter_to_destination)               #zodat de coordinaten van de laatste branch ook mee gaan\n",
    "\n",
    "path_collection.pop(0) #verwijder het eerste (lege) element in path_collection\n",
    "\n",
    "for i in range(len(path_collection)):\n",
    "    if i % 2 != 0:  \n",
    "        print(path_collection[i-1], path_collection[i])\n"
   ]
  },
  {
   "cell_type": "code",
   "execution_count": null,
   "metadata": {},
   "outputs": [],
   "source": []
  },
  {
   "cell_type": "code",
   "execution_count": 36,
   "metadata": {},
   "outputs": [],
   "source": [
    "path_from_to_inter = [[3.223979059949225,52.03276781167011],\n",
    "                        [3.656045091181079,52.04776907241202],\n",
    "                        [3.953697524848219,52.02803067898825],\n",
    "                        [4.067560378249368,51.95173269362142]]"
   ]
  },
  {
   "cell_type": "code",
   "execution_count": null,
   "metadata": {},
   "outputs": [],
   "source": [
    "# path_inter_to_destination1 = [[4.067560378249368,51.95173269362142],\n",
    "#                              [5.260911,51.820500],\n",
    "#                              [5.830619709457634,51.86183419049677],\n",
    "#                              [5.830727947258836,51.86102575658615]]"
   ]
  },
  {
   "cell_type": "code",
   "execution_count": null,
   "metadata": {},
   "outputs": [],
   "source": [
    "# path_inter_to_destination2 = [[4.067560378249368,51.95173269362142],\n",
    "#                              [5.937599,51.964640],\n",
    "#                              [6.197050,52.092425],\n",
    "#                              [6.172119444444445,52.247375]]"
   ]
  },
  {
   "cell_type": "markdown",
   "metadata": {},
   "source": [
    "#### Finally create specific instances of the predefined objects with the specified properties"
   ]
  },
  {
   "cell_type": "code",
   "execution_count": 37,
   "metadata": {
    "scrolled": true
   },
   "outputs": [
    {
     "name": "stdout",
     "output_type": "stream",
     "text": [
      "7\n",
      "7\n",
      "[<__main__.Site object at 0x000002070037F470>, <__main__.Node object at 0x000002077BFEAEF0>, <__main__.Node object at 0x000002077BFEA6A0>, <__main__.Node object at 0x000002077BFEA4E0>, <__main__.Node object at 0x000002077BFEAA58>, <__main__.Node object at 0x000002077BFEAF60>, <__main__.Node object at 0x000002077BFEA5F8>, <__main__.Node object at 0x000002077BFEA5C0>, <__main__.Site object at 0x000002077BFEA4A8>]\n"
     ]
    }
   ],
   "source": [
    "# Dataframe naar een lijst gemaakt zodat er mee gerekend kan worden maar die lijst verliest zijn attributes zodat er geen graaf \n",
    "# van gemaakt kan worden.\n",
    "# Niet handig. Begrijp niet hoe ik het dataframe handiger kan splitten op chainage en branch.\n",
    "\n",
    "# Nodes1, Edges1 = connect_sites_with_path(data_from_site, data_inter_site, data_node, path_from_to_inter)\n",
    "# Nodes1\n",
    "Nodes2=[]\n",
    "Edges2=[]\n",
    "\n",
    "for k in range(len(path_collection)):\n",
    "    if k % 2 != 0:\n",
    "        Nodes2.append(connect_sites_with_path(data_inter_site, data_to_site1, data_node, path_collection[k])[0])\n",
    "        Edges2.append(connect_sites_with_path(data_inter_site, data_to_site1, data_node, path_collection[k])[1])\n",
    "        \n",
    "print(len(Nodes2))\n",
    "print(len(Edges2))\n",
    "print(Nodes2[0])\n",
    "\n",
    "# # Nodes3, Edges3 = connect_sites_with_path(data_inter_site, data_to_site2, data_node, path_inter_to_destination2)\n",
    "# # print(connect_sites_with_path(data_from_site, data_to_site1, data_node, path))"
   ]
  },
  {
   "cell_type": "markdown",
   "metadata": {},
   "source": [
    "#### Create graph"
   ]
  },
  {
   "cell_type": "code",
   "execution_count": 38,
   "metadata": {},
   "outputs": [
    {
     "ename": "AttributeError",
     "evalue": "'list' object has no attribute 'name'",
     "output_type": "error",
     "traceback": [
      "\u001b[1;31m---------------------------------------------------------------------------\u001b[0m",
      "\u001b[1;31mAttributeError\u001b[0m                            Traceback (most recent call last)",
      "\u001b[1;32m<ipython-input-38-f81c348b94f3>\u001b[0m in \u001b[0;36m<module>\u001b[1;34m\u001b[0m\n\u001b[0;32m     15\u001b[0m \u001b[0mG\u001b[0m \u001b[1;33m=\u001b[0m \u001b[0mnx\u001b[0m\u001b[1;33m.\u001b[0m\u001b[0mGraph\u001b[0m\u001b[1;33m(\u001b[0m\u001b[1;33m)\u001b[0m\u001b[1;33m\u001b[0m\u001b[1;33m\u001b[0m\u001b[0m\n\u001b[0;32m     16\u001b[0m \u001b[1;33m\u001b[0m\u001b[0m\n\u001b[1;32m---> 17\u001b[1;33m \u001b[0mG\u001b[0m\u001b[1;33m,\u001b[0m \u001b[0mpositions\u001b[0m \u001b[1;33m=\u001b[0m \u001b[0madd_path_to_graph\u001b[0m\u001b[1;33m(\u001b[0m\u001b[0mG\u001b[0m\u001b[1;33m,\u001b[0m \u001b[0mpositions\u001b[0m\u001b[1;33m,\u001b[0m \u001b[0mNodes2\u001b[0m\u001b[1;33m,\u001b[0m \u001b[0mEdges2\u001b[0m\u001b[1;33m)\u001b[0m\u001b[1;33m\u001b[0m\u001b[1;33m\u001b[0m\u001b[0m\n\u001b[0m\u001b[0;32m     18\u001b[0m \u001b[1;33m\u001b[0m\u001b[0m\n\u001b[0;32m     19\u001b[0m \u001b[1;31m# for i in range(len(Nodes2)):\u001b[0m\u001b[1;33m\u001b[0m\u001b[1;33m\u001b[0m\u001b[1;33m\u001b[0m\u001b[0m\n",
      "\u001b[1;32m<ipython-input-38-f81c348b94f3>\u001b[0m in \u001b[0;36madd_path_to_graph\u001b[1;34m(G, positions, Nodes, Edges)\u001b[0m\n\u001b[0;32m      2\u001b[0m \u001b[1;33m\u001b[0m\u001b[0m\n\u001b[0;32m      3\u001b[0m     \u001b[1;32mfor\u001b[0m \u001b[0mnode\u001b[0m \u001b[1;32min\u001b[0m \u001b[0mNodes\u001b[0m\u001b[1;33m:\u001b[0m\u001b[1;33m\u001b[0m\u001b[1;33m\u001b[0m\u001b[0m\n\u001b[1;32m----> 4\u001b[1;33m         \u001b[0mprint\u001b[0m\u001b[1;33m(\u001b[0m\u001b[0mnode\u001b[0m\u001b[1;33m.\u001b[0m\u001b[0mname\u001b[0m\u001b[1;33m)\u001b[0m\u001b[1;33m\u001b[0m\u001b[1;33m\u001b[0m\u001b[0m\n\u001b[0m\u001b[0;32m      5\u001b[0m         \u001b[0mpositions\u001b[0m\u001b[1;33m[\u001b[0m\u001b[0mnode\u001b[0m\u001b[1;33m.\u001b[0m\u001b[0mname\u001b[0m\u001b[1;33m]\u001b[0m \u001b[1;33m=\u001b[0m \u001b[1;33m(\u001b[0m\u001b[0mnode\u001b[0m\u001b[1;33m.\u001b[0m\u001b[0mgeometry\u001b[0m\u001b[1;33m.\u001b[0m\u001b[0mx\u001b[0m\u001b[1;33m,\u001b[0m \u001b[0mnode\u001b[0m\u001b[1;33m.\u001b[0m\u001b[0mgeometry\u001b[0m\u001b[1;33m.\u001b[0m\u001b[0my\u001b[0m\u001b[1;33m)\u001b[0m\u001b[1;33m\u001b[0m\u001b[1;33m\u001b[0m\u001b[0m\n\u001b[0;32m      6\u001b[0m         \u001b[0mG\u001b[0m\u001b[1;33m.\u001b[0m\u001b[0madd_node\u001b[0m\u001b[1;33m(\u001b[0m\u001b[0mnode\u001b[0m\u001b[1;33m.\u001b[0m\u001b[0mname\u001b[0m\u001b[1;33m,\u001b[0m \u001b[0mgeometry\u001b[0m \u001b[1;33m=\u001b[0m \u001b[0mnode\u001b[0m\u001b[1;33m.\u001b[0m\u001b[0mgeometry\u001b[0m\u001b[1;33m)\u001b[0m\u001b[1;33m\u001b[0m\u001b[1;33m\u001b[0m\u001b[0m\n",
      "\u001b[1;31mAttributeError\u001b[0m: 'list' object has no attribute 'name'"
     ]
    }
   ],
   "source": [
    "def add_path_to_graph(G, positions, Nodes, Edges):\n",
    "    \n",
    "    for node in Nodes:\n",
    "        print(node.name)\n",
    "        positions[node.name] = (node.geometry.x, node.geometry.y)\n",
    "        G.add_node(node.name, geometry = node.geometry)\n",
    "        \n",
    "    for edge in Edges:\n",
    "        print(edge[0].name + ' - ' + edge[1].name)\n",
    "        G.add_edge(edge[0].name, edge[1].name, weight = water_depth['chainage'])\n",
    "        \n",
    "    return G, positions\n",
    "\n",
    "positions = {}\n",
    "G = nx.Graph()\n",
    "\n",
    "G, positions = add_path_to_graph(G, positions, Nodes2, Edges2)\n",
    "\n",
    "# for i in range(len(Nodes2)):\n",
    "# # G, positions = add_path_to_graph(G, positions, Nodes1, Edges1)\n",
    "#     G, positions = add_path_to_graph(G, positions, Nodes2[i], Edges2[i])\n",
    "# # G, positions = add_path_to_graph(G, positions, Nodes3, Edges3)\n",
    "\n",
    "nx.draw(G, positions)\n",
    "\n",
    "my_env.G = G"
   ]
  },
  {
   "cell_type": "code",
   "execution_count": null,
   "metadata": {},
   "outputs": [],
   "source": [
    "#Koppelen van water levels aan Edges. Dit lijstje wordt op den duur vervangen door een lijst die uit Sobek moet rollen.\n",
    "\n",
    "# print(Edges2)\n",
    "\n",
    "avg_water_depth = []\n",
    "\n",
    "# print(water_depth['Water depth [m]'].values[1])\n",
    "# print(water_depth['Water depth [m]'].values[1] + water_depth['Water depth [m]'].values[2])\n",
    "# print(water_depth.loc[1, 'Water depth [m]'] + water_depth.loc[2, 'Water depth [m]'])\n",
    "# print(float(water_depth.loc[1, 'Water depth [m]']) + float(water_depth.loc[2, 'Water depth [m]']))\n",
    "\n",
    "#For Nodes2 and Edges2\n",
    "for i in range(int(len(path_inter_to_destination1)-1)):\n",
    "        avg_water_depth.append( (water_depth.loc[i, 'Water depth [m]'] + water_depth.loc[i+1, 'Water depth [m]'])* 0.5)\n",
    "        edge_attribute_dict = {\n",
    "            (Nodes2[i].name, Nodes2[i+1].name) : {\"water level\": avg_water_depth[i]},\n",
    "            }\n",
    "        nx.set_edge_attributes(G, edge_attribute_dict)\n",
    "\n",
    "\n",
    "print(G.edges(data=True))\n",
    "\n",
    "# print(avg_water_depth[:])\n",
    "# print(range(len(path_inter_to_destination1)))\n",
    "# len(path_inter_to_destination1)"
   ]
  },
  {
   "cell_type": "code",
   "execution_count": null,
   "metadata": {},
   "outputs": [],
   "source": []
  },
  {
   "cell_type": "markdown",
   "metadata": {},
   "source": [
    "### 1.2 Define the project equipment\n",
    "You can specify a vessel object by entering mix-ins:\n",
    "\n",
    "    core.Identifiable - enables you to give the object a name\n",
    "    core.Log - enables you to log all discrete events in which the object is involved\n",
    "    core.ContainerDependentMovable - A moving container, so capacity and location\n",
    "    core.Processor - Allow for loading and unloading\n",
    "    core.HasResource - Add information on serving equipment\n",
    "    core.HasDepthRestriction - Add information on depth restriction "
   ]
  },
  {
   "cell_type": "markdown",
   "metadata": {},
   "source": [
    "#### First create objects with the desired properties"
   ]
  },
  {
   "cell_type": "code",
   "execution_count": null,
   "metadata": {},
   "outputs": [],
   "source": []
  },
  {
   "cell_type": "code",
   "execution_count": null,
   "metadata": {},
   "outputs": [],
   "source": [
    "vessel_db = pd.read_csv(location_vessel_database)\n",
    "print(vessel_db)\n",
    "# vessel_db.head(10)\n",
    "# print(len(vessel_db.index))\n",
    "# print(range(len(vessel_db.index)))\n",
    "# vessel_db\n",
    "# print(vessel_db.keys())"
   ]
  },
  {
   "cell_type": "code",
   "execution_count": null,
   "metadata": {},
   "outputs": [],
   "source": []
  },
  {
   "cell_type": "code",
   "execution_count": null,
   "metadata": {},
   "outputs": [],
   "source": [
    "Vessel = type('Vessel',\n",
    "              (core.Identifiable, \n",
    "               core.Log, \n",
    "               core.ContainerDependentMovable,\n",
    "               core.Processor, \n",
    "               core.HasResource, \n",
    "               core.Routeable,\n",
    "               core.VesselProperties), \n",
    "              {})"
   ]
  },
  {
   "cell_type": "code",
   "execution_count": null,
   "metadata": {},
   "outputs": [],
   "source": [
    "# generator = model.VesselGenerator(Vessel, vessel_db)\n",
    "# print(generator)\n",
    "# print(Vessel.VesselProperties)"
   ]
  },
  {
   "cell_type": "markdown",
   "metadata": {},
   "source": [
    "#### Next specify the properties for vessel(s) you wish to create"
   ]
  },
  {
   "cell_type": "code",
   "execution_count": null,
   "metadata": {},
   "outputs": [],
   "source": [
    "# For more realistic simulation you might want to have speed dependent on the volume carried by the vessel\n",
    "def compute_v_provider(v_empty, v_full):\n",
    "    return lambda filling: filling * (v_full - v_empty) + v_empty\n",
    "\n",
    "def compute_loading(rate):\n",
    "    return lambda current_level, desired_level: (desired_level - current_level) / rate\n",
    "\n",
    "def compute_unloading(rate):\n",
    "    return lambda current_level, desired_level: (current_level - desired_level) / rate"
   ]
  },
  {
   "cell_type": "code",
   "execution_count": null,
   "metadata": {},
   "outputs": [],
   "source": [
    "# Draught of the vessel is dependent on the degree of filling\n",
    "def draught_vessel(draught_empty, draught_full):\n",
    "    return lambda filling: filling * (draught_full - draught_empty) + draught_empty\n"
   ]
  },
  {
   "cell_type": "code",
   "execution_count": null,
   "metadata": {},
   "outputs": [],
   "source": [
    "for line in vessel_db.index:\n",
    "#   print(line)\n",
    "#   print(vessel_db['vessel_type'][line], vessel_db[vessel_db.keys()[0]][line])\n",
    "#     if line <= 7: #aanzetten wanneer alleen kleinere barges\n",
    "        vessel_stats[line] = {\"env\": my_env,\n",
    "               \"name\": vessel_db.iloc[line, 0],\n",
    "               \"geometry\": Nodes1[-1].geometry,\n",
    "               \"loading_func\": compute_loading(1.5),\n",
    "               \"unloading_func\": compute_unloading(1.5),\n",
    "               \"compute_v\": compute_v_provider(5, 4.5),\n",
    "               \"vesselWidth\": vessel_db.iloc[line, 1],\n",
    "               \"vesselLength\": vessel_db.iloc[line, 2],\n",
    "               \"vesselDraught_Empty\": vessel_db.iloc[line, 3],\n",
    "               \"vesselDraught_Full\": vessel_db.iloc[line, 4],\n",
    "               \"capacity\": vessel_db.iloc[line, 5],\n",
    "               }\n",
    "#         print(vessel_stats[line])\n",
    "# print(vessel_stats[0].get('name')) #werkt\n"
   ]
  },
  {
   "cell_type": "code",
   "execution_count": null,
   "metadata": {
    "scrolled": false
   },
   "outputs": [],
   "source": []
  },
  {
   "cell_type": "code",
   "execution_count": null,
   "metadata": {},
   "outputs": [],
   "source": [
    "# Large bulk vessel variables\n",
    "data_bulk_large = {\"env\": my_env,                              # The simpy environment \n",
    "               \"name\": \"Bulk large\",                           # Name\n",
    "               \"geometry\": Nodes1[0].geometry,                 # It starts at the \"from site\"\n",
    "               \"loading_func\": compute_loading(1.5),           # Loading rate\n",
    "               \"unloading_func\": compute_unloading(1.5),       # Unloading rate\n",
    "               \"compute_v\": compute_v_provider(5, 4.5),        # Sailing speed empty and full\n",
    "               \"vesselWidth\": 100,                             # Vessel width\n",
    "               \"vesselLength\": 200,                            # Vessel length\n",
    "               \"vesselDraught_Empty\": 5,                       # Vessel draught empty\n",
    "               \"vesselDraught_Full\": 5,                        # Vessel draught full\n",
    "               \"capacity\": 100000,                             # Capacity in tons\n",
    "               }"
   ]
  },
  {
   "cell_type": "code",
   "execution_count": null,
   "metadata": {},
   "outputs": [],
   "source": [
    "# # Small container vessel variables\n",
    "# data_container_small_01 = {\"env\": my_env,                           # The simpy environment \n",
    "#                \"name\": \"Container small_01\",                        # Name\n",
    "#                \"geometry\": Nodes1[-1].geometry,                     # It starts at the \"inter site\"\n",
    "#                \"loading_func\": compute_loading(1.5),                # Loading rate\n",
    "#                \"unloading_func\": compute_unloading(1.5),            # Unloading rate\n",
    "#                \"capacity\": 5_000,                                   # Capacity of the container vessel - TEU\n",
    "#                \"compute_v\": compute_v_provider(5, 4.5),             # Variable speed\n",
    "#                \"compute_draught\": draught_vessel(1, 2),             # Variable draught of the vessel\n",
    "#                 }"
   ]
  },
  {
   "cell_type": "code",
   "execution_count": null,
   "metadata": {},
   "outputs": [],
   "source": [
    "# # Small container vessel variables\n",
    "# data_container_small_02 = {\"env\": my_env,                           # The simpy environment \n",
    "#                \"name\": \"Container small_02\",                        # Name\n",
    "#                \"geometry\": Nodes1[-1].geometry,                     # It starts at the \"inter site\"\n",
    "#                \"loading_func\": compute_loading(1.5),                # Loading rate\n",
    "#                \"unloading_func\": compute_unloading(1.5),            # Unloading rate\n",
    "#                \"capacity\": 5_000,                                   # Capacity of the container vessel - TEU\n",
    "#                \"compute_v\": compute_v_provider(5, 4.5),             # Variable speed\n",
    "#                \"compute_draught\": draught_vessel(1, 2),             # Variable draught of the vessel\n",
    "#                 }"
   ]
  },
  {
   "cell_type": "markdown",
   "metadata": {},
   "source": [
    "#### Finally create specific instances of the predefined objects with the specified properties"
   ]
  },
  {
   "cell_type": "code",
   "execution_count": null,
   "metadata": {},
   "outputs": [],
   "source": [
    "# The simulation object\n",
    "barge_large = Vessel(**data_bulk_large)\n",
    "barge_01 = Vessel(**vessel_stats[0])\n",
    "barge_02 = Vessel(**vessel_stats[1])\n",
    "barge_03 = Vessel(**vessel_stats[2])\n",
    "barge_04 = Vessel(**vessel_stats[3])\n",
    "barge_05 = Vessel(**vessel_stats[4])\n",
    "barge_06 = Vessel(**vessel_stats[5])\n",
    "barge_07 = Vessel(**vessel_stats[6])\n",
    "barge_08 = Vessel(**vessel_stats[7])\n",
    "barge_09 = Vessel(**vessel_stats[8])\n",
    "barge_10 = Vessel(**vessel_stats[9])\n",
    "\n",
    "#Misschien beter om voorlopig een gemiddeld vessel te gebruiken? Kan dan niet vessel afhankelijk de diepte bekijken wat onhandig is.\n"
   ]
  },
  {
   "cell_type": "code",
   "execution_count": null,
   "metadata": {},
   "outputs": [],
   "source": [
    "# def start(my_env, vessel):\n",
    "#     while True:\n",
    "        \n",
    "#         vessel.log_entry(\"Start sailing\", my_env.now, \"0\", vessel.geometry)\n",
    "#         yield from vessel.move()\n",
    "#         vessel.log_entry(\"Stop sailing\", my_env.now, \"0\", vessel.geometry)\n",
    "\n",
    "#         if vessel.geometry == nx.get_node_attributes(my_env.G, \"geometry\")[vessel.route[-1]]:\n",
    "#             break"
   ]
  },
  {
   "cell_type": "code",
   "execution_count": null,
   "metadata": {},
   "outputs": [],
   "source": [
    "# vessels = []\n",
    "\n",
    "# # random_1 = random.choice(list(G))\n",
    "# # print(random_1)\n",
    "\n",
    "# # Add 10 vessels to the simulation\n",
    "# for i in range(100):\n",
    "#     path = nx.dijkstra_path(G, Nodes1[0].name, Nodes1[-1].name)\n",
    "\n",
    "    \n",
    "#     vessel = generator.generate(my_env, \"Vessel \" + str(i))\n",
    "#     vessel.route = path\n",
    "# #   vessel.compute_v = compute_v_provider(5, 4.5)\n",
    "#     vessel.geometry = nx.get_node_attributes(my_env.G, \"geometry\")[vessel.route[0]]\n",
    "#     vessels.append(vessel)\n",
    "    \n",
    "#     # Add the movements of the vessel to the simulation\n",
    "#     env.process(start(my_env, vessel))"
   ]
  },
  {
   "cell_type": "markdown",
   "metadata": {},
   "source": [
    "### 1.3 Define the activity"
   ]
  },
  {
   "cell_type": "code",
   "execution_count": null,
   "metadata": {},
   "outputs": [],
   "source": [
    "# # conditie dat intermediate niet leeg is\n",
    "# condition = model.LevelCondition(container=intermediate.container, min_level=1)  \n",
    "\n",
    "# # conditie dat een jaar verstreken is\n",
    "# stop_condition = modelTimeCondition(…)  \n",
    " \n",
    "# activity_2 = model.Activity(…, \n",
    "# start_condition = None,  # laat de activiteit meteen starten als de simulatie begint\n",
    "# condition = condition,  # steeds als tussendoor de intermediate container leeg is, wacht een uur en check daarna nog eens\n",
    "# stop_condition = stop_condition)  # de activiteit eindigt als een jaar verstreken is\n",
    "# (idem voor activity_3)\n"
   ]
  },
  {
   "cell_type": "code",
   "execution_count": null,
   "metadata": {},
   "outputs": [],
   "source": [
    "# Stop events:\n",
    "\n",
    "stop_event_1 = my_env.timeout(365 * 24 * 3600)   # One year of simulation\n",
    "stop_event_2 = Nodes1[0].container.empty_event   # Or until origin is empty\n",
    "\n",
    "stop_event = [stop_event_1, stop_event_2]"
   ]
  },
  {
   "cell_type": "code",
   "execution_count": null,
   "metadata": {},
   "outputs": [],
   "source": [
    "# Create activity\n",
    "activity_1 = model.Activity(env = my_env,                   # The simpy environment defined in the first cel\n",
    "                          name = \"International transport\", # We are moving soil\n",
    "                          origin = Nodes1[0],               # We originate from the from_site\n",
    "                          destination = Nodes1[-1],         # And therefore travel to the to_site\n",
    "                          loader = barge_large,         # The benefit of a TSHD, all steps can be done\n",
    "                          mover = barge_large,          # The benefit of a TSHD, all steps can be done\n",
    "                          unloader = barge_large,       # The benefit of a TSHD, all steps can be done\n",
    "                          stop_event = stop_event)          # Stop after 1 year simulation or origin = empty"
   ]
  },
  {
   "cell_type": "code",
   "execution_count": null,
   "metadata": {},
   "outputs": [],
   "source": [
    "# Stop events:\n",
    "\n",
    "stop_event_1 = my_env.timeout(365 * 24 * 3600)   # One year of simulation\n",
    "stop_event_2 = Nodes2[-1].container.full_event   # Or until origin is empty\n",
    "\n",
    "stop_event1 = [stop_event_1, stop_event_2]"
   ]
  },
  {
   "cell_type": "code",
   "execution_count": null,
   "metadata": {},
   "outputs": [],
   "source": [
    "# Create activity                      \n",
    "activity_2 = model.Activity(env = my_env,                   # The simpy environment defined in the first cel\n",
    "                          name = \"Hinterland transport Nijmegen\",    # We are moving soil\n",
    "                          origin = Nodes1[-1],              # We originate from the from_site\n",
    "                          destination = Nodes2[-1],         # And therefore travel to the to_site\n",
    "                          loader = barge_01,      # The benefit of a TSHD, all steps can be done\n",
    "                          mover = barge_01,       # The benefit of a TSHD, all steps can be done\n",
    "                          unloader = barge_01,    # The benefit of a TSHD, all steps can be done\n",
    "                          stop_event = stop_event1)            # Stop after 1 year simulation"
   ]
  },
  {
   "cell_type": "code",
   "execution_count": null,
   "metadata": {},
   "outputs": [],
   "source": [
    "# Stop events:\n",
    "\n",
    "stop_event_1 = my_env.timeout(365 * 24 * 3600)   # One year of simulation\n",
    "stop_event_2 = Nodes3[-1].container.full_event   # Or until origin is empty\n",
    "\n",
    "stop_event2 = [stop_event_1, stop_event_2]"
   ]
  },
  {
   "cell_type": "code",
   "execution_count": null,
   "metadata": {},
   "outputs": [],
   "source": [
    "# Create activity                      \n",
    "activity_3 = model.Activity(env = my_env,                   # The simpy environment defined in the first cel\n",
    "                          name = \"Hinterland transport Deventer\",    # We are moving soil\n",
    "                          origin = Nodes1[-1],              # We originate from the from_site\n",
    "                          destination = Nodes3[-1],         # And therefore travel to the to_site\n",
    "                          loader = barge_02,      # The benefit of a TSHD, all steps can be done\n",
    "                          mover = barge_02,       # The benefit of a TSHD, all steps can be done\n",
    "                          unloader = barge_02,    # The benefit of a TSHD, all steps can be done\n",
    "                          stop_event = stop_event2)            # Stop after 1 year simulation"
   ]
  },
  {
   "cell_type": "markdown",
   "metadata": {},
   "source": [
    "### 2. Run the simulation"
   ]
  },
  {
   "cell_type": "code",
   "execution_count": null,
   "metadata": {
    "scrolled": true
   },
   "outputs": [],
   "source": [
    "my_env.run()\n",
    "\n",
    "print(\"\\n*** Transportation of containers finished in {} ***\".format(datetime.timedelta(seconds=int(my_env.now - my_env.epoch))))"
   ]
  },
  {
   "cell_type": "markdown",
   "metadata": {},
   "source": [
    "### 3. Postprocessing"
   ]
  },
  {
   "cell_type": "code",
   "execution_count": null,
   "metadata": {
    "scrolled": true
   },
   "outputs": [],
   "source": [
    "vessels = [barge_large, barge_01, barge_02]\n",
    "# print(vessels)\n",
    "\n",
    "# import pandas as pd\n",
    "# df = pd.DataFrame.from_dict(vessels[0].log)\n",
    "# df"
   ]
  },
  {
   "cell_type": "code",
   "execution_count": null,
   "metadata": {},
   "outputs": [],
   "source": [
    "Nodes1[0].container.level"
   ]
  },
  {
   "cell_type": "code",
   "execution_count": null,
   "metadata": {},
   "outputs": [],
   "source": [
    "Nodes1[-1].container.level"
   ]
  },
  {
   "cell_type": "code",
   "execution_count": null,
   "metadata": {},
   "outputs": [],
   "source": [
    "for j in Nodes2[-1].log['Value']:\n",
    "    while Nodes2[-1].log['Value'][j] < Nodes2[-1].container.capacity:\n",
    "        j = j + 1\n",
    "    else:\n",
    "        print('Capacity of Nijmegen port is reached on', Nodes2[-1].log['Timestamp'][j])\n",
    "        print('Capacity of Nijmegen port is reached after', Nodes2[-1].log['Timestamp'][j] - (datetime.datetime(1970, 1, 1, 1, 0, 0) + datetime.timedelta(seconds=my_env.epoch)))\n",
    "        break"
   ]
  },
  {
   "cell_type": "code",
   "execution_count": null,
   "metadata": {},
   "outputs": [],
   "source": [
    "for j in Nodes3[-1].log['Value']:\n",
    "    while Nodes3[-1].log['Value'][j] < Nodes2[-1].container.capacity:\n",
    "        j = j + 1\n",
    "    else:\n",
    "        print('Capacity of Deventer port is reached on', Nodes3[-1].log['Timestamp'][j])\n",
    "        print('Capacity of Deventer port is reached after', Nodes3[-1].log['Timestamp'][j] - (datetime.datetime(1970, 1, 1, 1, 0, 0) + datetime.timedelta(seconds=my_env.epoch)))\n",
    "        break"
   ]
  },
  {
   "cell_type": "markdown",
   "metadata": {},
   "source": [
    "#### Vessel planning"
   ]
  },
  {
   "cell_type": "code",
   "execution_count": null,
   "metadata": {
    "scrolled": false
   },
   "outputs": [],
   "source": [
    "activities = ['loading', 'unloading', 'sailing filled', 'sailing empty']\n",
    "colors = {0:'rgb(55,126,184)', 1:'rgb(255,150,0)', 2:'rgb(98, 192, 122)', 3:'rgb(98, 141, 122)'}\n",
    "\n",
    "plot.vessel_planning(vessels, activities, colors)"
   ]
  },
  {
   "cell_type": "markdown",
   "metadata": {},
   "source": [
    "#### KML visualisation"
   ]
  },
  {
   "cell_type": "code",
   "execution_count": null,
   "metadata": {},
   "outputs": [],
   "source": [
    "# plot.vessel_kml(my_env, vessels, stepsize = 10000)"
   ]
  },
  {
   "cell_type": "code",
   "execution_count": null,
   "metadata": {},
   "outputs": [],
   "source": [
    "# plot.site_kml(my_env, [Nodes1[0], Nodes1[-1], Nodes2[-1], Nodes3[-1]], stepsize = 10000)"
   ]
  },
  {
   "cell_type": "code",
   "execution_count": null,
   "metadata": {},
   "outputs": [],
   "source": [
    "# #Open the file\n",
    "# if platform.system():\n",
    "#     !start ./vessel_movements.kml\n",
    "#     !start ./site_development.kml\n",
    "# else:\n",
    "#     !start explorer ./vessel_movements.kml\n",
    "#     !start explorer ./site_development.kml"
   ]
  },
  {
   "cell_type": "code",
   "execution_count": null,
   "metadata": {},
   "outputs": [],
   "source": [
    "# Properties toewijzen aan Edges\n",
    "# for edge in FG.edges(data = True):\n",
    "#     print(edge)"
   ]
  },
  {
   "cell_type": "code",
   "execution_count": null,
   "metadata": {},
   "outputs": [],
   "source": [
    "# vessels[0].compute_draught"
   ]
  },
  {
   "cell_type": "code",
   "execution_count": null,
   "metadata": {},
   "outputs": [],
   "source": []
  },
  {
   "cell_type": "code",
   "execution_count": null,
   "metadata": {},
   "outputs": [],
   "source": [
    "# a = Nodes3[-1].log['Timestamp'][j]\n",
    "# import pytz\n",
    "# b = datetime.datetime(1970, 1, 1, 1, 0, 0) + datetime.timedelta(seconds=my_env.epoch)\n",
    "# print(a)\n",
    "# print(b)\n",
    "# print(a-b)"
   ]
  },
  {
   "cell_type": "code",
   "execution_count": null,
   "metadata": {},
   "outputs": [],
   "source": []
  }
 ],
 "metadata": {
  "kernelspec": {
   "display_name": "Python 3",
   "language": "python",
   "name": "python3"
  },
  "language_info": {
   "codemirror_mode": {
    "name": "ipython",
    "version": 3
   },
   "file_extension": ".py",
   "mimetype": "text/x-python",
   "name": "python",
   "nbconvert_exporter": "python",
   "pygments_lexer": "ipython3",
   "version": "3.7.3"
  }
 },
 "nbformat": 4,
 "nbformat_minor": 2
}
