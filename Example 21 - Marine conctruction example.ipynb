{
 "cells": [
  {
   "cell_type": "markdown",
   "metadata": {},
   "source": [
    "# Create necessary classes"
   ]
  },
  {
   "cell_type": "markdown",
   "metadata": {},
   "source": [
    "## General classes"
   ]
  },
  {
   "cell_type": "code",
   "execution_count": 49,
   "metadata": {},
   "outputs": [],
   "source": [
    "class Obj:\n",
    "    \"\"\"Obj class\"\"\"\n",
    "    \n",
    "    def __init__(self, project, name, nr_resources):        \n",
    "        \"\"\"Initialization\"\"\"\n",
    "        \n",
    "        self.project = project\n",
    "        self.name = name\n",
    "        self.resource = simpy.Resource(self.project, capacity=nr_resources)\n"
   ]
  },
  {
   "cell_type": "code",
   "execution_count": 50,
   "metadata": {},
   "outputs": [],
   "source": [
    "class Location:\n",
    "    \"\"\"Location class\"\"\"\n",
    "    \n",
    "    def __init__(self, x, y):\n",
    "        \"\"\"Initialization.\"\"\"        \n",
    "        self.x = 0\n",
    "        self.y = 0\n",
    "        "
   ]
  },
  {
   "cell_type": "code",
   "execution_count": 51,
   "metadata": {},
   "outputs": [],
   "source": [
    "class Container:\n",
    "    \"\"\"Container class\"\"\"\n",
    "    \n",
    "    def __init__(self, capacity, level):\n",
    "        \"\"\"Initialization.\"\"\"\n",
    "        self.container = simpy.Container(self.project, capacity, init=level)\n",
    "        self.total_requested = 0\n",
    "    \n",
    "    def put_soil(self, amount):\n",
    "        \"this could be used to put specific soil characteristics\"\n",
    "        pass\n",
    "        \n",
    "    def get_soil(self, amount):\n",
    "        \"this could be used to get specific soil characteristics\"\n",
    "        pass\n",
    "    "
   ]
  },
  {
   "cell_type": "code",
   "execution_count": 52,
   "metadata": {},
   "outputs": [],
   "source": [
    "class Transport:\n",
    "    \"\"\"Transport class\"\"\"\n",
    "\n",
    "    def __init__(self, \n",
    "                 transport_full_speed=1, transport_full_distance=1000,\n",
    "                 transport_empty_speed=1.5, transport_empty_distance=1000):\n",
    "        \"\"\"Initialization.\"\"\"\n",
    "        self.transport_full_speed = transport_full_speed \n",
    "        self.transport_full_distance = transport_full_distance\n",
    "        self.transport_empty_speed = transport_empty_speed \n",
    "        self.transport_empty_distance = transport_empty_distance \n",
    "\n",
    "    def transport_full(self):\n",
    "        \"\"\"transport full\"\"\"\n",
    "        trip_duration = self.transport_full_distance / self.transport_full_speed\n",
    "\n",
    "        self.log_entry('transport full start', self.project.now, self.container.level)\n",
    "        yield self.project.timeout(trip_duration)\n",
    "        self.log_entry('transport full stop', self.project.now, self.container.level)\n",
    "\n",
    "    def transport_empty(self):\n",
    "        \"\"\"transport empty\"\"\"\n",
    "        trip_duration = self.transport_empty_distance / self.transport_empty_speed\n",
    "\n",
    "        self.log_entry('transport empty start', self.project.now, self.container.level)\n",
    "        yield self.project.timeout(trip_duration)\n",
    "        self.log_entry('transport empty stop', self.project.now, self.container.level)\n",
    "        "
   ]
  },
  {
   "cell_type": "code",
   "execution_count": 53,
   "metadata": {},
   "outputs": [],
   "source": [
    "class Processing:\n",
    "    \"\"\"Processing class\"\"\"\n",
    "    \n",
    "    def __init__(self,\n",
    "                 intake_obj, output_obj, processing_rate):\n",
    "        \"\"\"Initialization.\"\"\"\n",
    "        self.intake_obj=intake_obj\n",
    "        self.output_obj=output_obj\n",
    "        self.processing_rate=processing_rate\n",
    "        "
   ]
  },
  {
   "cell_type": "code",
   "execution_count": 54,
   "metadata": {},
   "outputs": [],
   "source": [
    "class Intake:\n",
    "    \"\"\"Intake class\"\"\"\n",
    "    \n",
    "    def __init__(self,\n",
    "                 intake_obj, output_obj, intake_rate):\n",
    "        \"\"\"Initialization.\"\"\"\n",
    "        self.intake_obj=intake_obj\n",
    "        self.output_obj=output_obj\n",
    "        self.intake_rate=intake_rate\n",
    "        "
   ]
  },
  {
   "cell_type": "code",
   "execution_count": 55,
   "metadata": {},
   "outputs": [],
   "source": [
    "class Output:\n",
    "    \"\"\"Output class\"\"\"\n",
    "    \n",
    "    def __init__(self,\n",
    "                 intake_obj, output_obj, output_rate):\n",
    "        \"\"\"Initialization.\"\"\"\n",
    "        self.intake_obj=intake_obj\n",
    "        self.output_obj=output_obj\n",
    "        self.output_rate=output_rate\n",
    "        "
   ]
  },
  {
   "cell_type": "code",
   "execution_count": 56,
   "metadata": {},
   "outputs": [],
   "source": [
    "class Log:\n",
    "    \"\"\"Log class\"\"\"\n",
    "    \n",
    "    def __init__(self, log=[], t=[], value=[]):\n",
    "        \"\"\"Initialization.\"\"\"\n",
    "        self.log = log\n",
    "        self.t = t\n",
    "        self.value = value\n",
    "        \n",
    "    def log_entry(self, log, t, value):\n",
    "        \"\"\"Log\"\"\"\n",
    "        self.log.append(log)\n",
    "        self.t.append(t)\n",
    "        self.value.append(value)\n",
    "        "
   ]
  },
  {
   "cell_type": "markdown",
   "metadata": {},
   "source": [
    "## Specific classes"
   ]
  },
  {
   "cell_type": "code",
   "execution_count": 57,
   "metadata": {},
   "outputs": [],
   "source": [
    "class Site(Obj, Location, Container, Log):\n",
    "    \"\"\"Site class\"\"\"    \n",
    "\n",
    "    def __init__(self, \n",
    "                 project, name, nr_resources=1,\n",
    "                 x=0, y=0,\n",
    "                 capacity=1000, level=1000, \n",
    "                 log=[], t=[], value=[]):\n",
    "        \"\"\"Initialization.\"\"\" \n",
    "        Obj.__init__(self, project, name, nr_resources)\n",
    "        Location.__init__(self, x, y)\n",
    "        Container.__init__(self, capacity, level)\n",
    "        Log.__init__(self, log, t, value)\n",
    "        "
   ]
  },
  {
   "cell_type": "code",
   "execution_count": 58,
   "metadata": {},
   "outputs": [],
   "source": [
    "class Transport_Resource(Obj, Location, Container, Transport, Log):\n",
    "    \"\"\"Transport_Resource class\"\"\"    \n",
    "\n",
    "    def __init__(self, \n",
    "                 project, name, nr_resources=1,\n",
    "                 x=0, y=0,\n",
    "                 capacity=1000, level=1000, \n",
    "                 full_speed=1, full_distance=1000, empty_speed=1.5, empty_distance=1000, \n",
    "                 log=[], t=[], value=[]):\n",
    "        \"\"\"Initialization.\"\"\" \n",
    "        Obj.__init__(self, project, name, nr_resources)\n",
    "        Location.__init__(self, x, y)\n",
    "        Container.__init__(self, capacity, level)\n",
    "        Transport.__init__(self, full_speed, full_distance, empty_speed, empty_distance)\n",
    "        Log.__init__(self, log, t, value)\n",
    "        "
   ]
  },
  {
   "cell_type": "code",
   "execution_count": 59,
   "metadata": {},
   "outputs": [],
   "source": [
    "class Processing_Resource(Obj, Location, Processing, Log):\n",
    "    \"\"\"Processing_Resource class\"\"\"    \n",
    "\n",
    "    def __init__(self, \n",
    "                 project, name, nr_resources=1,\n",
    "                 x=0, y=0,\n",
    "                 intake_obj=[], output_obj=[], processing_rate=5, \n",
    "                 log=[], t=[], value=[]):\n",
    "        \"\"\"Initialization.\"\"\" \n",
    "        Obj.__init__(self, project, name, nr_resources)\n",
    "        Location.__init__(self, x, y)\n",
    "        Processing.__init__(self, intake_obj, output_obj, processing_rate)\n",
    "        Log.__init__(self, log, t, value)\n",
    "\n",
    "    def load(self, intake_obj, output_obj, value):\n",
    "        intake_obj.container.get(value)\n",
    "        output_obj.container.put(value)\n",
    "        yield self.project.timeout(value/self.processing_rate)\n",
    "        print('T=' + '{:06.2f}'.format(project.now) + ' ' + output_obj.name + ' container value: ' + str(output_obj.container.level))\n"
   ]
  },
  {
   "cell_type": "code",
   "execution_count": 60,
   "metadata": {},
   "outputs": [],
   "source": [
    "class Transport_Processing_Resource(Obj, Location, Intake, Output, Container, Transport, Log):\n",
    "    \"\"\"Transport_Processing_Resource class\"\"\"    \n",
    "\n",
    "    def __init__(self, \n",
    "                 project, name, nr_resources=1,\n",
    "                 x=0, y=0,\n",
    "                 capacity=1000, level=1000, \n",
    "                 intake_obj=[], intake_rate=[],\n",
    "                 output_obj=[], output_rate=[],\n",
    "                 full_speed=1, full_distance=1000, empty_speed=1.5, empty_distance=1000, \n",
    "                 log=[], t=[], value=[]):\n",
    "        \"\"\"Initialization.\"\"\" \n",
    "        Obj.__init__(self, project, name, nr_resources)\n",
    "        Location.__init__(self, x, y)\n",
    "        Container.__init__(self, capacity, level)\n",
    "        Intake.__init__(self, intake_obj, self.container, intake_rate)\n",
    "        Output.__init__(self, self.container, output_obj, output_rate)\n",
    "        Transport.__init__(self, full_speed, full_distance, empty_speed, empty_distance)\n",
    "        Log.__init__(self, log, t, value)\n",
    "        "
   ]
  },
  {
   "cell_type": "markdown",
   "metadata": {},
   "source": [
    "## Activities"
   ]
  },
  {
   "cell_type": "code",
   "execution_count": 61,
   "metadata": {},
   "outputs": [],
   "source": [
    "class Installation:\n",
    "    \"\"\"The Installation Class forms a spefic class of activities with associated methods that can \n",
    "    initiate and suspend processes according to a number of specified conditions. This class deals \n",
    "    mainly with transport and installation of discrete objects.\"\"\"\n",
    "    def __init__(self, project, name, \n",
    "                 condition,\n",
    "                 from_site, to_site,  \n",
    "                 load_resource, transport_resource, placement_resource):\n",
    "        \"\"\"Initialization.\"\"\"\n",
    "        self.project = project\n",
    "        self.name = name\n",
    "        \n",
    "        self.condition = condition\n",
    "        \n",
    "        self.from_site = from_site\n",
    "        self.to_site = to_site\n",
    "        \n",
    "        self.load_resource = load_resource\n",
    "        self.transport_resource = transport_resource\n",
    "        self.placement_resource = placement_resource\n",
    "        \n",
    "        self.standing_by_proc = project.process(\n",
    "            self.standing_by(project, \n",
    "                             condition,\n",
    "                             from_site, to_site,\n",
    "                             load_resource, transport_resource, placement_resource))\n",
    "\n",
    "        self.installation_proc = project.process(\n",
    "            self.installation_process_control(project,\n",
    "                             condition,\n",
    "                             from_site, to_site,\n",
    "                             load_resource, transport_resource, placement_resource))\n",
    "\n",
    "        self.installation_reactivate = project.event()\n",
    "\n",
    "    def standing_by(self, project, condition,\n",
    "                          from_site, to_site,\n",
    "                          load_resource, transport_resource, placement_resource):\n",
    "        \"\"\"Standing by\"\"\"\n",
    "        shown = False\n",
    "\n",
    "        while not eval(condition):\n",
    "            if not shown:\n",
    "                print('T=' + '{:06.2f}'.format(project.now) + ' ' + self.name + ' to ' + to_site.name + ' suspended')\n",
    "                shown = True\n",
    "            yield self.project.timeout(1) # step 1 minute ahead\n",
    "\n",
    "        print('T=' + '{:06.2f}'.format(project.now) + ' ' + 'Condition: ' + condition + ' is satisfied')\n",
    "\n",
    "        self.installation_reactivate.succeed()  # \"reactivate\"\n",
    "        self.installation_reactivate = self.project.event()\n",
    " \n",
    "    def installation_process_control(self, project, condition,\n",
    "                             from_site, to_site,\n",
    "                             load_resource, transport_resource, placement_resource):\n",
    "        \"\"\"Installation process control\"\"\"  \n",
    "        while not eval(self.condition):\n",
    "            yield self.installation_reactivate\n",
    "\n",
    "        print('T=' + '{:06.2f}'.format(project.now) + ' '+ self.name + ' to ' + to_site.name + ' started')\n",
    "        while eval(condition):\n",
    "            yield from self.installation_process(project, condition,\n",
    "                                                 from_site, to_site,\n",
    "                                                 load_resource, transport_resource, placement_resource)\n",
    "        \n",
    "    def installation_process(self, project, condition,\n",
    "                                   from_site, to_site,\n",
    "                                   load_resource, transport_resource, placement_resource):\n",
    "        \"\"\"Installation process.\"\"\"\n",
    "        delivery_volume = min(\n",
    "            from_site.container.level,\n",
    "            transport_resource.container.capacity - transport_resource.container.level,\n",
    "            to_site.container.capacity - to_site.container.level)\n",
    "\n",
    "        if delivery_volume>0:\n",
    "            # request access to the load_resource\n",
    "            with load_resource.resource.request() as my_load_resource_turn:\n",
    "                yield my_load_resource_turn\n",
    "\n",
    "                to_site.total_requested += delivery_volume\n",
    "                from_site.total_requested += delivery_volume\n",
    "\n",
    "                yield from load_resource.load(from_site, transport_resource, delivery_volume)\n",
    "\n",
    "                load_resource.resource.release(my_load_resource_turn)\n",
    "\n",
    "            # request access to the transport_resource\n",
    "            with transport_resource.resource.request() as my_transport_resource_turn:\n",
    "                yield my_transport_resource_turn\n",
    "\n",
    "                yield from transport_resource.transport_full()\n",
    "\n",
    "            # request access to the placement_resource\n",
    "            with placement_resource.resource.request() as my_placement_resource_turn:\n",
    "                yield my_placement_resource_turn\n",
    "\n",
    "                yield from load_resource.load(transport_resource, to_site, delivery_volume)\n",
    "\n",
    "                placement_resource.resource.release(my_placement_resource_turn)\n",
    "\n",
    "            # request access to the transport_resource\n",
    "            with transport_resource.resource.request() as my_transport_resource_turn:\n",
    "                yield my_transport_resource_turn\n",
    "\n",
    "                yield from transport_resource.transport_empty()\n",
    "\n",
    "                transport_resource.resource.release(my_transport_resource_turn)\n",
    "        \n",
    " "
   ]
  },
  {
   "cell_type": "markdown",
   "metadata": {},
   "source": [
    "# Start case"
   ]
  },
  {
   "cell_type": "code",
   "execution_count": 62,
   "metadata": {},
   "outputs": [],
   "source": [
    "import simpy"
   ]
  },
  {
   "cell_type": "code",
   "execution_count": 63,
   "metadata": {},
   "outputs": [],
   "source": [
    "# *** Create a project environment\n",
    "project = simpy.Environment()"
   ]
  },
  {
   "cell_type": "code",
   "execution_count": 64,
   "metadata": {},
   "outputs": [],
   "source": [
    "# *** Define sites\n",
    "from_site = Site(project, 'block_yard', 1,    0, 0, 10000, 10000)\n",
    "to_site_1 = Site(project, 'site_1',            1, 1000, 0,  5000,     0)\n",
    "to_site_2 = Site(project, 'site_2',            1, 2000, 0,  5000,     0)"
   ]
  },
  {
   "cell_type": "code",
   "execution_count": 65,
   "metadata": {},
   "outputs": [],
   "source": [
    "# *** Define fleet\n",
    "load_resource = Processing_Resource(project, 'portaal_kraan')\n",
    "transport_resource_1 = Transport_Resource(project,  'barge_1', capacity = 1000, level = 0)\n",
    "transport_resource_2 = Transport_Resource(project,  'barge_2', capacity = 1000, level = 0)\n",
    "placement_resource = Processing_Resource(project, 'titan')"
   ]
  },
  {
   "cell_type": "code",
   "execution_count": 66,
   "metadata": {},
   "outputs": [],
   "source": [
    "# *** Define activties\n",
    "act_1 = Installation(project, 'block placement',\n",
    "                                     '''to_site_1.container.level<5000''',\n",
    "                                     from_site,  to_site_1,\n",
    "                                     load_resource, transport_resource_1, placement_resource)\n",
    "act_2 = Installation(project, 'block placement',\\\n",
    "                                     '''to_site_2.container.level<5000 and to_site_1.container.level>=3000''',\\\n",
    "                                     from_site,  to_site_2,\\\n",
    "                                     load_resource, transport_resource_2, placement_resource)\n"
   ]
  },
  {
   "cell_type": "code",
   "execution_count": 67,
   "metadata": {},
   "outputs": [
    {
     "name": "stdout",
     "output_type": "stream",
     "text": [
      "T=000.00 Condition: to_site_1.container.level<5000 is satisfied\n",
      "T=000.00 block placement to site_1 started\n",
      "T=000.00 block placement to site_2 suspended\n",
      "T=200.00 barge_1 container value: 1000\n",
      "T=1400.00 site_1 container value: 1000\n",
      "T=2266.67 barge_1 container value: 1000\n",
      "T=3466.67 site_1 container value: 2000\n",
      "T=4333.33 barge_1 container value: 1000\n",
      "T=5334.00 Condition: to_site_2.container.level<5000 and to_site_1.container.level>=3000 is satisfied\n",
      "T=5334.00 block placement to site_2 started\n",
      "T=5533.33 site_1 container value: 3000\n",
      "T=5534.00 barge_2 container value: 1000\n",
      "T=6400.00 barge_1 container value: 1000\n",
      "T=6734.00 site_2 container value: 1000\n",
      "T=7600.00 site_1 container value: 4000\n",
      "T=7600.67 barge_2 container value: 1000\n",
      "T=8466.67 barge_1 container value: 1000\n",
      "T=8800.67 site_2 container value: 2000\n",
      "T=9666.67 site_1 container value: 5000\n",
      "T=9667.33 barge_2 container value: 1000\n",
      "T=10867.33 site_2 container value: 3000\n",
      "T=11734.00 barge_2 container value: 1000\n",
      "T=12934.00 site_2 container value: 4000\n",
      "T=13800.67 barge_2 container value: 1000\n",
      "T=15000.67 site_2 container value: 5000\n"
     ]
    }
   ],
   "source": [
    "#*** Run the project\n",
    "project.run()"
   ]
  },
  {
   "cell_type": "markdown",
   "metadata": {},
   "source": [
    "# Test space"
   ]
  },
  {
   "cell_type": "code",
   "execution_count": 68,
   "metadata": {},
   "outputs": [],
   "source": [
    "import networkx as nx"
   ]
  },
  {
   "cell_type": "code",
   "execution_count": 69,
   "metadata": {},
   "outputs": [],
   "source": [
    "G = nx.Graph()"
   ]
  },
  {
   "cell_type": "code",
   "execution_count": 70,
   "metadata": {},
   "outputs": [
    {
     "name": "stdout",
     "output_type": "stream",
     "text": [
      "(1, 2, 0.125)\n",
      "(2, 1, 0.125)\n",
      "(3, 4, 0.375)\n",
      "(4, 3, 0.375)\n"
     ]
    }
   ],
   "source": [
    "FG = nx.Graph()\n",
    "FG.add_weighted_edges_from([(1, 2, 0.125), (1, 3, 0.75), (2, 4, 1.2), (3, 4, 0.375)])\n",
    "for n, nbrs in FG.adj.items():\n",
    "    for nbr, eattr in nbrs.items():\n",
    "        wt = eattr['weight']\n",
    "        if wt < 0.5: print('(%d, %d, %.3f)' % (n, nbr, wt))"
   ]
  },
  {
   "cell_type": "code",
   "execution_count": 71,
   "metadata": {},
   "outputs": [
    {
     "ename": "AttributeError",
     "evalue": "'Graph' object has no attribute 'dij'",
     "output_type": "error",
     "traceback": [
      "\u001b[1;31m---------------------------------------------------------------------------\u001b[0m",
      "\u001b[1;31mAttributeError\u001b[0m                            Traceback (most recent call last)",
      "\u001b[1;32m<ipython-input-71-ba55cc5da58c>\u001b[0m in \u001b[0;36m<module>\u001b[1;34m()\u001b[0m\n\u001b[1;32m----> 1\u001b[1;33m \u001b[0mFG\u001b[0m\u001b[1;33m.\u001b[0m\u001b[0mdij\u001b[0m\u001b[1;33m\u001b[0m\u001b[0m\n\u001b[0m",
      "\u001b[1;31mAttributeError\u001b[0m: 'Graph' object has no attribute 'dij'"
     ]
    }
   ],
   "source": [
    "FG.dij"
   ]
  }
 ],
 "metadata": {
  "kernelspec": {
   "display_name": "Python 3",
   "language": "python",
   "name": "python3"
  },
  "language_info": {
   "codemirror_mode": {
    "name": "ipython",
    "version": 3
   },
   "file_extension": ".py",
   "mimetype": "text/x-python",
   "name": "python",
   "nbconvert_exporter": "python",
   "pygments_lexer": "ipython3",
   "version": "3.6.3"
  }
 },
 "nbformat": 4,
 "nbformat_minor": 2
}
