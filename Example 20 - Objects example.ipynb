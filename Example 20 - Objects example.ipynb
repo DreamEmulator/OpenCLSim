{
 "cells": [
  {
   "cell_type": "markdown",
   "metadata": {},
   "source": [
    "# Create necessary classes"
   ]
  },
  {
   "cell_type": "markdown",
   "metadata": {},
   "source": [
    "## General classes"
   ]
  },
  {
   "cell_type": "code",
   "execution_count": 252,
   "metadata": {},
   "outputs": [],
   "source": [
    "# package(s) related to the simulation\n",
    "import simpy\n",
    "\n",
    "# package(s) related to time, space and id\n",
    "import datetime\n",
    "import json\n",
    "import geojson\n",
    "import shapely.geometry\n",
    "import uuid"
   ]
  },
  {
   "cell_type": "code",
   "execution_count": 253,
   "metadata": {},
   "outputs": [],
   "source": [
    "class Identifiable(object):\n",
    "    \"\"\"Something that has a name and id\n",
    "    \n",
    "    env: a simpy Environment\n",
    "    name: a name\n",
    "    id: a unique id generated with uuid\"\"\"\n",
    "    \n",
    "    def __init__(self, env, name, id=None, *args, **kwargs):\n",
    "        super().__init__(*args, **kwargs)\n",
    "        \"\"\"Initialization\"\"\"\n",
    "        self.env = env\n",
    "        self.name = name\n",
    "        # generate some id, in this case based on m\n",
    "        self.id = id if id else str(uuid.uuid1())\n",
    "                "
   ]
  },
  {
   "cell_type": "code",
   "execution_count": 254,
   "metadata": {},
   "outputs": [],
   "source": [
    "class Location(object):\n",
    "    \"\"\"Something with a geometry (geojson format)\n",
    "    \n",
    "    geometry: can be a point as well as a polygon\"\"\"\n",
    "    \n",
    "    def __init__(self, geometry, *args, **kwargs):\n",
    "        super().__init__(*args, **kwargs)\n",
    "        \"\"\"Initialization\"\"\"\n",
    "        self.geometry = geometry\n"
   ]
  },
  {
   "cell_type": "code",
   "execution_count": 255,
   "metadata": {},
   "outputs": [],
   "source": [
    "class Container(object):\n",
    "    \"\"\"Container class\n",
    "    \n",
    "    capacity: amount the container can hold\n",
    "    level: amount the container holds\n",
    "    container: a simpy object that can hold stuff\n",
    "    total_requested: a counter needed to prevent over-handling\"\"\"\n",
    "\n",
    "    def __init__(self, capacity, level=0, *args, **kwargs):\n",
    "        super().__init__(*args, **kwargs)\n",
    "        \"\"\"Initialization\"\"\"\n",
    "        self.container = simpy.Container(env, capacity, init=level)\n",
    "        self.total_requested = 0\n"
   ]
  },
  {
   "cell_type": "code",
   "execution_count": 256,
   "metadata": {},
   "outputs": [],
   "source": [
    "class Move(object):\n",
    "    \"\"\"Move class\n",
    "    \n",
    "    origin: origin of trip\n",
    "    destination: destination of trip\n",
    "    v_empty: speed empty [m/s]\n",
    "    v_full: speed full [m/s]\n",
    "    resource: a simpy resource that can be requested\"\"\"\n",
    "    \n",
    "    def __init__(self, \n",
    "                 origin, destination,\n",
    "                 v_empty=1.5, v_full=1, \n",
    "                 nr_resources=1,\n",
    "                 *args, **kwargs):\n",
    "        super().__init__(*args, **kwargs)\n",
    "        \"\"\"Initialization\"\"\"\n",
    "        self.origin = origin\n",
    "        self.destination = destination\n",
    "        self.v_empty = v_empty \n",
    "        self.v_full = v_full \n",
    "        self.resource = simpy.Resource(env, capacity=nr_resources)\n",
    "\n",
    "    def execute_move(self, origin, destination):\n",
    "        \"\"\"determine distance between origin and destination, and\n",
    "        yield the time it takes to travel it\"\"\"\n",
    "        origin = shapely.geometry.asShape(self.origin.geometry)\n",
    "        destination = shapely.geometry.asShape(self.destination.geometry)\n",
    "        distance = origin.distance(destination) \n",
    "\n",
    "        if self.container.level == self.container.capacity:\n",
    "            yield self.env.timeout(distance / self.v_full)\n",
    "            print('  sailing full: ' + str(self.v_full) + ' m/s')\n",
    " \n",
    "        elif self.container.level == 0:\n",
    "            yield self.env.timeout(distance / self.v_empty)\n",
    "            print('  sailing empty: ' + str(self.v_empty) + ' m/s')\n",
    " "
   ]
  },
  {
   "cell_type": "code",
   "execution_count": 257,
   "metadata": {},
   "outputs": [],
   "source": [
    "class Process(object):\n",
    "    \"\"\"Process class\n",
    "    \n",
    "    resource: a simpy resource that can be requested\n",
    "    origin: object with simpy Container from which to get (can be Site or Vessel)\n",
    "    destination: object with simpy Container in which to put (can be Site or Vessel)\n",
    "    rate: rate with which quantity can be processed [amount/s]\n",
    "    amount: amount to process\"\"\"\n",
    "\n",
    "    def __init__(self, \n",
    "                 nr_resources,\n",
    "                 origin, destination, rate, amount=0,\n",
    "                 *args, **kwargs):\n",
    "        super().__init__(*args, **kwargs)\n",
    "        \"\"\"Initialization\"\"\"\n",
    "        self.resource = simpy.Resource(env, capacity=nr_resources)\n",
    "        self.origin=origin\n",
    "        self.destination=destination\n",
    "        self.rate=rate\n",
    "        self.amount=amount\n",
    "        \n",
    "    def execute_process(self, origin, destination, amount):\n",
    "        \"\"\"get amount from origin container,\n",
    "        put amount in destination continater, and\n",
    "        yield the time it takes to process it\"\"\"\n",
    "        origin.container.get(amount)\n",
    "        destination.container.put(amount)\n",
    "        yield self.env.timeout(amount / self.rate)\n",
    "        "
   ]
  },
  {
   "cell_type": "code",
   "execution_count": 258,
   "metadata": {},
   "outputs": [],
   "source": [
    "class Log(object):\n",
    "    \"\"\"Log class\n",
    "    \n",
    "    log: log message [format: 'start activity' or 'stop activity']\n",
    "    t: timestamp\n",
    "    value: a value can be logged as well\"\"\"\n",
    "        \n",
    "    def __init__(self, *args, **kwargs):\n",
    "        super().__init__(*args, **kwargs)\n",
    "        \"\"\"Initialization\"\"\"\n",
    "        self.log = []\n",
    "        self.t = []\n",
    "        self.value = []\n",
    "        \n",
    "    def log_entry(self, log, t, value):\n",
    "        \"\"\"Log\"\"\"\n",
    "        self.log.append(log)\n",
    "        self.t.append(t)\n",
    "        self.value.append(value)\n",
    "        "
   ]
  },
  {
   "cell_type": "markdown",
   "metadata": {},
   "source": [
    "## Constructed classes"
   ]
  },
  {
   "cell_type": "code",
   "execution_count": 259,
   "metadata": {},
   "outputs": [],
   "source": [
    "class Site(Identifiable, Location, Log, Container):\n",
    "    def __init__(self, *args, **kwargs):\n",
    "        super().__init__(*args, **kwargs)\n"
   ]
  },
  {
   "cell_type": "code",
   "execution_count": 260,
   "metadata": {},
   "outputs": [],
   "source": [
    "class Transport_Resource(Identifiable, Location, Log, Container, Move):\n",
    "    def __init__(self, *args, **kwargs):\n",
    "        super().__init__(*args, **kwargs)\n"
   ]
  },
  {
   "cell_type": "code",
   "execution_count": 261,
   "metadata": {},
   "outputs": [],
   "source": [
    "class Transport_Processing_Resource(Identifiable, Location, Log, Container, Move, Process):\n",
    "    def __init__(self, *args, **kwargs):\n",
    "        super().__init__(*args, **kwargs)\n"
   ]
  },
  {
   "cell_type": "code",
   "execution_count": 262,
   "metadata": {},
   "outputs": [],
   "source": [
    "class Processing_Resource(Identifiable, Location, Log, Process):\n",
    "    def __init__(self, \n",
    "                 *args, **kwargs):\n",
    "        super().__init__(*args, **kwargs)\n"
   ]
  },
  {
   "cell_type": "markdown",
   "metadata": {},
   "source": [
    "## Activities"
   ]
  },
  {
   "cell_type": "code",
   "execution_count": 263,
   "metadata": {},
   "outputs": [],
   "source": [
    "class Installation(Identifiable):\n",
    "    \"\"\"The Installation Class forms a spefic class of activities with associated methods that can \n",
    "    initiate and suspend processes according to a number of specified conditions. \n",
    "    \n",
    "    This class deals with transport and installation/placement of discrete and continuous objects.\n",
    "    \n",
    "    condition: expression that states when to initiate or to suspend activity\n",
    "    origin: object with simpy Container from which to get (can be Site or Vessel)\n",
    "    destination: object with simpy Container in which to put (can be Site or Vessel)\n",
    "    loader: gets amount from origin Contaner and puts it into mover Container\n",
    "    mover: moves amount in Container from origin to destination\n",
    "    unloader: gets amount from mover Contaner and puts it into destination Container\"\"\"\n",
    "\n",
    "    def __init__(self, \n",
    "                 condition,\n",
    "                 origin, destination,  \n",
    "                 loader, mover, unloader,\n",
    "                 *args, **kwargs):\n",
    "        super().__init__(*args, **kwargs)\n",
    "        \"\"\"Initialization\"\"\"\n",
    "        \n",
    "        self.condition = condition\n",
    "        \n",
    "        self.origin = origin\n",
    "        self.destination = destination\n",
    "        \n",
    "        self.loader = loader\n",
    "        self.mover = mover\n",
    "        self.unloader = unloader\n",
    "        \n",
    "        self.standing_by_proc = env.process(\n",
    "            self.standing_by(env, \n",
    "                             condition,\n",
    "                             origin, destination,\n",
    "                             loader, mover, unloader))\n",
    "\n",
    "        self.installation_proc = env.process(\n",
    "            self.installation_process_control(env,\n",
    "                             condition,\n",
    "                             origin, destination,\n",
    "                             loader, mover, unloader))\n",
    "\n",
    "        self.installation_reactivate = env.event()\n",
    "\n",
    "    def standing_by(self, env, condition,\n",
    "                          origin, destination,\n",
    "                          loader, mover, unloader):\n",
    "        \"\"\"Standing by\"\"\"\n",
    "        shown = False\n",
    "\n",
    "        while not eval(condition):\n",
    "            if not shown:\n",
    "                print('T=' + '{:06.2f}'.format(env.now) + ' ' + self.name + ' to ' + destination.name + ' suspended')\n",
    "                shown = True\n",
    "            yield env.timeout(1) # step 1 time unit ahead\n",
    "\n",
    "        print('T=' + '{:06.2f}'.format(env.now) + ' ' + 'Condition: ' + condition + ' is satisfied')\n",
    "\n",
    "        self.installation_reactivate.succeed()  # \"reactivate\"\n",
    "        self.installation_reactivate = env.event()\n",
    " \n",
    "    def installation_process_control(self, env, condition,\n",
    "                                           origin, destination,\n",
    "                                           loader, mover, unloader):\n",
    "        \"\"\"Installation process control\"\"\"  \n",
    "        while not eval(condition):\n",
    "            yield self.installation_reactivate\n",
    "\n",
    "        print('T=' + '{:06.2f}'.format(env.now) + ' '+ self.name + ' to ' + destination.name + ' started')\n",
    "        while eval(condition):\n",
    "            yield from self.installation_process(env, condition,\n",
    "                                                 origin, destination,\n",
    "                                                 loader, mover, unloader)\n",
    "        \n",
    "    def installation_process(self, env, condition,\n",
    "                                   origin, destination,\n",
    "                                   loader, mover, unloader):\n",
    "        \"\"\"Installation process\"\"\"\n",
    "        amount = min(\n",
    "            mover.container.capacity - mover.container.level,\n",
    "            destination.container.capacity - destination.container.level)\n",
    "\n",
    "        if amount>0:\n",
    "            print('amount>0')\n",
    "            # request access to the load_resource\n",
    "            with loader.resource.request() as my_load_resource_turn:\n",
    "                yield my_load_resource_turn\n",
    "\n",
    "                destination.total_requested += amount\n",
    "                origin.total_requested += amount\n",
    "\n",
    "                mover.log_entry('loading start', self.env.now, mover.container.level)\n",
    "                print('Loading:')\n",
    "                yield from loader.execute_process(origin, mover, amount)\n",
    "                mover.log_entry('loading stop', self.env.now, mover.container.level)\n",
    " \n",
    "                loader.resource.release(my_load_resource_turn)\n",
    "\n",
    "                print('  ' + origin.name + ' contains: ' + str(origin.container.level))\n",
    "                print('  ' + mover.name + ' contains: ' + str(mover.container.level))\n",
    "                print('  ' + destination.name + ' contains: ' + str(destination.container.level))\n",
    " \n",
    "            # request access to the transport_resource\n",
    "            with mover.resource.request() as my_mover_turn:\n",
    "                yield my_mover_turn\n",
    "\n",
    "                mover.log_entry('sailing full start', self.env.now, mover.container.level)\n",
    "                yield from mover.execute_move(origin, destination)\n",
    "                mover.log_entry('sailing full stop', self.env.now, mover.container.level)\n",
    "\n",
    "            # request access to the placement_resource\n",
    "            with unloader.resource.request() as my_unloader_turn:\n",
    "                yield my_unloader_turn\n",
    "\n",
    "                mover.log_entry('unloading start', self.env.now, mover.container.level)\n",
    "                print('Unloading:')\n",
    "                yield from loader.execute_process(mover, destination, amount)\n",
    "                mover.log_entry('unloading stop', self.env.now, mover.container.level)\n",
    "\n",
    "                unloader.resource.release(my_unloader_turn)\n",
    "\n",
    "                print('  ' + origin.name + ' contains: ' + str(origin.container.level))\n",
    "                print('  ' + mover.name + ' contains: ' + str(mover.container.level))\n",
    "                print('  ' + destination.name + ' contains: ' + str(destination.container.level))\n",
    "\n",
    "            # request access to the transport_resource\n",
    "            with mover.resource.request() as my_mover_turn:\n",
    "                yield my_mover_turn\n",
    "\n",
    "                mover.log_entry('sailing full start', self.env.now, mover.container.level)\n",
    "                yield from mover.execute_move(destination, origin)\n",
    "                mover.log_entry('sailing full stop', self.env.now, mover.container.level)\n",
    "\n",
    "                mover.resource.release(my_mover_turn)\n"
   ]
  },
  {
   "cell_type": "markdown",
   "metadata": {},
   "source": [
    "# Start case"
   ]
  },
  {
   "cell_type": "code",
   "execution_count": 264,
   "metadata": {},
   "outputs": [],
   "source": [
    "import simpy"
   ]
  },
  {
   "cell_type": "code",
   "execution_count": 265,
   "metadata": {},
   "outputs": [],
   "source": [
    "# *** Create a project environment\n",
    "env = simpy.Environment()"
   ]
  },
  {
   "cell_type": "code",
   "execution_count": 266,
   "metadata": {},
   "outputs": [
    {
     "name": "stdout",
     "output_type": "stream",
     "text": [
      "{'container': <simpy.resources.container.Container object at 0x000002214CFAA208>, 'total_requested': 0, 'log': [], 't': [], 'value': [], 'geometry': {\"coordinates\": [52.94239823421129, 5.019298185633251], \"type\": \"Point\"}, 'env': <simpy.core.Environment object at 0x000002214CF81C88>, 'name': 'KP00', 'id': '2718059e-893f-11e8-8c90-60f677ba2ce0'}\n",
      "{'container': <simpy.resources.container.Container object at 0x000002214CFAA438>, 'total_requested': 0, 'log': [], 't': [], 'value': [], 'geometry': {\"coordinates\": [52.93917167503315, 5.070195628786471], \"type\": \"Point\"}, 'env': <simpy.core.Environment object at 0x000002214CF81C88>, 'name': 'KP01', 'id': '2718059f-893f-11e8-b1fd-60f677ba2ce0'}\n",
      "{'container': <simpy.resources.container.Container object at 0x000002214CFAADD8>, 'total_requested': 0, 'log': [], 't': [], 'value': [], 'geometry': {\"coordinates\": [53.0229621352376, 5.197016484858931], \"type\": \"Point\"}, 'env': <simpy.core.Environment object at 0x000002214CF81C88>, 'name': 'KP15', 'id': '271805a0-893f-11e8-a985-60f677ba2ce0'}\n",
      "{'container': <simpy.resources.container.Container object at 0x000002214CFAA518>, 'total_requested': 0, 'log': [], 't': [], 'value': [], 'geometry': {\"coordinates\": [53.06330503232375, 5.310252030674185], \"type\": \"Point\"}, 'env': <simpy.core.Environment object at 0x000002214CF81C88>, 'name': 'KP32', 'id': '271805a1-893f-11e8-b5db-60f677ba2ce0'}\n"
     ]
    }
   ],
   "source": [
    "# *** Define sites\n",
    "\n",
    "# Den Oever\n",
    "# <longitude>5.070195628786471</longitude>\n",
    "# <latitude>52.93917167503315</latitude>\n",
    "\n",
    "# Breezanddijk\n",
    "# <longitude>5.197016484858931</longitude>\n",
    "# <latitude>53.0229621352376</latitude>\n",
    "\n",
    "# Kornwerderzand\n",
    "# <longitude>5.310252030674185</longitude>\n",
    "# <latitude>53.06330503232375</latitude>\n",
    "\n",
    "# Den Oever haven\n",
    "# <longitude>5.019298185633251</longitude>\n",
    "# <latitude>52.94239823421129</latitude>\n",
    "\n",
    "# sites in database (nr indicates km's from Den Oever haven)\n",
    "data_site_00 = {\"env\": env,\n",
    "                \"name\": \"KP00\", \"geometry\": geojson.Point([52.94239823421129, 5.019298185633251]),\n",
    "                \"capacity\": 15000, \"level\": 15000}\n",
    "data_site_01 = {\"env\": env,\n",
    "                \"name\": \"KP01\", \"geometry\": geojson.Point([52.93917167503315, 5.070195628786471]),\n",
    "                \"capacity\": 5000, \"level\": 0}\n",
    "data_site_15 = {\"env\": env,\n",
    "                \"name\": \"KP15\", \"geometry\": geojson.Point([53.0229621352376,  5.197016484858931]),\n",
    "                \"capacity\": 5000, \"level\": 0}\n",
    "data_site_32 = {\"env\": env,\n",
    "                \"name\": \"KP32\", \"geometry\": geojson.Point([53.06330503232375, 5.310252030674185]),\n",
    "                \"capacity\": 5000, \"level\": 0}\n",
    "\n",
    "# create site objects\n",
    "site_00 = Site(**data_site_00)\n",
    "site_01 = Site(**data_site_01)\n",
    "site_15 = Site(**data_site_15)\n",
    "site_32 = Site(**data_site_32)\n",
    "\n",
    "# print the outputs\n",
    "print(site_00.__dict__)\n",
    "print(site_01.__dict__)\n",
    "print(site_15.__dict__)\n",
    "print(site_32.__dict__)"
   ]
  },
  {
   "cell_type": "code",
   "execution_count": 267,
   "metadata": {},
   "outputs": [
    {
     "name": "stdout",
     "output_type": "stream",
     "text": [
      "{'resource': <simpy.resources.resource.Resource object at 0x000002214CFED470>, 'origin': <__main__.Site object at 0x000002214CFAAE48>, 'destination': <__main__.Site object at 0x000002214CFC2B00>, 'rate': 0.1, 'amount': 0, 'log': [], 't': [], 'value': [], 'geometry': {\"coordinates\": [52.94239823421129, 5.019298185633251], \"type\": \"Point\"}, 'env': <simpy.core.Environment object at 0x000002214CF81C88>, 'name': 'Gantry crane', 'id': '27204308-893f-11e8-9a2e-60f677ba2ce0'}\n",
      "{'origin': <__main__.Site object at 0x000002214CFAAE48>, 'destination': <__main__.Site object at 0x000002214CFC2B00>, 'v_empty': 1.5, 'v_full': 1, 'resource': <simpy.resources.resource.Resource object at 0x000002214CFED390>, 'container': <simpy.resources.container.Container object at 0x000002214CFED7F0>, 'total_requested': 0, 'log': [], 't': [], 'value': [], 'geometry': {\"coordinates\": [52.93917167503315, 5.070195628786471], \"type\": \"Point\"}, 'env': <simpy.core.Environment object at 0x000002214CF81C88>, 'name': 'Transport barge 01', 'id': '2720430a-893f-11e8-bad2-60f677ba2ce0'}\n",
      "{'origin': <__main__.Site object at 0x000002214CFAAE48>, 'destination': <__main__.Site object at 0x000002214CFC2B00>, 'v_empty': 1.5, 'v_full': 1, 'resource': <simpy.resources.resource.Resource object at 0x000002214CFED278>, 'container': <simpy.resources.container.Container object at 0x000002214CFED320>, 'total_requested': 0, 'log': [], 't': [], 'value': [], 'geometry': {\"coordinates\": [52.93917167503315, 5.070195628786471], \"type\": \"Point\"}, 'env': <simpy.core.Environment object at 0x000002214CF81C88>, 'name': 'Transport barge 02', 'id': '2720430b-893f-11e8-a8c3-60f677ba2ce0'}\n",
      "{'resource': <simpy.resources.resource.Resource object at 0x000002214CFED7B8>, 'origin': <__main__.Site object at 0x000002214CFAAE48>, 'destination': <__main__.Site object at 0x000002214CFC2B00>, 'rate': 0.05, 'amount': 0, 'log': [], 't': [], 'value': [], 'geometry': {\"coordinates\": [53.0229621352376, 5.197016484858931], \"type\": \"Point\"}, 'env': <simpy.core.Environment object at 0x000002214CF81C88>, 'name': 'Installation crane', 'id': '27204309-893f-11e8-8842-60f677ba2ce0'}\n"
     ]
    }
   ],
   "source": [
    "# *** Define fleet\n",
    "\n",
    "# sites in database (nr indicates km's from Den Oever haven)\n",
    "# - processing resources\n",
    "data_gantry_crane = {\"env\": env,\n",
    "                \"name\": \"Gantry crane\", \"geometry\": geojson.Point([52.94239823421129, 5.019298185633251]),\n",
    "                \"origin\": site_00, \"destination\": site_01, \"rate\": 0.10, \"nr_resources\": 1}\n",
    "data_installation_crane = {\"env\": env,\n",
    "                \"name\": \"Installation crane\", \"geometry\": geojson.Point([53.0229621352376,  5.197016484858931]),\n",
    "                \"origin\": site_00, \"destination\": site_01, \"rate\": 0.05, \"nr_resources\": 1}\n",
    "\n",
    "# - transport resources\n",
    "data_transport_barge_01 = {\"env\": env,\n",
    "                \"name\": \"Transport barge 01\", \"geometry\": geojson.Point([52.93917167503315, 5.070195628786471]),\n",
    "                \"capacity\": 1000, \"level\": 0, \"nr_resources\": 1, \"origin\": site_00, \"destination\": site_01}\n",
    "data_transport_barge_02 = {\"env\": env,\n",
    "                \"name\": \"Transport barge 02\", \"geometry\": geojson.Point([52.93917167503315, 5.070195628786471]),\n",
    "                \"capacity\": 1000, \"level\": 0, \"nr_resources\": 1, \"origin\": site_00, \"destination\": site_01}\n",
    "\n",
    "# create site objects\n",
    "# - processing resources\n",
    "gantry_crane = Processing_Resource(**data_gantry_crane)\n",
    "installation_crane = Processing_Resource(**data_installation_crane)\n",
    "\n",
    "# - transport resources\n",
    "transport_barge_01 = Transport_Resource(**data_transport_barge_01)\n",
    "transport_barge_02 = Transport_Resource(**data_transport_barge_02)\n",
    "\n",
    "# print the outputs\n",
    "print(gantry_crane.__dict__)\n",
    "print(transport_barge_01.__dict__)\n",
    "print(transport_barge_02.__dict__)\n",
    "print(installation_crane.__dict__)\n"
   ]
  },
  {
   "cell_type": "code",
   "execution_count": 268,
   "metadata": {},
   "outputs": [
    {
     "name": "stdout",
     "output_type": "stream",
     "text": [
      "{'env': <simpy.core.Environment object at 0x000002214CF81C88>, 'name': 'Block placement', 'id': '27254c1a-893f-11e8-8ad6-60f677ba2ce0', 'condition': 'site_01.container.level<5000', 'origin': <__main__.Site object at 0x000002214CFAAE48>, 'destination': <__main__.Site object at 0x000002214CFC2B00>, 'loader': <__main__.Processing_Resource object at 0x000002214CFED208>, 'mover': <__main__.Transport_Resource object at 0x000002214CFED128>, 'unloader': <__main__.Processing_Resource object at 0x000002214CFED198>, 'standing_by_proc': <Process(standing_by) object at 0x2214cfb83c8>, 'installation_proc': <Process(installation_process_control) object at 0x2214cfb8080>, 'installation_reactivate': <Event() object at 0x2214cfb8400>}\n",
      "{'env': <simpy.core.Environment object at 0x000002214CF81C88>, 'name': 'Block placement', 'id': '27257324-893f-11e8-9bf8-60f677ba2ce0', 'condition': 'site_15.container.level<5000 and site_01.container.level>=3000', 'origin': <__main__.Site object at 0x000002214CFAAE48>, 'destination': <__main__.Site object at 0x000002214CFAA978>, 'loader': <__main__.Processing_Resource object at 0x000002214CFED208>, 'mover': <__main__.Transport_Resource object at 0x000002214CFED748>, 'unloader': <__main__.Processing_Resource object at 0x000002214CFED198>, 'standing_by_proc': <Process(standing_by) object at 0x2214cfb89b0>, 'installation_proc': <Process(installation_process_control) object at 0x2214cfb8470>, 'installation_reactivate': <Event() object at 0x2214cfb8d30>}\n"
     ]
    }
   ],
   "source": [
    "# *** Define activties\n",
    "\n",
    "# activities in database\n",
    "data_act_1 = {\"env\": env,\n",
    "              \"name\": \"Block placement\",\n",
    "              \"origin\": site_00, \"destination\": site_01,\n",
    "              \"loader\": gantry_crane, \"mover\": transport_barge_01, \"unloader\": installation_crane,\n",
    "              \"condition\": '''site_01.container.level<5000'''}\n",
    "data_act_2 = {\"env\": env,\n",
    "              \"name\": \"Block placement\",\n",
    "              \"origin\": site_00, \"destination\": site_15,\n",
    "              \"loader\": gantry_crane, \"mover\": transport_barge_02, \"unloader\": installation_crane,\n",
    "              \"condition\": '''site_15.container.level<5000 and site_01.container.level>=3000'''}\n",
    "\n",
    "# create Activity objects\n",
    "act_1 = Installation(**data_act_1)\n",
    "act_2 = Installation(**data_act_2)\n",
    "\n",
    "# print the outputs\n",
    "print(act_1.__dict__)\n",
    "print(act_2.__dict__)\n"
   ]
  },
  {
   "cell_type": "code",
   "execution_count": 269,
   "metadata": {
    "scrolled": false
   },
   "outputs": [
    {
     "name": "stdout",
     "output_type": "stream",
     "text": [
      "T=000.00 Condition: site_01.container.level<5000 is satisfied\n",
      "T=000.00 Block placement to KP01 started\n",
      "amount>0\n",
      "T=000.00 Block placement to KP15 suspended\n",
      "Loading:\n",
      "  KP00 contains: 14000\n",
      "  Transport barge 01 contains: 1000\n",
      "  KP01 contains: 0\n",
      "  sailing full: 1 m/s\n",
      "Unloading:\n",
      "  KP00 contains: 14000\n",
      "  Transport barge 01 contains: 0\n",
      "  KP01 contains: 1000\n",
      "  sailing empty: 1.5 m/s\n",
      "amount>0\n",
      "Loading:\n",
      "  KP00 contains: 13000\n",
      "  Transport barge 01 contains: 1000\n",
      "  KP01 contains: 1000\n",
      "  sailing full: 1 m/s\n",
      "Unloading:\n",
      "  KP00 contains: 13000\n",
      "  Transport barge 01 contains: 0\n",
      "  KP01 contains: 2000\n",
      "  sailing empty: 1.5 m/s\n",
      "amount>0\n",
      "Loading:\n",
      "  KP00 contains: 12000\n",
      "  Transport barge 01 contains: 1000\n",
      "  KP01 contains: 2000\n",
      "  sailing full: 1 m/s\n",
      "Unloading:\n",
      "T=50001.00 Condition: site_15.container.level<5000 and site_01.container.level>=3000 is satisfied\n",
      "T=50001.00 Block placement to KP15 started\n",
      "amount>0\n",
      "Loading:\n",
      "  KP00 contains: 11000\n",
      "  Transport barge 01 contains: 0\n",
      "  KP01 contains: 3000\n",
      "  sailing empty: 1.5 m/s\n",
      "amount>0\n",
      "  KP00 contains: 11000\n",
      "  Transport barge 02 contains: 1000\n",
      "  KP15 contains: 0\n",
      "Loading:\n",
      "  sailing full: 1 m/s\n",
      "Unloading:\n",
      "  KP00 contains: 10000\n",
      "  Transport barge 01 contains: 1000\n",
      "  KP01 contains: 3000\n",
      "  KP00 contains: 10000\n",
      "  Transport barge 02 contains: 0\n",
      "  KP15 contains: 1000\n",
      "  sailing full: 1 m/s\n",
      "Unloading:\n",
      "  sailing empty: 1.5 m/s\n",
      "amount>0\n",
      "Loading:\n",
      "  KP00 contains: 9000\n",
      "  Transport barge 01 contains: 0\n",
      "  KP01 contains: 4000\n",
      "  KP00 contains: 9000\n",
      "  Transport barge 02 contains: 1000\n",
      "  KP15 contains: 1000\n",
      "  sailing empty: 1.5 m/s\n",
      "amount>0\n",
      "Loading:\n",
      "  sailing full: 1 m/s\n",
      "Unloading:\n",
      "  KP00 contains: 8000\n",
      "  Transport barge 01 contains: 1000\n",
      "  KP01 contains: 4000\n",
      "  KP00 contains: 8000\n",
      "  Transport barge 02 contains: 0\n",
      "  KP15 contains: 2000\n",
      "  sailing full: 1 m/s\n",
      "Unloading:\n",
      "  sailing empty: 1.5 m/s\n",
      "amount>0\n",
      "Loading:\n",
      "  KP00 contains: 7000\n",
      "  Transport barge 01 contains: 0\n",
      "  KP01 contains: 5000\n",
      "  KP00 contains: 7000\n",
      "  Transport barge 02 contains: 1000\n",
      "  KP15 contains: 2000\n",
      "  sailing empty: 1.5 m/s\n",
      "  sailing full: 1 m/s\n",
      "Unloading:\n",
      "  KP00 contains: 7000\n",
      "  Transport barge 02 contains: 0\n",
      "  KP15 contains: 3000\n",
      "  sailing empty: 1.5 m/s\n",
      "amount>0\n",
      "Loading:\n",
      "  KP00 contains: 6000\n",
      "  Transport barge 02 contains: 1000\n",
      "  KP15 contains: 3000\n",
      "  sailing full: 1 m/s\n",
      "Unloading:\n",
      "  KP00 contains: 6000\n",
      "  Transport barge 02 contains: 0\n",
      "  KP15 contains: 4000\n",
      "  sailing empty: 1.5 m/s\n",
      "amount>0\n",
      "Loading:\n",
      "  KP00 contains: 5000\n",
      "  Transport barge 02 contains: 1000\n",
      "  KP15 contains: 4000\n",
      "  sailing full: 1 m/s\n",
      "Unloading:\n",
      "  KP00 contains: 5000\n",
      "  Transport barge 02 contains: 0\n",
      "  KP15 contains: 5000\n",
      "  sailing empty: 1.5 m/s\n"
     ]
    }
   ],
   "source": [
    "#*** Run the project\n",
    "env.run()"
   ]
  },
  {
   "cell_type": "markdown",
   "metadata": {},
   "source": [
    "# sandbox"
   ]
  },
  {
   "cell_type": "code",
   "execution_count": 270,
   "metadata": {},
   "outputs": [],
   "source": [
    "# option to create a range of sites between two points\n",
    "start = [52.93917167503315, 5.070195628786471] # Den Oever\n",
    "stop = [53.0229621352376,  5.197016484858931]  # Breezanddijk\n",
    "nums = 50"
   ]
  },
  {
   "cell_type": "code",
   "execution_count": 271,
   "metadata": {},
   "outputs": [],
   "source": [
    "lats = np.linspace(start[0], start[1], num=nums)\n",
    "lons = np.linspace(stop[0],  stop[1],  num=nums)\n",
    "\n",
    "for i in range(nums):\n",
    "    data_site = {\"env\": env,\n",
    "                \"name\": \"KP\" + format(i,'02.0f'), \"geometry\": geojson.Point([lats[i], lons[i]]),\n",
    "                \"capacity\": 5000, \"level\": 0}\n",
    "    vars()['Site_' + \"KP\" + format(i,'02.0f')] = Site(**data_site)\n",
    "    \n"
   ]
  },
  {
   "cell_type": "code",
   "execution_count": 272,
   "metadata": {},
   "outputs": [
    {
     "data": {
      "text/plain": [
       "{'container': <simpy.resources.container.Container at 0x2214cfc2438>,\n",
       " 'env': <simpy.core.Environment at 0x2214cf81c88>,\n",
       " 'geometry': {\"coordinates\": [52.93917167503315, 53.0229621352376], \"type\": \"Point\"},\n",
       " 'id': '27afce18-893f-11e8-85b8-60f677ba2ce0',\n",
       " 'log': [],\n",
       " 'name': 'KP00',\n",
       " 't': [],\n",
       " 'total_requested': 0,\n",
       " 'value': []}"
      ]
     },
     "execution_count": 272,
     "metadata": {},
     "output_type": "execute_result"
    }
   ],
   "source": [
    "Site_KP00.__dict__"
   ]
  },
  {
   "cell_type": "code",
   "execution_count": 273,
   "metadata": {},
   "outputs": [
    {
     "data": {
      "text/plain": [
       "51.96225379653832"
      ]
     },
     "execution_count": 273,
     "metadata": {},
     "output_type": "execute_result"
    }
   ],
   "source": [
    "lats[1]"
   ]
  },
  {
   "cell_type": "code",
   "execution_count": 274,
   "metadata": {},
   "outputs": [
    {
     "name": "stdout",
     "output_type": "stream",
     "text": [
      "[5.07019563 5.07278381 5.07537199 5.07796017 5.08054835 5.08313653\n",
      " 5.08572471 5.08831289 5.09090107 5.09348926 5.09607744 5.09866562\n",
      " 5.1012538  5.10384198 5.10643016 5.10901834 5.11160652 5.1141947\n",
      " 5.11678288 5.11937106 5.12195924 5.12454742 5.1271356  5.12972379\n",
      " 5.13231197 5.13490015 5.13748833 5.14007651 5.14266469 5.14525287\n",
      " 5.14784105 5.15042923 5.15301741 5.15560559 5.15819377 5.16078195\n",
      " 5.16337014 5.16595832 5.1685465  5.17113468 5.17372286 5.17631104\n",
      " 5.17889922 5.1814874  5.18407558 5.18666376 5.18925194 5.19184012\n",
      " 5.1944283  5.19701648]\n",
      "[52.93917168 52.94088168 52.94259169 52.9443017  52.94601171 52.94772172\n",
      " 52.94943173 52.95114174 52.95285175 52.95456176 52.95627177 52.95798178\n",
      " 52.95969179 52.9614018  52.96311181 52.96482182 52.96653183 52.96824183\n",
      " 52.96995184 52.97166185 52.97337186 52.97508187 52.97679188 52.97850189\n",
      " 52.9802119  52.98192191 52.98363192 52.98534193 52.98705194 52.98876195\n",
      " 52.99047196 52.99218197 52.99389198 52.99560198 52.99731199 52.999022\n",
      " 53.00073201 53.00244202 53.00415203 53.00586204 53.00757205 53.00928206\n",
      " 53.01099207 53.01270208 53.01441209 53.0161221  53.01783211 53.01954212\n",
      " 53.02125213 53.02296214]\n"
     ]
    }
   ],
   "source": [
    "import numpy as np\n",
    "\n",
    "print(np.linspace(5.070195628786471, 5.197016484858931, num=50))\n",
    "print(np.linspace(52.93917167503315, 53.0229621352376, num=50))\n",
    "\n",
    "# Den Oever\n",
    "# <longitude>5.070195628786471</longitude>\n",
    "# <latitude>52.93917167503315</latitude>\n",
    "\n",
    "# Breezanddijk\n",
    "# <longitude>5.197016484858931</longitude>\n",
    "# <latitude>53.0229621352376</latitude>"
   ]
  },
  {
   "cell_type": "code",
   "execution_count": 275,
   "metadata": {},
   "outputs": [
    {
     "name": "stdout",
     "output_type": "stream",
     "text": [
      "0\n",
      "1\n",
      "2\n",
      "3\n",
      "4\n",
      "5\n",
      "6\n",
      "7\n",
      "8\n",
      "9\n",
      "10\n",
      "11\n",
      "12\n",
      "13\n",
      "14\n",
      "15\n",
      "16\n",
      "17\n",
      "18\n",
      "19\n",
      "20\n",
      "21\n",
      "22\n",
      "23\n",
      "24\n",
      "25\n",
      "26\n",
      "27\n",
      "28\n",
      "29\n",
      "30\n",
      "31\n",
      "32\n",
      "33\n",
      "34\n",
      "35\n",
      "36\n",
      "37\n",
      "38\n",
      "39\n",
      "40\n",
      "41\n",
      "42\n",
      "43\n",
      "44\n",
      "45\n",
      "46\n",
      "47\n",
      "48\n",
      "49\n"
     ]
    }
   ],
   "source": [
    "for i in range(50):\n",
    "    print(i)"
   ]
  },
  {
   "cell_type": "code",
   "execution_count": 276,
   "metadata": {},
   "outputs": [],
   "source": [
    "# Den Oever\n",
    "# <longitude>5.070195628786471</longitude>\n",
    "# <latitude>52.93917167503315</latitude>\n",
    "\n",
    "# Breezanddijk\n",
    "# <longitude>5.197016484858931</longitude>\n",
    "# <latitude>53.0229621352376</latitude>"
   ]
  }
 ],
 "metadata": {
  "kernelspec": {
   "display_name": "Python 3",
   "language": "python",
   "name": "python3"
  },
  "language_info": {
   "codemirror_mode": {
    "name": "ipython",
    "version": 3
   },
   "file_extension": ".py",
   "mimetype": "text/x-python",
   "name": "python",
   "nbconvert_exporter": "python",
   "pygments_lexer": "ipython3",
   "version": "3.6.3"
  }
 },
 "nbformat": 4,
 "nbformat_minor": 2
}
